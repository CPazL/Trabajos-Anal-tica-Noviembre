{
  "nbformat": 4,
  "nbformat_minor": 0,
  "metadata": {
    "colab": {
      "provenance": [],
      "collapsed_sections": []
    },
    "kernelspec": {
      "name": "python3",
      "display_name": "Python 3"
    },
    "language_info": {
      "name": "python"
    }
  },
  "cells": [
    {
      "cell_type": "code",
      "execution_count": 1,
      "metadata": {
        "id": "BYL47DPVWas7"
      },
      "outputs": [],
      "source": [
        "import pandas as pd\n",
        "import numpy as np\n",
        "import plotly.express as px"
      ]
    },
    {
      "cell_type": "code",
      "source": [
        "df_sucio = pd.read_csv(\"/content/drive/MyDrive/Colab Notebooks/Clases curso analitycs octubre/Clase IV/Dataset/neymarSucio.csv\")\n"
      ],
      "metadata": {
        "id": "Anly-QYUXUE6"
      },
      "execution_count": 2,
      "outputs": []
    },
    {
      "cell_type": "code",
      "source": [
        "print(f\"El dataframe de neymar tiene {df_sucio.shape[0]} filas\")"
      ],
      "metadata": {
        "id": "VRpIIaRmXcWa",
        "colab": {
          "base_uri": "https://localhost:8080/"
        },
        "outputId": "dbeeca61-51ce-4930-d14f-b26db6fa9e1a"
      },
      "execution_count": 3,
      "outputs": [
        {
          "output_type": "stream",
          "name": "stdout",
          "text": [
            "El dataframe de neymar tiene 423 filas\n"
          ]
        }
      ]
    },
    {
      "cell_type": "code",
      "source": [
        "print(f\"El dataframe de neymar tiene {df_sucio.shape[1]} columnas\")"
      ],
      "metadata": {
        "id": "Gfpx-ZHJXhx8",
        "colab": {
          "base_uri": "https://localhost:8080/"
        },
        "outputId": "be6993ca-5b42-4b94-9689-db315bea9b89"
      },
      "execution_count": 4,
      "outputs": [
        {
          "output_type": "stream",
          "name": "stdout",
          "text": [
            "El dataframe de neymar tiene 13 columnas\n"
          ]
        }
      ]
    },
    {
      "cell_type": "code",
      "source": [
        "df_sucio.head(11)"
      ],
      "metadata": {
        "colab": {
          "base_uri": "https://localhost:8080/",
          "height": 438
        },
        "id": "0D-xqQBVXFYK",
        "outputId": "a48322a7-08e0-4388-d32c-22d7ee830e0b"
      },
      "execution_count": 5,
      "outputs": [
        {
          "output_type": "execute_result",
          "data": {
            "text/plain": [
              "   Tournament Matchday      Date Venue       Club  \\\n",
              "0    Série A         7   6/21/09  Home  Santos FC   \n",
              "1    Série A        11   7/15/09  Home  Santos FC   \n",
              "2    Série A        13   7/22/09  Home  Santos FC   \n",
              "3    Série A        15   7/29/09  Away  Santos FC   \n",
              "4    Série A        34   11/7/09  Home  Santos FC   \n",
              "5    Série A        34   11/7/09  Home  Santos FC   \n",
              "6    Série A        35  11/15/09  Away  Santos FC   \n",
              "7    Série A        36  11/22/09  Home  Santos FC   \n",
              "8    Série A        36  11/22/09  Home  Santos FC   \n",
              "9    Série A        38   12/6/09  Home  Santos FC   \n",
              "10   Série A         1    5/8/10  Away  Santos FC   \n",
              "\n",
              "                         Opponent Result        Position Minute When Scored  \\\n",
              "0          Clube Atlético Mineiro    2:3  Not Applicable    45'         1:0   \n",
              "1    Grêmio Barueri Futebol Ltda.    3:3  Not Applicable    88'         3:3   \n",
              "2             Atlético Paranaense    1:0  Not Applicable    72'         1:0   \n",
              "3        Clube Náutico Capibaribe    1:2  Not Applicable    67'         0:1   \n",
              "4        Clube Náutico Capibaribe    3:1  Not Applicable    58'         2:0   \n",
              "5        Clube Náutico Capibaribe    3:1  Not Applicable    89'         3:1   \n",
              "6        Sport Club Internacional    3:1  Not Applicable    63'         2:1   \n",
              "7         Coritiba Foot Ball Club    4:0  Not Applicable    64'         3:0   \n",
              "8         Coritiba Foot Ball Club    4:0  Not Applicable    88'         4:0   \n",
              "9          Cruzeiro Esporte Clube    1:2  Not Applicable    70'         1:1   \n",
              "10  Botafogo de Futebol e Regatas    3:3  Not Applicable    29'         1:1   \n",
              "\n",
              "            Goal Type          Assist  Estatura  \n",
              "0    Left-footed shot  Not Applicable      1.75  \n",
              "1              Header        Luizinho      1.75  \n",
              "2    Left-footed shot            Roni      1.75  \n",
              "3              Header          Madson      1.75  \n",
              "4   Right-footed shot          Madson      1.75  \n",
              "5    Left-footed shot          Madson      1.75  \n",
              "6   Right-footed shot  Felipe Azevedo      1.75  \n",
              "7    Left-footed shot          Madson      1.75  \n",
              "8   Right-footed shot           Ganso      1.75  \n",
              "9   Right-footed shot  Not Applicable      1.75  \n",
              "10  Right-footed shot      Marquinhos      1.75  "
            ],
            "text/html": [
              "\n",
              "  <div id=\"df-3aca41bb-fe95-4ddf-b2b6-9c42ef2ca54d\">\n",
              "    <div class=\"colab-df-container\">\n",
              "      <div>\n",
              "<style scoped>\n",
              "    .dataframe tbody tr th:only-of-type {\n",
              "        vertical-align: middle;\n",
              "    }\n",
              "\n",
              "    .dataframe tbody tr th {\n",
              "        vertical-align: top;\n",
              "    }\n",
              "\n",
              "    .dataframe thead th {\n",
              "        text-align: right;\n",
              "    }\n",
              "</style>\n",
              "<table border=\"1\" class=\"dataframe\">\n",
              "  <thead>\n",
              "    <tr style=\"text-align: right;\">\n",
              "      <th></th>\n",
              "      <th>Tournament</th>\n",
              "      <th>Matchday</th>\n",
              "      <th>Date</th>\n",
              "      <th>Venue</th>\n",
              "      <th>Club</th>\n",
              "      <th>Opponent</th>\n",
              "      <th>Result</th>\n",
              "      <th>Position</th>\n",
              "      <th>Minute</th>\n",
              "      <th>When Scored</th>\n",
              "      <th>Goal Type</th>\n",
              "      <th>Assist</th>\n",
              "      <th>Estatura</th>\n",
              "    </tr>\n",
              "  </thead>\n",
              "  <tbody>\n",
              "    <tr>\n",
              "      <th>0</th>\n",
              "      <td>Série A</td>\n",
              "      <td>7</td>\n",
              "      <td>6/21/09</td>\n",
              "      <td>Home</td>\n",
              "      <td>Santos FC</td>\n",
              "      <td>Clube Atlético Mineiro</td>\n",
              "      <td>2:3</td>\n",
              "      <td>Not Applicable</td>\n",
              "      <td>45'</td>\n",
              "      <td>1:0</td>\n",
              "      <td>Left-footed shot</td>\n",
              "      <td>Not Applicable</td>\n",
              "      <td>1.75</td>\n",
              "    </tr>\n",
              "    <tr>\n",
              "      <th>1</th>\n",
              "      <td>Série A</td>\n",
              "      <td>11</td>\n",
              "      <td>7/15/09</td>\n",
              "      <td>Home</td>\n",
              "      <td>Santos FC</td>\n",
              "      <td>Grêmio Barueri Futebol Ltda.</td>\n",
              "      <td>3:3</td>\n",
              "      <td>Not Applicable</td>\n",
              "      <td>88'</td>\n",
              "      <td>3:3</td>\n",
              "      <td>Header</td>\n",
              "      <td>Luizinho</td>\n",
              "      <td>1.75</td>\n",
              "    </tr>\n",
              "    <tr>\n",
              "      <th>2</th>\n",
              "      <td>Série A</td>\n",
              "      <td>13</td>\n",
              "      <td>7/22/09</td>\n",
              "      <td>Home</td>\n",
              "      <td>Santos FC</td>\n",
              "      <td>Atlético Paranaense</td>\n",
              "      <td>1:0</td>\n",
              "      <td>Not Applicable</td>\n",
              "      <td>72'</td>\n",
              "      <td>1:0</td>\n",
              "      <td>Left-footed shot</td>\n",
              "      <td>Roni</td>\n",
              "      <td>1.75</td>\n",
              "    </tr>\n",
              "    <tr>\n",
              "      <th>3</th>\n",
              "      <td>Série A</td>\n",
              "      <td>15</td>\n",
              "      <td>7/29/09</td>\n",
              "      <td>Away</td>\n",
              "      <td>Santos FC</td>\n",
              "      <td>Clube Náutico Capibaribe</td>\n",
              "      <td>1:2</td>\n",
              "      <td>Not Applicable</td>\n",
              "      <td>67'</td>\n",
              "      <td>0:1</td>\n",
              "      <td>Header</td>\n",
              "      <td>Madson</td>\n",
              "      <td>1.75</td>\n",
              "    </tr>\n",
              "    <tr>\n",
              "      <th>4</th>\n",
              "      <td>Série A</td>\n",
              "      <td>34</td>\n",
              "      <td>11/7/09</td>\n",
              "      <td>Home</td>\n",
              "      <td>Santos FC</td>\n",
              "      <td>Clube Náutico Capibaribe</td>\n",
              "      <td>3:1</td>\n",
              "      <td>Not Applicable</td>\n",
              "      <td>58'</td>\n",
              "      <td>2:0</td>\n",
              "      <td>Right-footed shot</td>\n",
              "      <td>Madson</td>\n",
              "      <td>1.75</td>\n",
              "    </tr>\n",
              "    <tr>\n",
              "      <th>5</th>\n",
              "      <td>Série A</td>\n",
              "      <td>34</td>\n",
              "      <td>11/7/09</td>\n",
              "      <td>Home</td>\n",
              "      <td>Santos FC</td>\n",
              "      <td>Clube Náutico Capibaribe</td>\n",
              "      <td>3:1</td>\n",
              "      <td>Not Applicable</td>\n",
              "      <td>89'</td>\n",
              "      <td>3:1</td>\n",
              "      <td>Left-footed shot</td>\n",
              "      <td>Madson</td>\n",
              "      <td>1.75</td>\n",
              "    </tr>\n",
              "    <tr>\n",
              "      <th>6</th>\n",
              "      <td>Série A</td>\n",
              "      <td>35</td>\n",
              "      <td>11/15/09</td>\n",
              "      <td>Away</td>\n",
              "      <td>Santos FC</td>\n",
              "      <td>Sport Club Internacional</td>\n",
              "      <td>3:1</td>\n",
              "      <td>Not Applicable</td>\n",
              "      <td>63'</td>\n",
              "      <td>2:1</td>\n",
              "      <td>Right-footed shot</td>\n",
              "      <td>Felipe Azevedo</td>\n",
              "      <td>1.75</td>\n",
              "    </tr>\n",
              "    <tr>\n",
              "      <th>7</th>\n",
              "      <td>Série A</td>\n",
              "      <td>36</td>\n",
              "      <td>11/22/09</td>\n",
              "      <td>Home</td>\n",
              "      <td>Santos FC</td>\n",
              "      <td>Coritiba Foot Ball Club</td>\n",
              "      <td>4:0</td>\n",
              "      <td>Not Applicable</td>\n",
              "      <td>64'</td>\n",
              "      <td>3:0</td>\n",
              "      <td>Left-footed shot</td>\n",
              "      <td>Madson</td>\n",
              "      <td>1.75</td>\n",
              "    </tr>\n",
              "    <tr>\n",
              "      <th>8</th>\n",
              "      <td>Série A</td>\n",
              "      <td>36</td>\n",
              "      <td>11/22/09</td>\n",
              "      <td>Home</td>\n",
              "      <td>Santos FC</td>\n",
              "      <td>Coritiba Foot Ball Club</td>\n",
              "      <td>4:0</td>\n",
              "      <td>Not Applicable</td>\n",
              "      <td>88'</td>\n",
              "      <td>4:0</td>\n",
              "      <td>Right-footed shot</td>\n",
              "      <td>Ganso</td>\n",
              "      <td>1.75</td>\n",
              "    </tr>\n",
              "    <tr>\n",
              "      <th>9</th>\n",
              "      <td>Série A</td>\n",
              "      <td>38</td>\n",
              "      <td>12/6/09</td>\n",
              "      <td>Home</td>\n",
              "      <td>Santos FC</td>\n",
              "      <td>Cruzeiro Esporte Clube</td>\n",
              "      <td>1:2</td>\n",
              "      <td>Not Applicable</td>\n",
              "      <td>70'</td>\n",
              "      <td>1:1</td>\n",
              "      <td>Right-footed shot</td>\n",
              "      <td>Not Applicable</td>\n",
              "      <td>1.75</td>\n",
              "    </tr>\n",
              "    <tr>\n",
              "      <th>10</th>\n",
              "      <td>Série A</td>\n",
              "      <td>1</td>\n",
              "      <td>5/8/10</td>\n",
              "      <td>Away</td>\n",
              "      <td>Santos FC</td>\n",
              "      <td>Botafogo de Futebol e Regatas</td>\n",
              "      <td>3:3</td>\n",
              "      <td>Not Applicable</td>\n",
              "      <td>29'</td>\n",
              "      <td>1:1</td>\n",
              "      <td>Right-footed shot</td>\n",
              "      <td>Marquinhos</td>\n",
              "      <td>1.75</td>\n",
              "    </tr>\n",
              "  </tbody>\n",
              "</table>\n",
              "</div>\n",
              "      <button class=\"colab-df-convert\" onclick=\"convertToInteractive('df-3aca41bb-fe95-4ddf-b2b6-9c42ef2ca54d')\"\n",
              "              title=\"Convert this dataframe to an interactive table.\"\n",
              "              style=\"display:none;\">\n",
              "        \n",
              "  <svg xmlns=\"http://www.w3.org/2000/svg\" height=\"24px\"viewBox=\"0 0 24 24\"\n",
              "       width=\"24px\">\n",
              "    <path d=\"M0 0h24v24H0V0z\" fill=\"none\"/>\n",
              "    <path d=\"M18.56 5.44l.94 2.06.94-2.06 2.06-.94-2.06-.94-.94-2.06-.94 2.06-2.06.94zm-11 1L8.5 8.5l.94-2.06 2.06-.94-2.06-.94L8.5 2.5l-.94 2.06-2.06.94zm10 10l.94 2.06.94-2.06 2.06-.94-2.06-.94-.94-2.06-.94 2.06-2.06.94z\"/><path d=\"M17.41 7.96l-1.37-1.37c-.4-.4-.92-.59-1.43-.59-.52 0-1.04.2-1.43.59L10.3 9.45l-7.72 7.72c-.78.78-.78 2.05 0 2.83L4 21.41c.39.39.9.59 1.41.59.51 0 1.02-.2 1.41-.59l7.78-7.78 2.81-2.81c.8-.78.8-2.07 0-2.86zM5.41 20L4 18.59l7.72-7.72 1.47 1.35L5.41 20z\"/>\n",
              "  </svg>\n",
              "      </button>\n",
              "      \n",
              "  <style>\n",
              "    .colab-df-container {\n",
              "      display:flex;\n",
              "      flex-wrap:wrap;\n",
              "      gap: 12px;\n",
              "    }\n",
              "\n",
              "    .colab-df-convert {\n",
              "      background-color: #E8F0FE;\n",
              "      border: none;\n",
              "      border-radius: 50%;\n",
              "      cursor: pointer;\n",
              "      display: none;\n",
              "      fill: #1967D2;\n",
              "      height: 32px;\n",
              "      padding: 0 0 0 0;\n",
              "      width: 32px;\n",
              "    }\n",
              "\n",
              "    .colab-df-convert:hover {\n",
              "      background-color: #E2EBFA;\n",
              "      box-shadow: 0px 1px 2px rgba(60, 64, 67, 0.3), 0px 1px 3px 1px rgba(60, 64, 67, 0.15);\n",
              "      fill: #174EA6;\n",
              "    }\n",
              "\n",
              "    [theme=dark] .colab-df-convert {\n",
              "      background-color: #3B4455;\n",
              "      fill: #D2E3FC;\n",
              "    }\n",
              "\n",
              "    [theme=dark] .colab-df-convert:hover {\n",
              "      background-color: #434B5C;\n",
              "      box-shadow: 0px 1px 3px 1px rgba(0, 0, 0, 0.15);\n",
              "      filter: drop-shadow(0px 1px 2px rgba(0, 0, 0, 0.3));\n",
              "      fill: #FFFFFF;\n",
              "    }\n",
              "  </style>\n",
              "\n",
              "      <script>\n",
              "        const buttonEl =\n",
              "          document.querySelector('#df-3aca41bb-fe95-4ddf-b2b6-9c42ef2ca54d button.colab-df-convert');\n",
              "        buttonEl.style.display =\n",
              "          google.colab.kernel.accessAllowed ? 'block' : 'none';\n",
              "\n",
              "        async function convertToInteractive(key) {\n",
              "          const element = document.querySelector('#df-3aca41bb-fe95-4ddf-b2b6-9c42ef2ca54d');\n",
              "          const dataTable =\n",
              "            await google.colab.kernel.invokeFunction('convertToInteractive',\n",
              "                                                     [key], {});\n",
              "          if (!dataTable) return;\n",
              "\n",
              "          const docLinkHtml = 'Like what you see? Visit the ' +\n",
              "            '<a target=\"_blank\" href=https://colab.research.google.com/notebooks/data_table.ipynb>data table notebook</a>'\n",
              "            + ' to learn more about interactive tables.';\n",
              "          element.innerHTML = '';\n",
              "          dataTable['output_type'] = 'display_data';\n",
              "          await google.colab.output.renderOutput(dataTable, element);\n",
              "          const docLink = document.createElement('div');\n",
              "          docLink.innerHTML = docLinkHtml;\n",
              "          element.appendChild(docLink);\n",
              "        }\n",
              "      </script>\n",
              "    </div>\n",
              "  </div>\n",
              "  "
            ]
          },
          "metadata": {},
          "execution_count": 5
        }
      ]
    },
    {
      "cell_type": "code",
      "source": [
        "df_sucio.rename(columns={\"Tournament\":\"Torneo\",\n",
        "                         \"Matchday\":\"Jornada\",\n",
        "                         \"Date\":\"Fecha\",\n",
        "                         \"Venue\":\"Evento\",\n",
        "                         \"Club\":\"Equipo\",\n",
        "                         \"Opponent\":\"Oponente\",\n",
        "                         \"Result\":\"Resultado\",\n",
        "                         \"Position\":\"Posición\",\n",
        "                         \"Minute\":\"Minuto\",\n",
        "                         \"When Scored\":\"Momento de anotación\",\n",
        "                         \"Goal Type\":\"Tipo de gol\",\n",
        "                         \"Assist\":\"Asistente\",\n",
        "                         \"Estatura\":\"Altura\"}, inplace=True)"
      ],
      "metadata": {
        "id": "wtSapOCNYJik"
      },
      "execution_count": 6,
      "outputs": []
    },
    {
      "cell_type": "code",
      "source": [
        "df_sucio.columns"
      ],
      "metadata": {
        "colab": {
          "base_uri": "https://localhost:8080/"
        },
        "id": "-cCxrV5raHhh",
        "outputId": "ce738cbb-a214-43f8-a3a4-0e960f450ea6"
      },
      "execution_count": 7,
      "outputs": [
        {
          "output_type": "execute_result",
          "data": {
            "text/plain": [
              "Index(['Torneo', 'Jornada', 'Fecha', 'Evento', 'Equipo', 'Oponente',\n",
              "       'Resultado', 'Posición', 'Minuto', 'Momento de anotación',\n",
              "       'Tipo de gol', 'Asistente', 'Altura'],\n",
              "      dtype='object')"
            ]
          },
          "metadata": {},
          "execution_count": 7
        }
      ]
    },
    {
      "cell_type": "code",
      "source": [
        "df_sucio.info()"
      ],
      "metadata": {
        "colab": {
          "base_uri": "https://localhost:8080/"
        },
        "id": "h9o8CP0rYEQt",
        "outputId": "0f8d2ef3-e9cd-43bd-978f-bf973c862ff3"
      },
      "execution_count": 8,
      "outputs": [
        {
          "output_type": "stream",
          "name": "stdout",
          "text": [
            "<class 'pandas.core.frame.DataFrame'>\n",
            "RangeIndex: 423 entries, 0 to 422\n",
            "Data columns (total 13 columns):\n",
            " #   Column                Non-Null Count  Dtype  \n",
            "---  ------                --------------  -----  \n",
            " 0   Torneo                306 non-null    object \n",
            " 1   Jornada               306 non-null    object \n",
            " 2   Fecha                 306 non-null    object \n",
            " 3   Evento                306 non-null    object \n",
            " 4   Equipo                306 non-null    object \n",
            " 5   Oponente              306 non-null    object \n",
            " 6   Resultado             306 non-null    object \n",
            " 7   Posición              306 non-null    object \n",
            " 8   Minuto                306 non-null    object \n",
            " 9   Momento de anotación  306 non-null    object \n",
            " 10  Tipo de gol           306 non-null    object \n",
            " 11  Asistente             306 non-null    object \n",
            " 12  Altura                306 non-null    float64\n",
            "dtypes: float64(1), object(12)\n",
            "memory usage: 43.1+ KB\n"
          ]
        }
      ]
    },
    {
      "cell_type": "code",
      "source": [
        "df_sucio[\"Torneo\"] = df_sucio[\"Torneo\"].astype(\"string\")\n",
        "df_sucio[\"Jornada\"] = df_sucio[\"Jornada\"].astype(\"string\")\n",
        "df_sucio[\"Fecha\"] = pd.to_datetime(df_sucio[\"Fecha\"])\n",
        "df_sucio[\"Evento\"] = df_sucio[\"Evento\"].astype(\"string\")\n",
        "df_sucio[\"Equipo\"] = df_sucio[\"Equipo\"].astype(\"string\")\n",
        "df_sucio[\"Oponente\"] = df_sucio[\"Oponente\"].astype(\"string\")\n",
        "df_sucio[\"Resultado\"] = df_sucio[\"Resultado\"].astype(\"string\")\n",
        "df_sucio[\"Posición\"] = df_sucio[\"Posición\"].astype(\"string\")\n",
        "df_sucio[\"Minuto\"] = df_sucio[\"Minuto\"].astype(\"string\")\n",
        "df_sucio[\"Momento de anotación\"] = df_sucio[\"Momento de anotación\"].astype(\"string\")\n",
        "df_sucio[\"Tipo de gol\"] = df_sucio[\"Tipo de gol\"].astype(\"string\")\n",
        "df_sucio[\"Asistente\"] = df_sucio[\"Asistente\"].astype(\"string\")\n",
        "df_sucio[\"Altura\"] = df_sucio[\"Altura\"].astype(\"string\")\n"
      ],
      "metadata": {
        "id": "Yjb93tu9a7ji"
      },
      "execution_count": 9,
      "outputs": []
    },
    {
      "cell_type": "code",
      "source": [
        "df_sucio.info()"
      ],
      "metadata": {
        "colab": {
          "base_uri": "https://localhost:8080/"
        },
        "id": "n5BlWGbabH9Z",
        "outputId": "7596aa55-63f1-4bcc-d0e3-9d5e1c370f3c"
      },
      "execution_count": 10,
      "outputs": [
        {
          "output_type": "stream",
          "name": "stdout",
          "text": [
            "<class 'pandas.core.frame.DataFrame'>\n",
            "RangeIndex: 423 entries, 0 to 422\n",
            "Data columns (total 13 columns):\n",
            " #   Column                Non-Null Count  Dtype         \n",
            "---  ------                --------------  -----         \n",
            " 0   Torneo                306 non-null    string        \n",
            " 1   Jornada               306 non-null    string        \n",
            " 2   Fecha                 306 non-null    datetime64[ns]\n",
            " 3   Evento                306 non-null    string        \n",
            " 4   Equipo                306 non-null    string        \n",
            " 5   Oponente              306 non-null    string        \n",
            " 6   Resultado             306 non-null    string        \n",
            " 7   Posición              306 non-null    string        \n",
            " 8   Minuto                306 non-null    string        \n",
            " 9   Momento de anotación  306 non-null    string        \n",
            " 10  Tipo de gol           306 non-null    string        \n",
            " 11  Asistente             306 non-null    string        \n",
            " 12  Altura                306 non-null    string        \n",
            "dtypes: datetime64[ns](1), string(12)\n",
            "memory usage: 43.1 KB\n"
          ]
        }
      ]
    },
    {
      "cell_type": "code",
      "source": [
        "df_sucio.drop(\"Altura\",axis=1, inplace=True)"
      ],
      "metadata": {
        "id": "xOcMr9TGfN6g"
      },
      "execution_count": 11,
      "outputs": []
    },
    {
      "cell_type": "code",
      "source": [
        "df_sucio = df_sucio.drop_duplicates()\n",
        "df_sucio.shape"
      ],
      "metadata": {
        "colab": {
          "base_uri": "https://localhost:8080/"
        },
        "id": "zSOTKn2YgLb5",
        "outputId": "5dd80950-8f30-48ea-a23e-2f86db819707"
      },
      "execution_count": 12,
      "outputs": [
        {
          "output_type": "execute_result",
          "data": {
            "text/plain": [
              "(287, 12)"
            ]
          },
          "metadata": {},
          "execution_count": 12
        }
      ]
    },
    {
      "cell_type": "code",
      "source": [
        "df_sucio[\"Jornada\"].unique()"
      ],
      "metadata": {
        "colab": {
          "base_uri": "https://localhost:8080/"
        },
        "id": "wGg3O_sGQjnn",
        "outputId": "899e20de-cf49-48af-fc46-729d098186e4"
      },
      "execution_count": 13,
      "outputs": [
        {
          "output_type": "execute_result",
          "data": {
            "text/plain": [
              "<StringArray>\n",
              "[             '7',             '11',             '13',             '15',\n",
              "             '34',             '35',             '36',             '38',\n",
              "              '1',              '2',              '4',             '16',\n",
              "             '18',             '24',             '25',             '30',\n",
              "             '33',             '37',    'group stage', 'Quarter-Finals',\n",
              "    'Semi-Finals',          'final',             '12',             '27',\n",
              "             '21',             '31',             '32',    'Group Stage',\n",
              "        'last 16',              '6',              '8',             '17',\n",
              "             '19',             '10',      '4th round',              '3',\n",
              "              '9',             '20',             '22',             '23',\n",
              "          'Final',              '5',             '29',             '26',\n",
              "             '14',    'Third Round',             '28',             <NA>]\n",
              "Length: 48, dtype: string"
            ]
          },
          "metadata": {},
          "execution_count": 13
        }
      ]
    },
    {
      "cell_type": "code",
      "source": [
        "df_sucio.dropna(inplace=True)\n",
        "df_sucio.shape"
      ],
      "metadata": {
        "colab": {
          "base_uri": "https://localhost:8080/"
        },
        "id": "9GNvqMsbQQCg",
        "outputId": "1dd1f25f-5227-4669-aa4c-e8d5762cca3e"
      },
      "execution_count": 14,
      "outputs": [
        {
          "output_type": "execute_result",
          "data": {
            "text/plain": [
              "(286, 12)"
            ]
          },
          "metadata": {},
          "execution_count": 14
        }
      ]
    },
    {
      "cell_type": "markdown",
      "source": [
        "***Analisis:***\n",
        "\n",
        "*   Calcular el total de goles registrados hasta la fecha\n",
        "*   Calcular el promedio de goles por Torneo.\n",
        "*   Calcular porcentaje de goles realizados como visitante(Away) y local(Home) con respecto al total de goles.\n",
        "*   A que oponente le metió más goles.\n",
        "*   Contra que oponente jugó más fechas.\n",
        "*   Realiza un caso de uso a gusto , osea analiza lo que gustes. Es libre!\n",
        "*   Realizar al menos tres gráficos con plotly, a gusto!"
      ],
      "metadata": {
        "id": "bTD60mCsFUcE"
      }
    },
    {
      "cell_type": "code",
      "source": [
        "df_sucio[df_sucio[\"Fecha\"]==\"2009-11-07\"]"
      ],
      "metadata": {
        "colab": {
          "base_uri": "https://localhost:8080/",
          "height": 112
        },
        "id": "eXV6LTA9OebY",
        "outputId": "68a11c45-440a-4ea3-8ca8-4cfc50117feb"
      },
      "execution_count": 15,
      "outputs": [
        {
          "output_type": "execute_result",
          "data": {
            "text/plain": [
              "     Torneo Jornada      Fecha Evento     Equipo                  Oponente  \\\n",
              "4  Série A       34 2009-11-07   Home  Santos FC  Clube Náutico Capibaribe   \n",
              "5  Série A       34 2009-11-07   Home  Santos FC  Clube Náutico Capibaribe   \n",
              "\n",
              "  Resultado        Posición Minuto Momento de anotación        Tipo de gol  \\\n",
              "4       3:1  Not Applicable    58'                  2:0  Right-footed shot   \n",
              "5       3:1  Not Applicable    89'                  3:1   Left-footed shot   \n",
              "\n",
              "  Asistente  \n",
              "4    Madson  \n",
              "5    Madson  "
            ],
            "text/html": [
              "\n",
              "  <div id=\"df-c9bfddc2-fcf5-4642-8915-97804f6589bf\">\n",
              "    <div class=\"colab-df-container\">\n",
              "      <div>\n",
              "<style scoped>\n",
              "    .dataframe tbody tr th:only-of-type {\n",
              "        vertical-align: middle;\n",
              "    }\n",
              "\n",
              "    .dataframe tbody tr th {\n",
              "        vertical-align: top;\n",
              "    }\n",
              "\n",
              "    .dataframe thead th {\n",
              "        text-align: right;\n",
              "    }\n",
              "</style>\n",
              "<table border=\"1\" class=\"dataframe\">\n",
              "  <thead>\n",
              "    <tr style=\"text-align: right;\">\n",
              "      <th></th>\n",
              "      <th>Torneo</th>\n",
              "      <th>Jornada</th>\n",
              "      <th>Fecha</th>\n",
              "      <th>Evento</th>\n",
              "      <th>Equipo</th>\n",
              "      <th>Oponente</th>\n",
              "      <th>Resultado</th>\n",
              "      <th>Posición</th>\n",
              "      <th>Minuto</th>\n",
              "      <th>Momento de anotación</th>\n",
              "      <th>Tipo de gol</th>\n",
              "      <th>Asistente</th>\n",
              "    </tr>\n",
              "  </thead>\n",
              "  <tbody>\n",
              "    <tr>\n",
              "      <th>4</th>\n",
              "      <td>Série A</td>\n",
              "      <td>34</td>\n",
              "      <td>2009-11-07</td>\n",
              "      <td>Home</td>\n",
              "      <td>Santos FC</td>\n",
              "      <td>Clube Náutico Capibaribe</td>\n",
              "      <td>3:1</td>\n",
              "      <td>Not Applicable</td>\n",
              "      <td>58'</td>\n",
              "      <td>2:0</td>\n",
              "      <td>Right-footed shot</td>\n",
              "      <td>Madson</td>\n",
              "    </tr>\n",
              "    <tr>\n",
              "      <th>5</th>\n",
              "      <td>Série A</td>\n",
              "      <td>34</td>\n",
              "      <td>2009-11-07</td>\n",
              "      <td>Home</td>\n",
              "      <td>Santos FC</td>\n",
              "      <td>Clube Náutico Capibaribe</td>\n",
              "      <td>3:1</td>\n",
              "      <td>Not Applicable</td>\n",
              "      <td>89'</td>\n",
              "      <td>3:1</td>\n",
              "      <td>Left-footed shot</td>\n",
              "      <td>Madson</td>\n",
              "    </tr>\n",
              "  </tbody>\n",
              "</table>\n",
              "</div>\n",
              "      <button class=\"colab-df-convert\" onclick=\"convertToInteractive('df-c9bfddc2-fcf5-4642-8915-97804f6589bf')\"\n",
              "              title=\"Convert this dataframe to an interactive table.\"\n",
              "              style=\"display:none;\">\n",
              "        \n",
              "  <svg xmlns=\"http://www.w3.org/2000/svg\" height=\"24px\"viewBox=\"0 0 24 24\"\n",
              "       width=\"24px\">\n",
              "    <path d=\"M0 0h24v24H0V0z\" fill=\"none\"/>\n",
              "    <path d=\"M18.56 5.44l.94 2.06.94-2.06 2.06-.94-2.06-.94-.94-2.06-.94 2.06-2.06.94zm-11 1L8.5 8.5l.94-2.06 2.06-.94-2.06-.94L8.5 2.5l-.94 2.06-2.06.94zm10 10l.94 2.06.94-2.06 2.06-.94-2.06-.94-.94-2.06-.94 2.06-2.06.94z\"/><path d=\"M17.41 7.96l-1.37-1.37c-.4-.4-.92-.59-1.43-.59-.52 0-1.04.2-1.43.59L10.3 9.45l-7.72 7.72c-.78.78-.78 2.05 0 2.83L4 21.41c.39.39.9.59 1.41.59.51 0 1.02-.2 1.41-.59l7.78-7.78 2.81-2.81c.8-.78.8-2.07 0-2.86zM5.41 20L4 18.59l7.72-7.72 1.47 1.35L5.41 20z\"/>\n",
              "  </svg>\n",
              "      </button>\n",
              "      \n",
              "  <style>\n",
              "    .colab-df-container {\n",
              "      display:flex;\n",
              "      flex-wrap:wrap;\n",
              "      gap: 12px;\n",
              "    }\n",
              "\n",
              "    .colab-df-convert {\n",
              "      background-color: #E8F0FE;\n",
              "      border: none;\n",
              "      border-radius: 50%;\n",
              "      cursor: pointer;\n",
              "      display: none;\n",
              "      fill: #1967D2;\n",
              "      height: 32px;\n",
              "      padding: 0 0 0 0;\n",
              "      width: 32px;\n",
              "    }\n",
              "\n",
              "    .colab-df-convert:hover {\n",
              "      background-color: #E2EBFA;\n",
              "      box-shadow: 0px 1px 2px rgba(60, 64, 67, 0.3), 0px 1px 3px 1px rgba(60, 64, 67, 0.15);\n",
              "      fill: #174EA6;\n",
              "    }\n",
              "\n",
              "    [theme=dark] .colab-df-convert {\n",
              "      background-color: #3B4455;\n",
              "      fill: #D2E3FC;\n",
              "    }\n",
              "\n",
              "    [theme=dark] .colab-df-convert:hover {\n",
              "      background-color: #434B5C;\n",
              "      box-shadow: 0px 1px 3px 1px rgba(0, 0, 0, 0.15);\n",
              "      filter: drop-shadow(0px 1px 2px rgba(0, 0, 0, 0.3));\n",
              "      fill: #FFFFFF;\n",
              "    }\n",
              "  </style>\n",
              "\n",
              "      <script>\n",
              "        const buttonEl =\n",
              "          document.querySelector('#df-c9bfddc2-fcf5-4642-8915-97804f6589bf button.colab-df-convert');\n",
              "        buttonEl.style.display =\n",
              "          google.colab.kernel.accessAllowed ? 'block' : 'none';\n",
              "\n",
              "        async function convertToInteractive(key) {\n",
              "          const element = document.querySelector('#df-c9bfddc2-fcf5-4642-8915-97804f6589bf');\n",
              "          const dataTable =\n",
              "            await google.colab.kernel.invokeFunction('convertToInteractive',\n",
              "                                                     [key], {});\n",
              "          if (!dataTable) return;\n",
              "\n",
              "          const docLinkHtml = 'Like what you see? Visit the ' +\n",
              "            '<a target=\"_blank\" href=https://colab.research.google.com/notebooks/data_table.ipynb>data table notebook</a>'\n",
              "            + ' to learn more about interactive tables.';\n",
              "          element.innerHTML = '';\n",
              "          dataTable['output_type'] = 'display_data';\n",
              "          await google.colab.output.renderOutput(dataTable, element);\n",
              "          const docLink = document.createElement('div');\n",
              "          docLink.innerHTML = docLinkHtml;\n",
              "          element.appendChild(docLink);\n",
              "        }\n",
              "      </script>\n",
              "    </div>\n",
              "  </div>\n",
              "  "
            ]
          },
          "metadata": {},
          "execution_count": 15
        }
      ]
    },
    {
      "cell_type": "code",
      "source": [
        "agrupado_goles = df_sucio.groupby(\"Fecha\")[\"Jornada\"].count().sum()\n",
        "print(f\"El total de goles registrados de Neymar hasta la fecha son {agrupado_goles}!!!\")"
      ],
      "metadata": {
        "colab": {
          "base_uri": "https://localhost:8080/"
        },
        "id": "eqjDy3fkMz2I",
        "outputId": "46a5872c-28ce-40fd-b95a-48066b5ba7ca"
      },
      "execution_count": 16,
      "outputs": [
        {
          "output_type": "stream",
          "name": "stdout",
          "text": [
            "El total de goles registrados de Neymar hasta la fecha son 286!!!\n"
          ]
        }
      ]
    },
    {
      "cell_type": "code",
      "source": [
        "df_sucio[\"Torneo\"].unique()"
      ],
      "metadata": {
        "colab": {
          "base_uri": "https://localhost:8080/"
        },
        "id": "3ltiGBarRMFp",
        "outputId": "f0b9e8f1-d373-4661-eeac-92ca2b2a2ab3"
      },
      "execution_count": 17,
      "outputs": [
        {
          "output_type": "execute_result",
          "data": {
            "text/plain": [
              "<StringArray>\n",
              "[              'Série A ',          'Libertadores ',        'Club World Cup ',\n",
              "   'Recopa Sudamericana ',             'Supercopa ',                'LaLiga ',\n",
              "      'Champions League ',          'Copa del Rey ',               'Ligue 1 ',\n",
              "       'Coupe de France ',     'Coupe de la Ligue ', 'Trophée des Champions ']\n",
              "Length: 12, dtype: string"
            ]
          },
          "metadata": {},
          "execution_count": 17
        }
      ]
    },
    {
      "cell_type": "code",
      "source": [
        "torneo_agrup_fecha = df_sucio.groupby([\"Torneo\"])[\"Fecha\"].unique()\n",
        "#np.size(torneo_agrup_fecha[0])\n",
        "torneo_agrup_fecha"
      ],
      "metadata": {
        "colab": {
          "base_uri": "https://localhost:8080/"
        },
        "id": "IHY2goE9Y6Ho",
        "outputId": "2041113c-615d-42ad-df84-1e8c9e8a2add"
      },
      "execution_count": 29,
      "outputs": [
        {
          "output_type": "execute_result",
          "data": {
            "text/plain": [
              "Torneo\n",
              "Champions League          [2013-12-11T00:00:00.000000000, 2014-04-01T00:...\n",
              "Club World Cup                              [2011-12-14T00:00:00.000000000]\n",
              "Copa del Rey              [2013-12-17T00:00:00.000000000, 2015-01-08T00:...\n",
              "Coupe de France           [2018-01-07T00:00:00.000000000, 2019-01-06T00:...\n",
              "Coupe de la Ligue         [2018-01-10T00:00:00.000000000, 2019-01-09T00:...\n",
              "LaLiga                    [2013-09-24T00:00:00.000000000, 2013-10-05T00:...\n",
              "Libertadores              [2011-03-17T00:00:00.000000000, 2011-04-07T00:...\n",
              "Ligue 1                   [2017-08-13T00:00:00.000000000, 2017-08-20T00:...\n",
              "Recopa Sudamericana                         [2012-09-27T00:00:00.000000000]\n",
              "Supercopa                                   [2013-08-21T00:00:00.000000000]\n",
              "Série A                   [2009-06-21T00:00:00.000000000, 2009-07-15T00:...\n",
              "Trophée des Champions     [2021-01-13T00:00:00.000000000, 2022-07-31T00:...\n",
              "Name: Fecha, dtype: object"
            ]
          },
          "metadata": {},
          "execution_count": 29
        }
      ]
    },
    {
      "cell_type": "code",
      "source": [
        "torneo_agrup_jornada = df_sucio.groupby([\"Torneo\"])[\"Jornada\"].count()\n",
        "torneo_agrup_jornada"
      ],
      "metadata": {
        "colab": {
          "base_uri": "https://localhost:8080/"
        },
        "id": "F7vrVgO2Y0AQ",
        "outputId": "0e775543-bfa5-4a50-fc87-a54bfa4664d8"
      },
      "execution_count": 19,
      "outputs": [
        {
          "output_type": "execute_result",
          "data": {
            "text/plain": [
              "Torneo\n",
              "Champions League          42\n",
              "Club World Cup             1\n",
              "Copa del Rey              15\n",
              "Coupe de France            7\n",
              "Coupe de la Ligue          3\n",
              "LaLiga                    68\n",
              "Libertadores              14\n",
              "Ligue 1                   77\n",
              "Recopa Sudamericana        1\n",
              "Supercopa                  1\n",
              "Série A                   54\n",
              "Trophée des Champions      3\n",
              "Name: Jornada, dtype: int64"
            ]
          },
          "metadata": {},
          "execution_count": 19
        }
      ]
    },
    {
      "cell_type": "code",
      "source": [
        "for y in range(np.size(torneo_agrup_jornada)):\n",
        "    print(f\"\"\"    En el torneo '{torneo_agrup_jornada.index[y]}', \n",
        "    en {np.size(torneo_agrup_fecha[y])} partido/s Neymar convirtió {torneo_agrup_jornada[y]} goles, \n",
        "    promediando {round(torneo_agrup_jornada[y]/np.size(torneo_agrup_fecha[y]),2)} gol/es por partido\\n\"\"\")"
      ],
      "metadata": {
        "colab": {
          "base_uri": "https://localhost:8080/"
        },
        "id": "jLIHsq_gV5Cn",
        "outputId": "df517108-ec32-4a17-e939-e205b7766378"
      },
      "execution_count": 20,
      "outputs": [
        {
          "output_type": "stream",
          "name": "stdout",
          "text": [
            "    En el torneo 'Champions League ', \n",
            "    en 30 partido/s Neymar convirtió 42 goles, \n",
            "    promediando 1.4 gol/es por partido\n",
            "\n",
            "    En el torneo 'Club World Cup ', \n",
            "    en 1 partido/s Neymar convirtió 1 goles, \n",
            "    promediando 1.0 gol/es por partido\n",
            "\n",
            "    En el torneo 'Copa del Rey ', \n",
            "    en 12 partido/s Neymar convirtió 15 goles, \n",
            "    promediando 1.25 gol/es por partido\n",
            "\n",
            "    En el torneo 'Coupe de France ', \n",
            "    en 6 partido/s Neymar convirtió 7 goles, \n",
            "    promediando 1.17 gol/es por partido\n",
            "\n",
            "    En el torneo 'Coupe de la Ligue ', \n",
            "    en 3 partido/s Neymar convirtió 3 goles, \n",
            "    promediando 1.0 gol/es por partido\n",
            "\n",
            "    En el torneo 'LaLiga ', \n",
            "    en 53 partido/s Neymar convirtió 68 goles, \n",
            "    promediando 1.28 gol/es por partido\n",
            "\n",
            "    En el torneo 'Libertadores ', \n",
            "    en 11 partido/s Neymar convirtió 14 goles, \n",
            "    promediando 1.27 gol/es por partido\n",
            "\n",
            "    En el torneo 'Ligue 1 ', \n",
            "    en 58 partido/s Neymar convirtió 77 goles, \n",
            "    promediando 1.33 gol/es por partido\n",
            "\n",
            "    En el torneo 'Recopa Sudamericana ', \n",
            "    en 1 partido/s Neymar convirtió 1 goles, \n",
            "    promediando 1.0 gol/es por partido\n",
            "\n",
            "    En el torneo 'Supercopa ', \n",
            "    en 1 partido/s Neymar convirtió 1 goles, \n",
            "    promediando 1.0 gol/es por partido\n",
            "\n",
            "    En el torneo 'Série A ', \n",
            "    en 40 partido/s Neymar convirtió 54 goles, \n",
            "    promediando 1.35 gol/es por partido\n",
            "\n",
            "    En el torneo 'Trophée des Champions ', \n",
            "    en 2 partido/s Neymar convirtió 3 goles, \n",
            "    promediando 1.5 gol/es por partido\n",
            "\n"
          ]
        }
      ]
    },
    {
      "cell_type": "code",
      "source": [
        "agrup_evento = df_sucio.groupby([\"Evento\"])[\"Jornada\"].count()\n",
        "\n",
        "porc_away = round((agrup_evento[0]*100)/agrup_evento.sum(),2)\n",
        "porc_home = round((agrup_evento[1]*100)/agrup_evento.sum(),2)\n",
        "\n",
        "print(f\"Del total de goles de Neymar, el porcentaje de goles como local es {porc_home} %, y como visitante {porc_away} %\")\n",
        "print(porc_home)"
      ],
      "metadata": {
        "colab": {
          "base_uri": "https://localhost:8080/"
        },
        "id": "AiJzDaypLQ20",
        "outputId": "7478a5ad-1a63-49d6-86d7-f26325a2b66a"
      },
      "execution_count": 21,
      "outputs": [
        {
          "output_type": "stream",
          "name": "stdout",
          "text": [
            "Del total de goles de Neymar, el porcentaje de goles como local es 59.44 %, y como visitante 40.56 %\n",
            "59.44\n"
          ]
        }
      ]
    },
    {
      "cell_type": "code",
      "source": [
        "agrup_oponente = df_sucio.groupby([\"Fecha\",\"Oponente\"])[\"Jornada\"].count()\n",
        "agrup_oponente.max()"
      ],
      "metadata": {
        "colab": {
          "base_uri": "https://localhost:8080/"
        },
        "id": "05HsJrJVMiez",
        "outputId": "7d50685e-3bdd-4c15-c68c-4bb63d138f5e"
      },
      "execution_count": 22,
      "outputs": [
        {
          "output_type": "execute_result",
          "data": {
            "text/plain": [
              "4"
            ]
          },
          "metadata": {},
          "execution_count": 22
        }
      ]
    },
    {
      "cell_type": "code",
      "source": [
        "for x in range(np.size(agrup_oponente)):\n",
        "  if(agrup_oponente[x]==agrup_oponente.max()):\n",
        "    print(F\"El equipo al que Neymar le hizo más goles es '{agrup_oponente.index[x][1]}', le hizo un total de {agrup_oponente[x]} goles\")"
      ],
      "metadata": {
        "colab": {
          "base_uri": "https://localhost:8080/"
        },
        "id": "jdIrB7IiVRsd",
        "outputId": "3ee942ff-6dac-4820-b464-675cfdf3a5c7"
      },
      "execution_count": 23,
      "outputs": [
        {
          "output_type": "stream",
          "name": "stdout",
          "text": [
            "El equipo al que Neymar le hizo más goles es 'Atlético Paranaense', le hizo un total de 4 goles\n",
            "El equipo al que Neymar le hizo más goles es 'Rayo Vallecano', le hizo un total de 4 goles\n",
            "El equipo al que Neymar le hizo más goles es 'Dijon FCO', le hizo un total de 4 goles\n"
          ]
        }
      ]
    },
    {
      "cell_type": "code",
      "source": [
        "agrup_oponente_fecha = df_sucio.groupby([\"Oponente\"])[\"Fecha\"].count()\n",
        "\n",
        "for x in range(np.size(agrup_oponente_fecha)):\n",
        "  if(agrup_oponente_fecha[x]==agrup_oponente_fecha.max()):\n",
        "    print(f\"El equipo que más veces enfrento Neymar es '{agrup_oponente_fecha.index[x]}'\")"
      ],
      "metadata": {
        "colab": {
          "base_uri": "https://localhost:8080/"
        },
        "id": "mTMSfYqjbqC2",
        "outputId": "3133a7ca-a1ea-4162-c970-847260c354e7"
      },
      "execution_count": 24,
      "outputs": [
        {
          "output_type": "stream",
          "name": "stdout",
          "text": [
            "El equipo que más veces enfrento Neymar es 'Villarreal CF'\n"
          ]
        }
      ]
    },
    {
      "cell_type": "code",
      "source": [
        "agrup_gol_may45 = df_sucio[df_sucio[\"Minuto\"]>\"45\"].count()\n",
        "agrup_gol_men45 = df_sucio[df_sucio[\"Minuto\"]<\"45\"].count()\n",
        "\n",
        "if agrup_gol_may45.Minuto>agrup_gol_men45.Minuto:\n",
        "  print(f\"Neymar hace más goles durante el segundo tiempo, la cantidad de goles es {agrup_gol_may45.Minuto} contra {agrup_gol_men45.Minuto}\")\n",
        "else:\n",
        "  print(f\"Neymar hace más goles durante el primer tiempo, la cantidad de goles es {agrup_gol_men45.Minuto} contra {agrup_gol_may45.Minuto}\")\n"
      ],
      "metadata": {
        "colab": {
          "base_uri": "https://localhost:8080/"
        },
        "id": "CqQoRQaGhhaG",
        "outputId": "34f52ebd-f2e3-4488-efa7-73590a39cb36"
      },
      "execution_count": 25,
      "outputs": [
        {
          "output_type": "stream",
          "name": "stdout",
          "text": [
            "Neymar hace más goles durante el segundo tiempo, la cantidad de goles es 168 contra 118\n"
          ]
        }
      ]
    },
    {
      "cell_type": "code",
      "source": [
        "def importances_clear(columnas,importances):\n",
        "    col = list()\n",
        "    imp = list()\n",
        "    for indice in range(len(importances)):\n",
        "        if importances[indice] >= 0.10:\n",
        "            col.append(columnas[indice])\n",
        "            imp.append(importances[indice]*100)\n",
        "    return col, imp\n",
        "\n",
        "columnas = df_sucio.columns\n",
        "importances = df_sucio.Torneo.count()\n",
        "print(importances)\n",
        "px.histogram(df_sucio,\n",
        "             template = \"gridon\",\n",
        "             color = \"Torneo\", \n",
        "             x = \"Torneo\",\n",
        "             labels = \"Torneo\",\n",
        "             title = \"Histograma de goles hechos por Neymar en cada torneo disputado\",\n",
        "             text_auto = True)"
      ],
      "metadata": {
        "colab": {
          "base_uri": "https://localhost:8080/",
          "height": 559
        },
        "id": "1OcMtP_9sVri",
        "outputId": "866d4dc0-b1e3-43a1-f491-02a30567bdd7"
      },
      "execution_count": 27,
      "outputs": [
        {
          "output_type": "stream",
          "name": "stdout",
          "text": [
            "286\n"
          ]
        },
        {
          "output_type": "display_data",
          "data": {
            "text/html": [
              "<html>\n",
              "<head><meta charset=\"utf-8\" /></head>\n",
              "<body>\n",
              "    <div>            <script src=\"https://cdnjs.cloudflare.com/ajax/libs/mathjax/2.7.5/MathJax.js?config=TeX-AMS-MML_SVG\"></script><script type=\"text/javascript\">if (window.MathJax) {MathJax.Hub.Config({SVG: {font: \"STIX-Web\"}});}</script>                <script type=\"text/javascript\">window.PlotlyConfig = {MathJaxConfig: 'local'};</script>\n",
              "        <script src=\"https://cdn.plot.ly/plotly-2.8.3.min.js\"></script>                <div id=\"7ad11c49-9c4f-42e3-9acc-75ac822d1b4a\" class=\"plotly-graph-div\" style=\"height:525px; width:100%;\"></div>            <script type=\"text/javascript\">                                    window.PLOTLYENV=window.PLOTLYENV || {};                                    if (document.getElementById(\"7ad11c49-9c4f-42e3-9acc-75ac822d1b4a\")) {                    Plotly.newPlot(                        \"7ad11c49-9c4f-42e3-9acc-75ac822d1b4a\",                        [{\"alignmentgroup\":\"True\",\"bingroup\":\"x\",\"hovertemplate\":\"Torneo=%{x}<br>count=%{y}<extra></extra>\",\"legendgroup\":\"S\\u00e9rie A \",\"marker\":{\"color\":\"#1F77B4\",\"pattern\":{\"shape\":\"\"}},\"name\":\"S\\u00e9rie A \",\"offsetgroup\":\"S\\u00e9rie A \",\"orientation\":\"v\",\"showlegend\":true,\"texttemplate\":\"%{value}\",\"x\":[\"S\\u00e9rie A \",\"S\\u00e9rie A \",\"S\\u00e9rie A \",\"S\\u00e9rie A \",\"S\\u00e9rie A \",\"S\\u00e9rie A \",\"S\\u00e9rie A \",\"S\\u00e9rie A \",\"S\\u00e9rie A \",\"S\\u00e9rie A \",\"S\\u00e9rie A \",\"S\\u00e9rie A \",\"S\\u00e9rie A \",\"S\\u00e9rie A \",\"S\\u00e9rie A \",\"S\\u00e9rie A \",\"S\\u00e9rie A \",\"S\\u00e9rie A \",\"S\\u00e9rie A \",\"S\\u00e9rie A \",\"S\\u00e9rie A \",\"S\\u00e9rie A \",\"S\\u00e9rie A \",\"S\\u00e9rie A \",\"S\\u00e9rie A \",\"S\\u00e9rie A \",\"S\\u00e9rie A \",\"S\\u00e9rie A \",\"S\\u00e9rie A \",\"S\\u00e9rie A \",\"S\\u00e9rie A \",\"S\\u00e9rie A \",\"S\\u00e9rie A \",\"S\\u00e9rie A \",\"S\\u00e9rie A \",\"S\\u00e9rie A \",\"S\\u00e9rie A \",\"S\\u00e9rie A \",\"S\\u00e9rie A \",\"S\\u00e9rie A \",\"S\\u00e9rie A \",\"S\\u00e9rie A \",\"S\\u00e9rie A \",\"S\\u00e9rie A \",\"S\\u00e9rie A \",\"S\\u00e9rie A \",\"S\\u00e9rie A \",\"S\\u00e9rie A \",\"S\\u00e9rie A \",\"S\\u00e9rie A \",\"S\\u00e9rie A \",\"S\\u00e9rie A \",\"S\\u00e9rie A \",\"S\\u00e9rie A \"],\"xaxis\":\"x\",\"yaxis\":\"y\",\"type\":\"histogram\"},{\"alignmentgroup\":\"True\",\"bingroup\":\"x\",\"hovertemplate\":\"Torneo=%{x}<br>count=%{y}<extra></extra>\",\"legendgroup\":\"Libertadores \",\"marker\":{\"color\":\"#FF7F0E\",\"pattern\":{\"shape\":\"\"}},\"name\":\"Libertadores \",\"offsetgroup\":\"Libertadores \",\"orientation\":\"v\",\"showlegend\":true,\"texttemplate\":\"%{value}\",\"x\":[\"Libertadores \",\"Libertadores \",\"Libertadores \",\"Libertadores \",\"Libertadores \",\"Libertadores \",\"Libertadores \",\"Libertadores \",\"Libertadores \",\"Libertadores \",\"Libertadores \",\"Libertadores \",\"Libertadores \",\"Libertadores \"],\"xaxis\":\"x\",\"yaxis\":\"y\",\"type\":\"histogram\"},{\"alignmentgroup\":\"True\",\"bingroup\":\"x\",\"hovertemplate\":\"Torneo=%{x}<br>count=%{y}<extra></extra>\",\"legendgroup\":\"Club World Cup \",\"marker\":{\"color\":\"#2CA02C\",\"pattern\":{\"shape\":\"\"}},\"name\":\"Club World Cup \",\"offsetgroup\":\"Club World Cup \",\"orientation\":\"v\",\"showlegend\":true,\"texttemplate\":\"%{value}\",\"x\":[\"Club World Cup \"],\"xaxis\":\"x\",\"yaxis\":\"y\",\"type\":\"histogram\"},{\"alignmentgroup\":\"True\",\"bingroup\":\"x\",\"hovertemplate\":\"Torneo=%{x}<br>count=%{y}<extra></extra>\",\"legendgroup\":\"Recopa Sudamericana \",\"marker\":{\"color\":\"#D62728\",\"pattern\":{\"shape\":\"\"}},\"name\":\"Recopa Sudamericana \",\"offsetgroup\":\"Recopa Sudamericana \",\"orientation\":\"v\",\"showlegend\":true,\"texttemplate\":\"%{value}\",\"x\":[\"Recopa Sudamericana \"],\"xaxis\":\"x\",\"yaxis\":\"y\",\"type\":\"histogram\"},{\"alignmentgroup\":\"True\",\"bingroup\":\"x\",\"hovertemplate\":\"Torneo=%{x}<br>count=%{y}<extra></extra>\",\"legendgroup\":\"Supercopa \",\"marker\":{\"color\":\"#9467BD\",\"pattern\":{\"shape\":\"\"}},\"name\":\"Supercopa \",\"offsetgroup\":\"Supercopa \",\"orientation\":\"v\",\"showlegend\":true,\"texttemplate\":\"%{value}\",\"x\":[\"Supercopa \"],\"xaxis\":\"x\",\"yaxis\":\"y\",\"type\":\"histogram\"},{\"alignmentgroup\":\"True\",\"bingroup\":\"x\",\"hovertemplate\":\"Torneo=%{x}<br>count=%{y}<extra></extra>\",\"legendgroup\":\"LaLiga \",\"marker\":{\"color\":\"#8C564B\",\"pattern\":{\"shape\":\"\"}},\"name\":\"LaLiga \",\"offsetgroup\":\"LaLiga \",\"orientation\":\"v\",\"showlegend\":true,\"texttemplate\":\"%{value}\",\"x\":[\"LaLiga \",\"LaLiga \",\"LaLiga \",\"LaLiga \",\"LaLiga \",\"LaLiga \",\"LaLiga \",\"LaLiga \",\"LaLiga \",\"LaLiga \",\"LaLiga \",\"LaLiga \",\"LaLiga \",\"LaLiga \",\"LaLiga \",\"LaLiga \",\"LaLiga \",\"LaLiga \",\"LaLiga \",\"LaLiga \",\"LaLiga \",\"LaLiga \",\"LaLiga \",\"LaLiga \",\"LaLiga \",\"LaLiga \",\"LaLiga \",\"LaLiga \",\"LaLiga \",\"LaLiga \",\"LaLiga \",\"LaLiga \",\"LaLiga \",\"LaLiga \",\"LaLiga \",\"LaLiga \",\"LaLiga \",\"LaLiga \",\"LaLiga \",\"LaLiga \",\"LaLiga \",\"LaLiga \",\"LaLiga \",\"LaLiga \",\"LaLiga \",\"LaLiga \",\"LaLiga \",\"LaLiga \",\"LaLiga \",\"LaLiga \",\"LaLiga \",\"LaLiga \",\"LaLiga \",\"LaLiga \",\"LaLiga \",\"LaLiga \",\"LaLiga \",\"LaLiga \",\"LaLiga \",\"LaLiga \",\"LaLiga \",\"LaLiga \",\"LaLiga \",\"LaLiga \",\"LaLiga \",\"LaLiga \",\"LaLiga \",\"LaLiga \"],\"xaxis\":\"x\",\"yaxis\":\"y\",\"type\":\"histogram\"},{\"alignmentgroup\":\"True\",\"bingroup\":\"x\",\"hovertemplate\":\"Torneo=%{x}<br>count=%{y}<extra></extra>\",\"legendgroup\":\"Champions League \",\"marker\":{\"color\":\"#E377C2\",\"pattern\":{\"shape\":\"\"}},\"name\":\"Champions League \",\"offsetgroup\":\"Champions League \",\"orientation\":\"v\",\"showlegend\":true,\"texttemplate\":\"%{value}\",\"x\":[\"Champions League \",\"Champions League \",\"Champions League \",\"Champions League \",\"Champions League \",\"Champions League \",\"Champions League \",\"Champions League \",\"Champions League \",\"Champions League \",\"Champions League \",\"Champions League \",\"Champions League \",\"Champions League \",\"Champions League \",\"Champions League \",\"Champions League \",\"Champions League \",\"Champions League \",\"Champions League \",\"Champions League \",\"Champions League \",\"Champions League \",\"Champions League \",\"Champions League \",\"Champions League \",\"Champions League \",\"Champions League \",\"Champions League \",\"Champions League \",\"Champions League \",\"Champions League \",\"Champions League \",\"Champions League \",\"Champions League \",\"Champions League \",\"Champions League \",\"Champions League \",\"Champions League \",\"Champions League \",\"Champions League \",\"Champions League \"],\"xaxis\":\"x\",\"yaxis\":\"y\",\"type\":\"histogram\"},{\"alignmentgroup\":\"True\",\"bingroup\":\"x\",\"hovertemplate\":\"Torneo=%{x}<br>count=%{y}<extra></extra>\",\"legendgroup\":\"Copa del Rey \",\"marker\":{\"color\":\"#7F7F7F\",\"pattern\":{\"shape\":\"\"}},\"name\":\"Copa del Rey \",\"offsetgroup\":\"Copa del Rey \",\"orientation\":\"v\",\"showlegend\":true,\"texttemplate\":\"%{value}\",\"x\":[\"Copa del Rey \",\"Copa del Rey \",\"Copa del Rey \",\"Copa del Rey \",\"Copa del Rey \",\"Copa del Rey \",\"Copa del Rey \",\"Copa del Rey \",\"Copa del Rey \",\"Copa del Rey \",\"Copa del Rey \",\"Copa del Rey \",\"Copa del Rey \",\"Copa del Rey \",\"Copa del Rey \"],\"xaxis\":\"x\",\"yaxis\":\"y\",\"type\":\"histogram\"},{\"alignmentgroup\":\"True\",\"bingroup\":\"x\",\"hovertemplate\":\"Torneo=%{x}<br>count=%{y}<extra></extra>\",\"legendgroup\":\"Ligue 1 \",\"marker\":{\"color\":\"#BCBD22\",\"pattern\":{\"shape\":\"\"}},\"name\":\"Ligue 1 \",\"offsetgroup\":\"Ligue 1 \",\"orientation\":\"v\",\"showlegend\":true,\"texttemplate\":\"%{value}\",\"x\":[\"Ligue 1 \",\"Ligue 1 \",\"Ligue 1 \",\"Ligue 1 \",\"Ligue 1 \",\"Ligue 1 \",\"Ligue 1 \",\"Ligue 1 \",\"Ligue 1 \",\"Ligue 1 \",\"Ligue 1 \",\"Ligue 1 \",\"Ligue 1 \",\"Ligue 1 \",\"Ligue 1 \",\"Ligue 1 \",\"Ligue 1 \",\"Ligue 1 \",\"Ligue 1 \",\"Ligue 1 \",\"Ligue 1 \",\"Ligue 1 \",\"Ligue 1 \",\"Ligue 1 \",\"Ligue 1 \",\"Ligue 1 \",\"Ligue 1 \",\"Ligue 1 \",\"Ligue 1 \",\"Ligue 1 \",\"Ligue 1 \",\"Ligue 1 \",\"Ligue 1 \",\"Ligue 1 \",\"Ligue 1 \",\"Ligue 1 \",\"Ligue 1 \",\"Ligue 1 \",\"Ligue 1 \",\"Ligue 1 \",\"Ligue 1 \",\"Ligue 1 \",\"Ligue 1 \",\"Ligue 1 \",\"Ligue 1 \",\"Ligue 1 \",\"Ligue 1 \",\"Ligue 1 \",\"Ligue 1 \",\"Ligue 1 \",\"Ligue 1 \",\"Ligue 1 \",\"Ligue 1 \",\"Ligue 1 \",\"Ligue 1 \",\"Ligue 1 \",\"Ligue 1 \",\"Ligue 1 \",\"Ligue 1 \",\"Ligue 1 \",\"Ligue 1 \",\"Ligue 1 \",\"Ligue 1 \",\"Ligue 1 \",\"Ligue 1 \",\"Ligue 1 \",\"Ligue 1 \",\"Ligue 1 \",\"Ligue 1 \",\"Ligue 1 \",\"Ligue 1 \",\"Ligue 1 \",\"Ligue 1 \",\"Ligue 1 \",\"Ligue 1 \",\"Ligue 1 \",\"Ligue 1 \"],\"xaxis\":\"x\",\"yaxis\":\"y\",\"type\":\"histogram\"},{\"alignmentgroup\":\"True\",\"bingroup\":\"x\",\"hovertemplate\":\"Torneo=%{x}<br>count=%{y}<extra></extra>\",\"legendgroup\":\"Coupe de France \",\"marker\":{\"color\":\"#17BECF\",\"pattern\":{\"shape\":\"\"}},\"name\":\"Coupe de France \",\"offsetgroup\":\"Coupe de France \",\"orientation\":\"v\",\"showlegend\":true,\"texttemplate\":\"%{value}\",\"x\":[\"Coupe de France \",\"Coupe de France \",\"Coupe de France \",\"Coupe de France \",\"Coupe de France \",\"Coupe de France \",\"Coupe de France \"],\"xaxis\":\"x\",\"yaxis\":\"y\",\"type\":\"histogram\"},{\"alignmentgroup\":\"True\",\"bingroup\":\"x\",\"hovertemplate\":\"Torneo=%{x}<br>count=%{y}<extra></extra>\",\"legendgroup\":\"Coupe de la Ligue \",\"marker\":{\"color\":\"#1F77B4\",\"pattern\":{\"shape\":\"\"}},\"name\":\"Coupe de la Ligue \",\"offsetgroup\":\"Coupe de la Ligue \",\"orientation\":\"v\",\"showlegend\":true,\"texttemplate\":\"%{value}\",\"x\":[\"Coupe de la Ligue \",\"Coupe de la Ligue \",\"Coupe de la Ligue \"],\"xaxis\":\"x\",\"yaxis\":\"y\",\"type\":\"histogram\"},{\"alignmentgroup\":\"True\",\"bingroup\":\"x\",\"hovertemplate\":\"Torneo=%{x}<br>count=%{y}<extra></extra>\",\"legendgroup\":\"Troph\\u00e9e des Champions \",\"marker\":{\"color\":\"#FF7F0E\",\"pattern\":{\"shape\":\"\"}},\"name\":\"Troph\\u00e9e des Champions \",\"offsetgroup\":\"Troph\\u00e9e des Champions \",\"orientation\":\"v\",\"showlegend\":true,\"texttemplate\":\"%{value}\",\"x\":[\"Troph\\u00e9e des Champions \",\"Troph\\u00e9e des Champions \",\"Troph\\u00e9e des Champions \"],\"xaxis\":\"x\",\"yaxis\":\"y\",\"type\":\"histogram\"}],                        {\"template\":{\"data\":{\"pie\":[{\"automargin\":true,\"type\":\"pie\"}]},\"layout\":{\"xaxis\":{\"showgrid\":true,\"title\":{\"standoff\":15}},\"yaxis\":{\"showgrid\":true,\"title\":{\"standoff\":15}}}},\"xaxis\":{\"anchor\":\"y\",\"domain\":[0.0,1.0],\"title\":{\"text\":\"Torneo\"},\"categoryorder\":\"array\",\"categoryarray\":[\"S\\u00e9rie A \",\"Libertadores \",\"Club World Cup \",\"Recopa Sudamericana \",\"Supercopa \",\"LaLiga \",\"Champions League \",\"Copa del Rey \",\"Ligue 1 \",\"Coupe de France \",\"Coupe de la Ligue \",\"Troph\\u00e9e des Champions \"]},\"yaxis\":{\"anchor\":\"x\",\"domain\":[0.0,1.0],\"title\":{\"text\":\"count\"}},\"legend\":{\"title\":{\"text\":\"Torneo\"},\"tracegroupgap\":0},\"title\":{\"text\":\"Histograma de goles hechos por Neymar en cada torneo disputado\"},\"barmode\":\"relative\"},                        {\"responsive\": true}                    ).then(function(){\n",
              "                            \n",
              "var gd = document.getElementById('7ad11c49-9c4f-42e3-9acc-75ac822d1b4a');\n",
              "var x = new MutationObserver(function (mutations, observer) {{\n",
              "        var display = window.getComputedStyle(gd).display;\n",
              "        if (!display || display === 'none') {{\n",
              "            console.log([gd, 'removed!']);\n",
              "            Plotly.purge(gd);\n",
              "            observer.disconnect();\n",
              "        }}\n",
              "}});\n",
              "\n",
              "// Listen for the removal of the full notebook cells\n",
              "var notebookContainer = gd.closest('#notebook-container');\n",
              "if (notebookContainer) {{\n",
              "    x.observe(notebookContainer, {childList: true});\n",
              "}}\n",
              "\n",
              "// Listen for the clearing of the current output cell\n",
              "var outputEl = gd.closest('.output');\n",
              "if (outputEl) {{\n",
              "    x.observe(outputEl, {childList: true});\n",
              "}}\n",
              "\n",
              "                        })                };                            </script>        </div>\n",
              "</body>\n",
              "</html>"
            ]
          },
          "metadata": {}
        }
      ]
    },
    {
      "cell_type": "code",
      "source": [
        "datos=[]\n",
        "dato=[]\n",
        "for y in range(np.size(torneo_agrup_jornada)):\n",
        "  dato.append(torneo_agrup_jornada.index[y])\n",
        "  dato.append(np.size(torneo_agrup_fecha[y]))\n",
        "  dato.append(torneo_agrup_jornada[y])\n",
        "  #dato.append(round(torneo_agrup_jornada[y]/np.size(torneo_agrup_fecha[y]),2))\n",
        "  datos.append(dato[:])    \n",
        "  dato.clear()\n",
        "\n",
        "df_scatter = pd.DataFrame(datos, columns={\"Torneo\",\"Cantidad de partidos\",\"Cantidad de goles\"})\n",
        "\n",
        "px.scatter(df_scatter,\n",
        "           x = \"Torneo\",\n",
        "           y = \"Cantidad de goles\",\n",
        "           hover_name = \"Cantidad de partidos\",\n",
        "           title = \"Cantidad de goles y partidos jugados por torneo\",\n",
        "           template = \"gridon\",\n",
        "           color = \"Cantidad de partidos\",\n",
        "           labels={\"Torneo\":\"Cantidad de partidos\",\n",
        "                   \"Cantidad de partidos\":\"Torneo\"},\n",
        "           width=600, height=500)\n"
      ],
      "metadata": {
        "colab": {
          "base_uri": "https://localhost:8080/",
          "height": 517
        },
        "id": "CSRqOwW0vlEq",
        "outputId": "fc94608c-c869-4afa-8a46-817fd9fb3511"
      },
      "execution_count": 65,
      "outputs": [
        {
          "output_type": "display_data",
          "data": {
            "text/html": [
              "<html>\n",
              "<head><meta charset=\"utf-8\" /></head>\n",
              "<body>\n",
              "    <div>            <script src=\"https://cdnjs.cloudflare.com/ajax/libs/mathjax/2.7.5/MathJax.js?config=TeX-AMS-MML_SVG\"></script><script type=\"text/javascript\">if (window.MathJax) {MathJax.Hub.Config({SVG: {font: \"STIX-Web\"}});}</script>                <script type=\"text/javascript\">window.PlotlyConfig = {MathJaxConfig: 'local'};</script>\n",
              "        <script src=\"https://cdn.plot.ly/plotly-2.8.3.min.js\"></script>                <div id=\"bb8c9a7b-b462-4998-9122-d7db3e0c2d7b\" class=\"plotly-graph-div\" style=\"height:500px; width:600px;\"></div>            <script type=\"text/javascript\">                                    window.PLOTLYENV=window.PLOTLYENV || {};                                    if (document.getElementById(\"bb8c9a7b-b462-4998-9122-d7db3e0c2d7b\")) {                    Plotly.newPlot(                        \"bb8c9a7b-b462-4998-9122-d7db3e0c2d7b\",                        [{\"hovertemplate\":\"<b>%{hovertext}</b><br><br>Torneo=Champions League <br>Cantidad de partidos=%{x}<br>Cantidad de goles=%{y}<extra></extra>\",\"hovertext\":[\"Champions League \"],\"legendgroup\":\"Champions League \",\"marker\":{\"color\":\"#1F77B4\",\"symbol\":\"circle\"},\"mode\":\"markers\",\"name\":\"Champions League \",\"orientation\":\"v\",\"showlegend\":true,\"x\":[30],\"xaxis\":\"x\",\"y\":[42],\"yaxis\":\"y\",\"type\":\"scatter\"},{\"hovertemplate\":\"<b>%{hovertext}</b><br><br>Torneo=Club World Cup <br>Cantidad de partidos=%{x}<br>Cantidad de goles=%{y}<extra></extra>\",\"hovertext\":[\"Club World Cup \"],\"legendgroup\":\"Club World Cup \",\"marker\":{\"color\":\"#FF7F0E\",\"symbol\":\"circle\"},\"mode\":\"markers\",\"name\":\"Club World Cup \",\"orientation\":\"v\",\"showlegend\":true,\"x\":[1],\"xaxis\":\"x\",\"y\":[1],\"yaxis\":\"y\",\"type\":\"scatter\"},{\"hovertemplate\":\"<b>%{hovertext}</b><br><br>Torneo=Copa del Rey <br>Cantidad de partidos=%{x}<br>Cantidad de goles=%{y}<extra></extra>\",\"hovertext\":[\"Copa del Rey \"],\"legendgroup\":\"Copa del Rey \",\"marker\":{\"color\":\"#2CA02C\",\"symbol\":\"circle\"},\"mode\":\"markers\",\"name\":\"Copa del Rey \",\"orientation\":\"v\",\"showlegend\":true,\"x\":[12],\"xaxis\":\"x\",\"y\":[15],\"yaxis\":\"y\",\"type\":\"scatter\"},{\"hovertemplate\":\"<b>%{hovertext}</b><br><br>Torneo=Coupe de France <br>Cantidad de partidos=%{x}<br>Cantidad de goles=%{y}<extra></extra>\",\"hovertext\":[\"Coupe de France \"],\"legendgroup\":\"Coupe de France \",\"marker\":{\"color\":\"#D62728\",\"symbol\":\"circle\"},\"mode\":\"markers\",\"name\":\"Coupe de France \",\"orientation\":\"v\",\"showlegend\":true,\"x\":[6],\"xaxis\":\"x\",\"y\":[7],\"yaxis\":\"y\",\"type\":\"scatter\"},{\"hovertemplate\":\"<b>%{hovertext}</b><br><br>Torneo=Coupe de la Ligue <br>Cantidad de partidos=%{x}<br>Cantidad de goles=%{y}<extra></extra>\",\"hovertext\":[\"Coupe de la Ligue \"],\"legendgroup\":\"Coupe de la Ligue \",\"marker\":{\"color\":\"#9467BD\",\"symbol\":\"circle\"},\"mode\":\"markers\",\"name\":\"Coupe de la Ligue \",\"orientation\":\"v\",\"showlegend\":true,\"x\":[3],\"xaxis\":\"x\",\"y\":[3],\"yaxis\":\"y\",\"type\":\"scatter\"},{\"hovertemplate\":\"<b>%{hovertext}</b><br><br>Torneo=LaLiga <br>Cantidad de partidos=%{x}<br>Cantidad de goles=%{y}<extra></extra>\",\"hovertext\":[\"LaLiga \"],\"legendgroup\":\"LaLiga \",\"marker\":{\"color\":\"#8C564B\",\"symbol\":\"circle\"},\"mode\":\"markers\",\"name\":\"LaLiga \",\"orientation\":\"v\",\"showlegend\":true,\"x\":[53],\"xaxis\":\"x\",\"y\":[68],\"yaxis\":\"y\",\"type\":\"scatter\"},{\"hovertemplate\":\"<b>%{hovertext}</b><br><br>Torneo=Libertadores <br>Cantidad de partidos=%{x}<br>Cantidad de goles=%{y}<extra></extra>\",\"hovertext\":[\"Libertadores \"],\"legendgroup\":\"Libertadores \",\"marker\":{\"color\":\"#E377C2\",\"symbol\":\"circle\"},\"mode\":\"markers\",\"name\":\"Libertadores \",\"orientation\":\"v\",\"showlegend\":true,\"x\":[11],\"xaxis\":\"x\",\"y\":[14],\"yaxis\":\"y\",\"type\":\"scatter\"},{\"hovertemplate\":\"<b>%{hovertext}</b><br><br>Torneo=Ligue 1 <br>Cantidad de partidos=%{x}<br>Cantidad de goles=%{y}<extra></extra>\",\"hovertext\":[\"Ligue 1 \"],\"legendgroup\":\"Ligue 1 \",\"marker\":{\"color\":\"#7F7F7F\",\"symbol\":\"circle\"},\"mode\":\"markers\",\"name\":\"Ligue 1 \",\"orientation\":\"v\",\"showlegend\":true,\"x\":[58],\"xaxis\":\"x\",\"y\":[77],\"yaxis\":\"y\",\"type\":\"scatter\"},{\"hovertemplate\":\"<b>%{hovertext}</b><br><br>Torneo=Recopa Sudamericana <br>Cantidad de partidos=%{x}<br>Cantidad de goles=%{y}<extra></extra>\",\"hovertext\":[\"Recopa Sudamericana \"],\"legendgroup\":\"Recopa Sudamericana \",\"marker\":{\"color\":\"#BCBD22\",\"symbol\":\"circle\"},\"mode\":\"markers\",\"name\":\"Recopa Sudamericana \",\"orientation\":\"v\",\"showlegend\":true,\"x\":[1],\"xaxis\":\"x\",\"y\":[1],\"yaxis\":\"y\",\"type\":\"scatter\"},{\"hovertemplate\":\"<b>%{hovertext}</b><br><br>Torneo=Supercopa <br>Cantidad de partidos=%{x}<br>Cantidad de goles=%{y}<extra></extra>\",\"hovertext\":[\"Supercopa \"],\"legendgroup\":\"Supercopa \",\"marker\":{\"color\":\"#17BECF\",\"symbol\":\"circle\"},\"mode\":\"markers\",\"name\":\"Supercopa \",\"orientation\":\"v\",\"showlegend\":true,\"x\":[1],\"xaxis\":\"x\",\"y\":[1],\"yaxis\":\"y\",\"type\":\"scatter\"},{\"hovertemplate\":\"<b>%{hovertext}</b><br><br>Torneo=S\\u00e9rie A <br>Cantidad de partidos=%{x}<br>Cantidad de goles=%{y}<extra></extra>\",\"hovertext\":[\"S\\u00e9rie A \"],\"legendgroup\":\"S\\u00e9rie A \",\"marker\":{\"color\":\"#1F77B4\",\"symbol\":\"circle\"},\"mode\":\"markers\",\"name\":\"S\\u00e9rie A \",\"orientation\":\"v\",\"showlegend\":true,\"x\":[40],\"xaxis\":\"x\",\"y\":[54],\"yaxis\":\"y\",\"type\":\"scatter\"},{\"hovertemplate\":\"<b>%{hovertext}</b><br><br>Torneo=Troph\\u00e9e des Champions <br>Cantidad de partidos=%{x}<br>Cantidad de goles=%{y}<extra></extra>\",\"hovertext\":[\"Troph\\u00e9e des Champions \"],\"legendgroup\":\"Troph\\u00e9e des Champions \",\"marker\":{\"color\":\"#FF7F0E\",\"symbol\":\"circle\"},\"mode\":\"markers\",\"name\":\"Troph\\u00e9e des Champions \",\"orientation\":\"v\",\"showlegend\":true,\"x\":[2],\"xaxis\":\"x\",\"y\":[3],\"yaxis\":\"y\",\"type\":\"scatter\"}],                        {\"template\":{\"data\":{\"pie\":[{\"automargin\":true,\"type\":\"pie\"}]},\"layout\":{\"xaxis\":{\"showgrid\":true,\"title\":{\"standoff\":15}},\"yaxis\":{\"showgrid\":true,\"title\":{\"standoff\":15}}}},\"xaxis\":{\"anchor\":\"y\",\"domain\":[0.0,1.0],\"title\":{\"text\":\"Cantidad de partidos\"}},\"yaxis\":{\"anchor\":\"x\",\"domain\":[0.0,1.0],\"title\":{\"text\":\"Cantidad de goles\"}},\"legend\":{\"title\":{\"text\":\"Torneo\"},\"tracegroupgap\":0},\"title\":{\"text\":\"Cantidad de goles y partidos jugados por torneo\"},\"height\":500,\"width\":600},                        {\"responsive\": true}                    ).then(function(){\n",
              "                            \n",
              "var gd = document.getElementById('bb8c9a7b-b462-4998-9122-d7db3e0c2d7b');\n",
              "var x = new MutationObserver(function (mutations, observer) {{\n",
              "        var display = window.getComputedStyle(gd).display;\n",
              "        if (!display || display === 'none') {{\n",
              "            console.log([gd, 'removed!']);\n",
              "            Plotly.purge(gd);\n",
              "            observer.disconnect();\n",
              "        }}\n",
              "}});\n",
              "\n",
              "// Listen for the removal of the full notebook cells\n",
              "var notebookContainer = gd.closest('#notebook-container');\n",
              "if (notebookContainer) {{\n",
              "    x.observe(notebookContainer, {childList: true});\n",
              "}}\n",
              "\n",
              "// Listen for the clearing of the current output cell\n",
              "var outputEl = gd.closest('.output');\n",
              "if (outputEl) {{\n",
              "    x.observe(outputEl, {childList: true});\n",
              "}}\n",
              "\n",
              "                        })                };                            </script>        </div>\n",
              "</body>\n",
              "</html>"
            ]
          },
          "metadata": {}
        }
      ]
    },
    {
      "cell_type": "code",
      "source": [
        "datos=[]\n",
        "dato=[]\n",
        "for y in range(np.size(torneo_agrup_jornada)):\n",
        "  dato.append(torneo_agrup_jornada.index[y])\n",
        "  dato.append(np.size(torneo_agrup_fecha[y]))\n",
        "  dato.append(torneo_agrup_jornada[y])\n",
        "  dato.append(round(torneo_agrup_jornada[y]/np.size(torneo_agrup_fecha[y]),2))\n",
        "  datos.append(dato[:])    \n",
        "  dato.clear()\n",
        "print(datos)\n",
        "df_scatter = pd.DataFrame(datos, columns={\"Torneo\",\"Cantidad de partidos\",\"Cantidad de goles\",\"Promedio\"})\n",
        "\n",
        "px.scatter(df_scatter,\n",
        "           x = \"Torneo\",\n",
        "           y = \"Promedio\",\n",
        "           hover_name = \"Cantidad de partidos\",\n",
        "           title = \"Cantidad de goles y partidos jugados por torneo\",\n",
        "           template = \"gridon\",\n",
        "           color = \"Cantidad de partidos\",\n",
        "           size=\"Cantidad de goles\",\n",
        "           labels={\"Torneo\":\"Cantidad de goles\",\n",
        "                   \"Cantidad de partidos\":\"Torneo\",\n",
        "                   \"Promedio\":\"Cantidad de partidos\"},\n",
        "           width=800, height=800)"
      ],
      "metadata": {
        "colab": {
          "base_uri": "https://localhost:8080/",
          "height": 854
        },
        "id": "jrq1XG3iI34d",
        "outputId": "52c801be-7da0-4ef5-93e7-2437df6dea44"
      },
      "execution_count": 72,
      "outputs": [
        {
          "output_type": "stream",
          "name": "stdout",
          "text": [
            "[['Champions League ', 30, 42, 1.4], ['Club World Cup ', 1, 1, 1.0], ['Copa del Rey ', 12, 15, 1.25], ['Coupe de France ', 6, 7, 1.17], ['Coupe de la Ligue ', 3, 3, 1.0], ['LaLiga ', 53, 68, 1.28], ['Libertadores ', 11, 14, 1.27], ['Ligue 1 ', 58, 77, 1.33], ['Recopa Sudamericana ', 1, 1, 1.0], ['Supercopa ', 1, 1, 1.0], ['Série A ', 40, 54, 1.35], ['Trophée des Champions ', 2, 3, 1.5]]\n"
          ]
        },
        {
          "output_type": "display_data",
          "data": {
            "text/html": [
              "<html>\n",
              "<head><meta charset=\"utf-8\" /></head>\n",
              "<body>\n",
              "    <div>            <script src=\"https://cdnjs.cloudflare.com/ajax/libs/mathjax/2.7.5/MathJax.js?config=TeX-AMS-MML_SVG\"></script><script type=\"text/javascript\">if (window.MathJax) {MathJax.Hub.Config({SVG: {font: \"STIX-Web\"}});}</script>                <script type=\"text/javascript\">window.PlotlyConfig = {MathJaxConfig: 'local'};</script>\n",
              "        <script src=\"https://cdn.plot.ly/plotly-2.8.3.min.js\"></script>                <div id=\"03f42075-8854-4ad9-8ce6-8072a9b44f00\" class=\"plotly-graph-div\" style=\"height:800px; width:800px;\"></div>            <script type=\"text/javascript\">                                    window.PLOTLYENV=window.PLOTLYENV || {};                                    if (document.getElementById(\"03f42075-8854-4ad9-8ce6-8072a9b44f00\")) {                    Plotly.newPlot(                        \"03f42075-8854-4ad9-8ce6-8072a9b44f00\",                        [{\"hovertemplate\":\"<b>%{hovertext}</b><br><br>Torneo=Champions League <br>Cantidad de goles=%{marker.size}<br>Cantidad de partidos=%{y}<extra></extra>\",\"hovertext\":[\"Champions League \"],\"legendgroup\":\"Champions League \",\"marker\":{\"color\":\"#1F77B4\",\"size\":[1.4],\"sizemode\":\"area\",\"sizeref\":0.00375,\"symbol\":\"circle\"},\"mode\":\"markers\",\"name\":\"Champions League \",\"orientation\":\"v\",\"showlegend\":true,\"x\":[30],\"xaxis\":\"x\",\"y\":[42],\"yaxis\":\"y\",\"type\":\"scatter\"},{\"hovertemplate\":\"<b>%{hovertext}</b><br><br>Torneo=Club World Cup <br>Cantidad de goles=%{marker.size}<br>Cantidad de partidos=%{y}<extra></extra>\",\"hovertext\":[\"Club World Cup \"],\"legendgroup\":\"Club World Cup \",\"marker\":{\"color\":\"#FF7F0E\",\"size\":[1.0],\"sizemode\":\"area\",\"sizeref\":0.00375,\"symbol\":\"circle\"},\"mode\":\"markers\",\"name\":\"Club World Cup \",\"orientation\":\"v\",\"showlegend\":true,\"x\":[1],\"xaxis\":\"x\",\"y\":[1],\"yaxis\":\"y\",\"type\":\"scatter\"},{\"hovertemplate\":\"<b>%{hovertext}</b><br><br>Torneo=Copa del Rey <br>Cantidad de goles=%{marker.size}<br>Cantidad de partidos=%{y}<extra></extra>\",\"hovertext\":[\"Copa del Rey \"],\"legendgroup\":\"Copa del Rey \",\"marker\":{\"color\":\"#2CA02C\",\"size\":[1.25],\"sizemode\":\"area\",\"sizeref\":0.00375,\"symbol\":\"circle\"},\"mode\":\"markers\",\"name\":\"Copa del Rey \",\"orientation\":\"v\",\"showlegend\":true,\"x\":[12],\"xaxis\":\"x\",\"y\":[15],\"yaxis\":\"y\",\"type\":\"scatter\"},{\"hovertemplate\":\"<b>%{hovertext}</b><br><br>Torneo=Coupe de France <br>Cantidad de goles=%{marker.size}<br>Cantidad de partidos=%{y}<extra></extra>\",\"hovertext\":[\"Coupe de France \"],\"legendgroup\":\"Coupe de France \",\"marker\":{\"color\":\"#D62728\",\"size\":[1.17],\"sizemode\":\"area\",\"sizeref\":0.00375,\"symbol\":\"circle\"},\"mode\":\"markers\",\"name\":\"Coupe de France \",\"orientation\":\"v\",\"showlegend\":true,\"x\":[6],\"xaxis\":\"x\",\"y\":[7],\"yaxis\":\"y\",\"type\":\"scatter\"},{\"hovertemplate\":\"<b>%{hovertext}</b><br><br>Torneo=Coupe de la Ligue <br>Cantidad de goles=%{marker.size}<br>Cantidad de partidos=%{y}<extra></extra>\",\"hovertext\":[\"Coupe de la Ligue \"],\"legendgroup\":\"Coupe de la Ligue \",\"marker\":{\"color\":\"#9467BD\",\"size\":[1.0],\"sizemode\":\"area\",\"sizeref\":0.00375,\"symbol\":\"circle\"},\"mode\":\"markers\",\"name\":\"Coupe de la Ligue \",\"orientation\":\"v\",\"showlegend\":true,\"x\":[3],\"xaxis\":\"x\",\"y\":[3],\"yaxis\":\"y\",\"type\":\"scatter\"},{\"hovertemplate\":\"<b>%{hovertext}</b><br><br>Torneo=LaLiga <br>Cantidad de goles=%{marker.size}<br>Cantidad de partidos=%{y}<extra></extra>\",\"hovertext\":[\"LaLiga \"],\"legendgroup\":\"LaLiga \",\"marker\":{\"color\":\"#8C564B\",\"size\":[1.28],\"sizemode\":\"area\",\"sizeref\":0.00375,\"symbol\":\"circle\"},\"mode\":\"markers\",\"name\":\"LaLiga \",\"orientation\":\"v\",\"showlegend\":true,\"x\":[53],\"xaxis\":\"x\",\"y\":[68],\"yaxis\":\"y\",\"type\":\"scatter\"},{\"hovertemplate\":\"<b>%{hovertext}</b><br><br>Torneo=Libertadores <br>Cantidad de goles=%{marker.size}<br>Cantidad de partidos=%{y}<extra></extra>\",\"hovertext\":[\"Libertadores \"],\"legendgroup\":\"Libertadores \",\"marker\":{\"color\":\"#E377C2\",\"size\":[1.27],\"sizemode\":\"area\",\"sizeref\":0.00375,\"symbol\":\"circle\"},\"mode\":\"markers\",\"name\":\"Libertadores \",\"orientation\":\"v\",\"showlegend\":true,\"x\":[11],\"xaxis\":\"x\",\"y\":[14],\"yaxis\":\"y\",\"type\":\"scatter\"},{\"hovertemplate\":\"<b>%{hovertext}</b><br><br>Torneo=Ligue 1 <br>Cantidad de goles=%{marker.size}<br>Cantidad de partidos=%{y}<extra></extra>\",\"hovertext\":[\"Ligue 1 \"],\"legendgroup\":\"Ligue 1 \",\"marker\":{\"color\":\"#7F7F7F\",\"size\":[1.33],\"sizemode\":\"area\",\"sizeref\":0.00375,\"symbol\":\"circle\"},\"mode\":\"markers\",\"name\":\"Ligue 1 \",\"orientation\":\"v\",\"showlegend\":true,\"x\":[58],\"xaxis\":\"x\",\"y\":[77],\"yaxis\":\"y\",\"type\":\"scatter\"},{\"hovertemplate\":\"<b>%{hovertext}</b><br><br>Torneo=Recopa Sudamericana <br>Cantidad de goles=%{marker.size}<br>Cantidad de partidos=%{y}<extra></extra>\",\"hovertext\":[\"Recopa Sudamericana \"],\"legendgroup\":\"Recopa Sudamericana \",\"marker\":{\"color\":\"#BCBD22\",\"size\":[1.0],\"sizemode\":\"area\",\"sizeref\":0.00375,\"symbol\":\"circle\"},\"mode\":\"markers\",\"name\":\"Recopa Sudamericana \",\"orientation\":\"v\",\"showlegend\":true,\"x\":[1],\"xaxis\":\"x\",\"y\":[1],\"yaxis\":\"y\",\"type\":\"scatter\"},{\"hovertemplate\":\"<b>%{hovertext}</b><br><br>Torneo=Supercopa <br>Cantidad de goles=%{marker.size}<br>Cantidad de partidos=%{y}<extra></extra>\",\"hovertext\":[\"Supercopa \"],\"legendgroup\":\"Supercopa \",\"marker\":{\"color\":\"#17BECF\",\"size\":[1.0],\"sizemode\":\"area\",\"sizeref\":0.00375,\"symbol\":\"circle\"},\"mode\":\"markers\",\"name\":\"Supercopa \",\"orientation\":\"v\",\"showlegend\":true,\"x\":[1],\"xaxis\":\"x\",\"y\":[1],\"yaxis\":\"y\",\"type\":\"scatter\"},{\"hovertemplate\":\"<b>%{hovertext}</b><br><br>Torneo=S\\u00e9rie A <br>Cantidad de goles=%{marker.size}<br>Cantidad de partidos=%{y}<extra></extra>\",\"hovertext\":[\"S\\u00e9rie A \"],\"legendgroup\":\"S\\u00e9rie A \",\"marker\":{\"color\":\"#1F77B4\",\"size\":[1.35],\"sizemode\":\"area\",\"sizeref\":0.00375,\"symbol\":\"circle\"},\"mode\":\"markers\",\"name\":\"S\\u00e9rie A \",\"orientation\":\"v\",\"showlegend\":true,\"x\":[40],\"xaxis\":\"x\",\"y\":[54],\"yaxis\":\"y\",\"type\":\"scatter\"},{\"hovertemplate\":\"<b>%{hovertext}</b><br><br>Torneo=Troph\\u00e9e des Champions <br>Cantidad de goles=%{marker.size}<br>Cantidad de partidos=%{y}<extra></extra>\",\"hovertext\":[\"Troph\\u00e9e des Champions \"],\"legendgroup\":\"Troph\\u00e9e des Champions \",\"marker\":{\"color\":\"#FF7F0E\",\"size\":[1.5],\"sizemode\":\"area\",\"sizeref\":0.00375,\"symbol\":\"circle\"},\"mode\":\"markers\",\"name\":\"Troph\\u00e9e des Champions \",\"orientation\":\"v\",\"showlegend\":true,\"x\":[2],\"xaxis\":\"x\",\"y\":[3],\"yaxis\":\"y\",\"type\":\"scatter\"}],                        {\"template\":{\"data\":{\"pie\":[{\"automargin\":true,\"type\":\"pie\"}]},\"layout\":{\"xaxis\":{\"showgrid\":true,\"title\":{\"standoff\":15}},\"yaxis\":{\"showgrid\":true,\"title\":{\"standoff\":15}}}},\"xaxis\":{\"anchor\":\"y\",\"domain\":[0.0,1.0],\"title\":{\"text\":\"Cantidad de goles\"}},\"yaxis\":{\"anchor\":\"x\",\"domain\":[0.0,1.0],\"title\":{\"text\":\"Cantidad de partidos\"}},\"legend\":{\"title\":{\"text\":\"Torneo\"},\"tracegroupgap\":0,\"itemsizing\":\"constant\"},\"title\":{\"text\":\"Cantidad de goles y partidos jugados por torneo\"},\"height\":800,\"width\":800},                        {\"responsive\": true}                    ).then(function(){\n",
              "                            \n",
              "var gd = document.getElementById('03f42075-8854-4ad9-8ce6-8072a9b44f00');\n",
              "var x = new MutationObserver(function (mutations, observer) {{\n",
              "        var display = window.getComputedStyle(gd).display;\n",
              "        if (!display || display === 'none') {{\n",
              "            console.log([gd, 'removed!']);\n",
              "            Plotly.purge(gd);\n",
              "            observer.disconnect();\n",
              "        }}\n",
              "}});\n",
              "\n",
              "// Listen for the removal of the full notebook cells\n",
              "var notebookContainer = gd.closest('#notebook-container');\n",
              "if (notebookContainer) {{\n",
              "    x.observe(notebookContainer, {childList: true});\n",
              "}}\n",
              "\n",
              "// Listen for the clearing of the current output cell\n",
              "var outputEl = gd.closest('.output');\n",
              "if (outputEl) {{\n",
              "    x.observe(outputEl, {childList: true});\n",
              "}}\n",
              "\n",
              "                        })                };                            </script>        </div>\n",
              "</body>\n",
              "</html>"
            ]
          },
          "metadata": {}
        }
      ]
    }
  ]
}