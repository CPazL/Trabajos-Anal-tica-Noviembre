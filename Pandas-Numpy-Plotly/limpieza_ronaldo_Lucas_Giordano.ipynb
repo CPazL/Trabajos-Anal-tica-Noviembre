{
  "nbformat": 4,
  "nbformat_minor": 0,
  "metadata": {
    "colab": {
      "provenance": [],
      "collapsed_sections": []
    },
    "kernelspec": {
      "name": "python3",
      "display_name": "Python 3"
    },
    "language_info": {
      "name": "python"
    }
  },
  "cells": [
    {
      "cell_type": "markdown",
      "source": [
        "# Actividad"
      ],
      "metadata": {
        "id": "ruaPOtCb98vz"
      }
    },
    {
      "cell_type": "markdown",
      "source": [
        "Elegir uno d elos siguientes datasets: \n",
        "Cualquier cosa tenemos todos los datasets en GITHUB:\n",
        "[GITHUB_CLASE](https://github.com/cristiandarioortegayubro/base/tree/main/dataset)\n",
        "\n",
        "> RONALDO: https://raw.githubusercontent.com/cristiandarioortegayubro/base/main/dataset/ronaldoSucio.csv\n",
        "\n",
        "> NEYMAR: https://raw.githubusercontent.com/cristiandarioortegayubro/base/main/dataset/neymarSucio.csv\n",
        "\n",
        "> LEWANDOWSKI: https://raw.githubusercontent.com/cristiandarioortegayubro/base/main/dataset/lewandowskiSucio.csv\n",
        "\n",
        "\n",
        "\n",
        "Realizar limpieza:\n",
        "    \n",
        "\n",
        "1.  Importar librerías.\n",
        "2.  Leer archivo CSV como dataframe.\n",
        "3.  Ver dimensiones del Dataframe (cantidad de columnas y filas).\n",
        "4.  Ver los primeros 11 registros (filas).\n",
        "5.  Cambiar tipos de datos según considere.\n",
        "6.  Cambiar nombres de columnas a español.\n",
        "7.  Borrar columna según corresponda\n",
        "          Ronaldo: Madre\n",
        "          Neymar: Estatura\n",
        "          Lewandoski: Nacionalidad\n",
        "8.  Borrar registros duplicados.\n",
        "9.  Crear la columna de año\n",
        "9.  crear columnas que considere pertinente. \n",
        "\n",
        "\n",
        "Analisis: \n",
        "\n",
        "1. Calcular el total de goles  registrados hasta la fecha\n",
        "2. Calcular el promedio de goles por Torneo.\n",
        "3. Calcular porcentaje de goles realizados como visitante(Away) y local(Home) con respecto al total de goles.\n",
        "4. A que oponente le metió más goles.\n",
        "5. Contra que oponente jugó más fechas.\n",
        "6. Realiza un caso de uso a gusto , osea analiza lo que gustes. Es libre!\n",
        "7. Realizar al menos tres gráficos con plotly, a gusto!\n",
        "\n",
        "\n",
        "\n"
      ],
      "metadata": {
        "id": "G9zEo-5X9805"
      }
    },
    {
      "cell_type": "markdown",
      "source": [
        "## Limpieza"
      ],
      "metadata": {
        "id": "nFZG5Y5APzEE"
      }
    },
    {
      "cell_type": "code",
      "execution_count": null,
      "metadata": {
        "id": "AKNGW65d9jIV"
      },
      "outputs": [],
      "source": [
        "# Librerías\n",
        "import pandas as pd\n",
        "import numpy as np\n",
        "import plotly.express as px"
      ]
    },
    {
      "cell_type": "code",
      "source": [
        "# Df\n",
        "ronaldo = pd.read_csv('https://raw.githubusercontent.com/cristiandarioortegayubro/base/main/dataset/ronaldoSucio.csv')"
      ],
      "metadata": {
        "id": "bgNPppQD-HxU"
      },
      "execution_count": null,
      "outputs": []
    },
    {
      "cell_type": "code",
      "source": [
        "# Dimensión del df\n",
        "ronaldo.shape"
      ],
      "metadata": {
        "colab": {
          "base_uri": "https://localhost:8080/"
        },
        "id": "5n4JAI9V-Law",
        "outputId": "9c902512-c59b-4634-9e5c-823cc25d63d4"
      },
      "execution_count": null,
      "outputs": [
        {
          "output_type": "execute_result",
          "data": {
            "text/plain": [
              "(810, 13)"
            ]
          },
          "metadata": {},
          "execution_count": 289
        }
      ]
    },
    {
      "cell_type": "code",
      "source": [
        "# Primeros 11 registros\n",
        "ronaldo.head(11)"
      ],
      "metadata": {
        "colab": {
          "base_uri": "https://localhost:8080/",
          "height": 394
        },
        "id": "UjyAut2f-OV6",
        "outputId": "3c090bfd-1c78-402b-cbac-bde39201cfa9"
      },
      "execution_count": null,
      "outputs": [
        {
          "output_type": "execute_result",
          "data": {
            "text/plain": [
              "           Tournament      Matchday      Date Venue               Club  \\\n",
              "0      Liga Portugal              6   10/7/02  Home        Sporting CP   \n",
              "1      Liga Portugal              6   10/7/02  Home        Sporting CP   \n",
              "2      Liga Portugal              8  10/26/02  Away        Sporting CP   \n",
              "3   Taça de Portugal   Fourth Round  11/24/02  Home        Sporting CP   \n",
              "4   Taça de Portugal    Fifth Round  12/18/02  Home        Sporting CP   \n",
              "5     Premier League             11   11/1/03  Home  Manchester United   \n",
              "6             FA Cup    Fifth Round   2/14/04  Home  Manchester United   \n",
              "7     Premier League             29   3/20/04  Home  Manchester United   \n",
              "8     Premier League             32   4/10/04  Away  Manchester United   \n",
              "9     Premier League             38   5/15/04  Away  Manchester United   \n",
              "10            FA Cup          Final   5/22/04  Home  Manchester United   \n",
              "\n",
              "                   Opponent Result        Position Minute When Scored  \\\n",
              "0             Moreirense FC    3:0              LW    34'         2:0   \n",
              "1             Moreirense FC    3:0              LW  90'+5         3:0   \n",
              "2               Boavista FC    1:2  Not Applicable    88'         1:2   \n",
              "3              CD Estarreja    4:1  Not Applicable    67'         3:0   \n",
              "4   FC Oliveira do Hospital    8:1  Not Applicable    13'         3:0   \n",
              "5             Portsmouth FC    3:0              RW    80'         2:0   \n",
              "6           Manchester City    4:2              RW    74'         3:0   \n",
              "7         Tottenham Hotspur    3:0  Not Applicable    89'         2:0   \n",
              "8           Birmingham City    1:2  Not Applicable    60'         1:1   \n",
              "9               Aston Villa    0:2  Not Applicable     4'         0:1   \n",
              "10              Millwall FC    3:0              RW    44'         1:0   \n",
              "\n",
              "            Goal Type          Assist;  \\\n",
              "0            Solo run  Not Applicable;   \n",
              "1              Header       Rui Jorge;   \n",
              "2   Right-footed shot  Carlos Martins;   \n",
              "3    Left-footed shot    César Prates;   \n",
              "4      Not Applicable  Not Applicable;   \n",
              "5    Direct free kick  Not Applicable;   \n",
              "6   Right-footed shot  Not Applicable;   \n",
              "7   Right-footed shot       Roy Keane;   \n",
              "8              Header      Ryan Giggs;   \n",
              "9   Right-footed shot  Not Applicable;   \n",
              "10             Header    Gary Neville;   \n",
              "\n",
              "                                          Madre  \n",
              "0   Maria Dolores dos Santos Viveiros da Aveiro  \n",
              "1   Maria Dolores dos Santos Viveiros da Aveiro  \n",
              "2   Maria Dolores dos Santos Viveiros da Aveiro  \n",
              "3   Maria Dolores dos Santos Viveiros da Aveiro  \n",
              "4   Maria Dolores dos Santos Viveiros da Aveiro  \n",
              "5   Maria Dolores dos Santos Viveiros da Aveiro  \n",
              "6   Maria Dolores dos Santos Viveiros da Aveiro  \n",
              "7   Maria Dolores dos Santos Viveiros da Aveiro  \n",
              "8   Maria Dolores dos Santos Viveiros da Aveiro  \n",
              "9   Maria Dolores dos Santos Viveiros da Aveiro  \n",
              "10  Maria Dolores dos Santos Viveiros da Aveiro  "
            ],
            "text/html": [
              "\n",
              "  <div id=\"df-5eec8f51-c807-429c-8658-7c7bbbc567ba\">\n",
              "    <div class=\"colab-df-container\">\n",
              "      <div>\n",
              "<style scoped>\n",
              "    .dataframe tbody tr th:only-of-type {\n",
              "        vertical-align: middle;\n",
              "    }\n",
              "\n",
              "    .dataframe tbody tr th {\n",
              "        vertical-align: top;\n",
              "    }\n",
              "\n",
              "    .dataframe thead th {\n",
              "        text-align: right;\n",
              "    }\n",
              "</style>\n",
              "<table border=\"1\" class=\"dataframe\">\n",
              "  <thead>\n",
              "    <tr style=\"text-align: right;\">\n",
              "      <th></th>\n",
              "      <th>Tournament</th>\n",
              "      <th>Matchday</th>\n",
              "      <th>Date</th>\n",
              "      <th>Venue</th>\n",
              "      <th>Club</th>\n",
              "      <th>Opponent</th>\n",
              "      <th>Result</th>\n",
              "      <th>Position</th>\n",
              "      <th>Minute</th>\n",
              "      <th>When Scored</th>\n",
              "      <th>Goal Type</th>\n",
              "      <th>Assist;</th>\n",
              "      <th>Madre</th>\n",
              "    </tr>\n",
              "  </thead>\n",
              "  <tbody>\n",
              "    <tr>\n",
              "      <th>0</th>\n",
              "      <td>Liga Portugal</td>\n",
              "      <td>6</td>\n",
              "      <td>10/7/02</td>\n",
              "      <td>Home</td>\n",
              "      <td>Sporting CP</td>\n",
              "      <td>Moreirense FC</td>\n",
              "      <td>3:0</td>\n",
              "      <td>LW</td>\n",
              "      <td>34'</td>\n",
              "      <td>2:0</td>\n",
              "      <td>Solo run</td>\n",
              "      <td>Not Applicable;</td>\n",
              "      <td>Maria Dolores dos Santos Viveiros da Aveiro</td>\n",
              "    </tr>\n",
              "    <tr>\n",
              "      <th>1</th>\n",
              "      <td>Liga Portugal</td>\n",
              "      <td>6</td>\n",
              "      <td>10/7/02</td>\n",
              "      <td>Home</td>\n",
              "      <td>Sporting CP</td>\n",
              "      <td>Moreirense FC</td>\n",
              "      <td>3:0</td>\n",
              "      <td>LW</td>\n",
              "      <td>90'+5</td>\n",
              "      <td>3:0</td>\n",
              "      <td>Header</td>\n",
              "      <td>Rui Jorge;</td>\n",
              "      <td>Maria Dolores dos Santos Viveiros da Aveiro</td>\n",
              "    </tr>\n",
              "    <tr>\n",
              "      <th>2</th>\n",
              "      <td>Liga Portugal</td>\n",
              "      <td>8</td>\n",
              "      <td>10/26/02</td>\n",
              "      <td>Away</td>\n",
              "      <td>Sporting CP</td>\n",
              "      <td>Boavista FC</td>\n",
              "      <td>1:2</td>\n",
              "      <td>Not Applicable</td>\n",
              "      <td>88'</td>\n",
              "      <td>1:2</td>\n",
              "      <td>Right-footed shot</td>\n",
              "      <td>Carlos Martins;</td>\n",
              "      <td>Maria Dolores dos Santos Viveiros da Aveiro</td>\n",
              "    </tr>\n",
              "    <tr>\n",
              "      <th>3</th>\n",
              "      <td>Taça de Portugal</td>\n",
              "      <td>Fourth Round</td>\n",
              "      <td>11/24/02</td>\n",
              "      <td>Home</td>\n",
              "      <td>Sporting CP</td>\n",
              "      <td>CD Estarreja</td>\n",
              "      <td>4:1</td>\n",
              "      <td>Not Applicable</td>\n",
              "      <td>67'</td>\n",
              "      <td>3:0</td>\n",
              "      <td>Left-footed shot</td>\n",
              "      <td>César Prates;</td>\n",
              "      <td>Maria Dolores dos Santos Viveiros da Aveiro</td>\n",
              "    </tr>\n",
              "    <tr>\n",
              "      <th>4</th>\n",
              "      <td>Taça de Portugal</td>\n",
              "      <td>Fifth Round</td>\n",
              "      <td>12/18/02</td>\n",
              "      <td>Home</td>\n",
              "      <td>Sporting CP</td>\n",
              "      <td>FC Oliveira do Hospital</td>\n",
              "      <td>8:1</td>\n",
              "      <td>Not Applicable</td>\n",
              "      <td>13'</td>\n",
              "      <td>3:0</td>\n",
              "      <td>Not Applicable</td>\n",
              "      <td>Not Applicable;</td>\n",
              "      <td>Maria Dolores dos Santos Viveiros da Aveiro</td>\n",
              "    </tr>\n",
              "    <tr>\n",
              "      <th>5</th>\n",
              "      <td>Premier League</td>\n",
              "      <td>11</td>\n",
              "      <td>11/1/03</td>\n",
              "      <td>Home</td>\n",
              "      <td>Manchester United</td>\n",
              "      <td>Portsmouth FC</td>\n",
              "      <td>3:0</td>\n",
              "      <td>RW</td>\n",
              "      <td>80'</td>\n",
              "      <td>2:0</td>\n",
              "      <td>Direct free kick</td>\n",
              "      <td>Not Applicable;</td>\n",
              "      <td>Maria Dolores dos Santos Viveiros da Aveiro</td>\n",
              "    </tr>\n",
              "    <tr>\n",
              "      <th>6</th>\n",
              "      <td>FA Cup</td>\n",
              "      <td>Fifth Round</td>\n",
              "      <td>2/14/04</td>\n",
              "      <td>Home</td>\n",
              "      <td>Manchester United</td>\n",
              "      <td>Manchester City</td>\n",
              "      <td>4:2</td>\n",
              "      <td>RW</td>\n",
              "      <td>74'</td>\n",
              "      <td>3:0</td>\n",
              "      <td>Right-footed shot</td>\n",
              "      <td>Not Applicable;</td>\n",
              "      <td>Maria Dolores dos Santos Viveiros da Aveiro</td>\n",
              "    </tr>\n",
              "    <tr>\n",
              "      <th>7</th>\n",
              "      <td>Premier League</td>\n",
              "      <td>29</td>\n",
              "      <td>3/20/04</td>\n",
              "      <td>Home</td>\n",
              "      <td>Manchester United</td>\n",
              "      <td>Tottenham Hotspur</td>\n",
              "      <td>3:0</td>\n",
              "      <td>Not Applicable</td>\n",
              "      <td>89'</td>\n",
              "      <td>2:0</td>\n",
              "      <td>Right-footed shot</td>\n",
              "      <td>Roy Keane;</td>\n",
              "      <td>Maria Dolores dos Santos Viveiros da Aveiro</td>\n",
              "    </tr>\n",
              "    <tr>\n",
              "      <th>8</th>\n",
              "      <td>Premier League</td>\n",
              "      <td>32</td>\n",
              "      <td>4/10/04</td>\n",
              "      <td>Away</td>\n",
              "      <td>Manchester United</td>\n",
              "      <td>Birmingham City</td>\n",
              "      <td>1:2</td>\n",
              "      <td>Not Applicable</td>\n",
              "      <td>60'</td>\n",
              "      <td>1:1</td>\n",
              "      <td>Header</td>\n",
              "      <td>Ryan Giggs;</td>\n",
              "      <td>Maria Dolores dos Santos Viveiros da Aveiro</td>\n",
              "    </tr>\n",
              "    <tr>\n",
              "      <th>9</th>\n",
              "      <td>Premier League</td>\n",
              "      <td>38</td>\n",
              "      <td>5/15/04</td>\n",
              "      <td>Away</td>\n",
              "      <td>Manchester United</td>\n",
              "      <td>Aston Villa</td>\n",
              "      <td>0:2</td>\n",
              "      <td>Not Applicable</td>\n",
              "      <td>4'</td>\n",
              "      <td>0:1</td>\n",
              "      <td>Right-footed shot</td>\n",
              "      <td>Not Applicable;</td>\n",
              "      <td>Maria Dolores dos Santos Viveiros da Aveiro</td>\n",
              "    </tr>\n",
              "    <tr>\n",
              "      <th>10</th>\n",
              "      <td>FA Cup</td>\n",
              "      <td>Final</td>\n",
              "      <td>5/22/04</td>\n",
              "      <td>Home</td>\n",
              "      <td>Manchester United</td>\n",
              "      <td>Millwall FC</td>\n",
              "      <td>3:0</td>\n",
              "      <td>RW</td>\n",
              "      <td>44'</td>\n",
              "      <td>1:0</td>\n",
              "      <td>Header</td>\n",
              "      <td>Gary Neville;</td>\n",
              "      <td>Maria Dolores dos Santos Viveiros da Aveiro</td>\n",
              "    </tr>\n",
              "  </tbody>\n",
              "</table>\n",
              "</div>\n",
              "      <button class=\"colab-df-convert\" onclick=\"convertToInteractive('df-5eec8f51-c807-429c-8658-7c7bbbc567ba')\"\n",
              "              title=\"Convert this dataframe to an interactive table.\"\n",
              "              style=\"display:none;\">\n",
              "        \n",
              "  <svg xmlns=\"http://www.w3.org/2000/svg\" height=\"24px\"viewBox=\"0 0 24 24\"\n",
              "       width=\"24px\">\n",
              "    <path d=\"M0 0h24v24H0V0z\" fill=\"none\"/>\n",
              "    <path d=\"M18.56 5.44l.94 2.06.94-2.06 2.06-.94-2.06-.94-.94-2.06-.94 2.06-2.06.94zm-11 1L8.5 8.5l.94-2.06 2.06-.94-2.06-.94L8.5 2.5l-.94 2.06-2.06.94zm10 10l.94 2.06.94-2.06 2.06-.94-2.06-.94-.94-2.06-.94 2.06-2.06.94z\"/><path d=\"M17.41 7.96l-1.37-1.37c-.4-.4-.92-.59-1.43-.59-.52 0-1.04.2-1.43.59L10.3 9.45l-7.72 7.72c-.78.78-.78 2.05 0 2.83L4 21.41c.39.39.9.59 1.41.59.51 0 1.02-.2 1.41-.59l7.78-7.78 2.81-2.81c.8-.78.8-2.07 0-2.86zM5.41 20L4 18.59l7.72-7.72 1.47 1.35L5.41 20z\"/>\n",
              "  </svg>\n",
              "      </button>\n",
              "      \n",
              "  <style>\n",
              "    .colab-df-container {\n",
              "      display:flex;\n",
              "      flex-wrap:wrap;\n",
              "      gap: 12px;\n",
              "    }\n",
              "\n",
              "    .colab-df-convert {\n",
              "      background-color: #E8F0FE;\n",
              "      border: none;\n",
              "      border-radius: 50%;\n",
              "      cursor: pointer;\n",
              "      display: none;\n",
              "      fill: #1967D2;\n",
              "      height: 32px;\n",
              "      padding: 0 0 0 0;\n",
              "      width: 32px;\n",
              "    }\n",
              "\n",
              "    .colab-df-convert:hover {\n",
              "      background-color: #E2EBFA;\n",
              "      box-shadow: 0px 1px 2px rgba(60, 64, 67, 0.3), 0px 1px 3px 1px rgba(60, 64, 67, 0.15);\n",
              "      fill: #174EA6;\n",
              "    }\n",
              "\n",
              "    [theme=dark] .colab-df-convert {\n",
              "      background-color: #3B4455;\n",
              "      fill: #D2E3FC;\n",
              "    }\n",
              "\n",
              "    [theme=dark] .colab-df-convert:hover {\n",
              "      background-color: #434B5C;\n",
              "      box-shadow: 0px 1px 3px 1px rgba(0, 0, 0, 0.15);\n",
              "      filter: drop-shadow(0px 1px 2px rgba(0, 0, 0, 0.3));\n",
              "      fill: #FFFFFF;\n",
              "    }\n",
              "  </style>\n",
              "\n",
              "      <script>\n",
              "        const buttonEl =\n",
              "          document.querySelector('#df-5eec8f51-c807-429c-8658-7c7bbbc567ba button.colab-df-convert');\n",
              "        buttonEl.style.display =\n",
              "          google.colab.kernel.accessAllowed ? 'block' : 'none';\n",
              "\n",
              "        async function convertToInteractive(key) {\n",
              "          const element = document.querySelector('#df-5eec8f51-c807-429c-8658-7c7bbbc567ba');\n",
              "          const dataTable =\n",
              "            await google.colab.kernel.invokeFunction('convertToInteractive',\n",
              "                                                     [key], {});\n",
              "          if (!dataTable) return;\n",
              "\n",
              "          const docLinkHtml = 'Like what you see? Visit the ' +\n",
              "            '<a target=\"_blank\" href=https://colab.research.google.com/notebooks/data_table.ipynb>data table notebook</a>'\n",
              "            + ' to learn more about interactive tables.';\n",
              "          element.innerHTML = '';\n",
              "          dataTable['output_type'] = 'display_data';\n",
              "          await google.colab.output.renderOutput(dataTable, element);\n",
              "          const docLink = document.createElement('div');\n",
              "          docLink.innerHTML = docLinkHtml;\n",
              "          element.appendChild(docLink);\n",
              "        }\n",
              "      </script>\n",
              "    </div>\n",
              "  </div>\n",
              "  "
            ]
          },
          "metadata": {},
          "execution_count": 290
        }
      ]
    },
    {
      "cell_type": "code",
      "source": [
        "# Tipos de datos\n",
        "ronaldo.info()"
      ],
      "metadata": {
        "colab": {
          "base_uri": "https://localhost:8080/"
        },
        "id": "RD7iKWeq-RZR",
        "outputId": "c8075677-bb0a-4ce3-9537-6a965822f3a6"
      },
      "execution_count": null,
      "outputs": [
        {
          "output_type": "stream",
          "name": "stdout",
          "text": [
            "<class 'pandas.core.frame.DataFrame'>\n",
            "RangeIndex: 810 entries, 0 to 809\n",
            "Data columns (total 13 columns):\n",
            " #   Column       Non-Null Count  Dtype \n",
            "---  ------       --------------  ----- \n",
            " 0   Tournament   734 non-null    object\n",
            " 1   Matchday     734 non-null    object\n",
            " 2   Date         734 non-null    object\n",
            " 3   Venue        734 non-null    object\n",
            " 4   Club         734 non-null    object\n",
            " 5   Opponent     734 non-null    object\n",
            " 6   Result       734 non-null    object\n",
            " 7   Position     734 non-null    object\n",
            " 8   Minute       734 non-null    object\n",
            " 9   When Scored  734 non-null    object\n",
            " 10  Goal Type    734 non-null    object\n",
            " 11  Assist;      734 non-null    object\n",
            " 12  Madre        810 non-null    object\n",
            "dtypes: object(13)\n",
            "memory usage: 82.4+ KB\n"
          ]
        }
      ]
    },
    {
      "cell_type": "code",
      "source": [
        "# cambiando los tipos de datos\n",
        "ronaldo['Tournament'] = ronaldo['Tournament'].astype('string')\n",
        "ronaldo['Matchday'] = ronaldo['Matchday'].astype('string')\n",
        "ronaldo['Date'] = pd.to_datetime(ronaldo['Date'])\n",
        "ronaldo['Venue'] = ronaldo['Venue'].astype('string')\n",
        "ronaldo['Club'] = ronaldo['Club'].astype('string')\n",
        "ronaldo['Opponent'] = ronaldo['Opponent'].astype('string')\n",
        "ronaldo['Result'] = ronaldo['Result'].astype('string')\n",
        "ronaldo['Position'] = ronaldo['Position'].astype('string')\n",
        "ronaldo['Minute'] = ronaldo['Minute'].astype('string')\n",
        "ronaldo['When Scored'] = ronaldo['When Scored'].astype('string')\n",
        "ronaldo['Goal Type'] = ronaldo['Goal Type'].astype('string')\n",
        "ronaldo['Assist;'] = ronaldo['Assist;'].astype('string')\n",
        "ronaldo['Madre'] = ronaldo['Madre'].astype('string')"
      ],
      "metadata": {
        "id": "kxbOnBwo-WDj"
      },
      "execution_count": null,
      "outputs": []
    },
    {
      "cell_type": "code",
      "source": [
        "# cambiando los nombres de las columnas a español\n",
        "ronaldo.rename(columns={'Tournament':'Torneo'}, inplace=True)\n",
        "ronaldo.rename(columns={'Matchday':'Jornada'}, inplace=True)\n",
        "ronaldo.rename(columns={'Date':'Fecha'}, inplace=True)\n",
        "ronaldo.rename(columns={'Venue':'Evento'}, inplace=True)\n",
        "ronaldo.rename(columns={'Opponent':'Oponente'}, inplace=True)\n",
        "ronaldo.rename(columns={'Result':'Resultado'}, inplace=True)\n",
        "ronaldo.rename(columns={'Position':'Posición'}, inplace=True)\n",
        "ronaldo.rename(columns={'Minute':'Minuto'}, inplace=True)\n",
        "ronaldo.rename(columns={'When Scored':'Momento de anotación'}, inplace=True)\n",
        "ronaldo.rename(columns={'Goal Type':'Tipo de gol'}, inplace=True)\n",
        "ronaldo.rename(columns={'Assist;':'Asistente'}, inplace=True)"
      ],
      "metadata": {
        "id": "8hBMvIpo-aOq"
      },
      "execution_count": null,
      "outputs": []
    },
    {
      "cell_type": "code",
      "source": [
        "# eliminando columnas que no sean utilizadas \n",
        "ronaldo.drop(['Madre'], axis=1, inplace=True)"
      ],
      "metadata": {
        "id": "JN0AvWD1KXNj"
      },
      "execution_count": null,
      "outputs": []
    },
    {
      "cell_type": "code",
      "source": [
        "# eliminando duplicados y revisando la dimension del df\n",
        "ronaldo.drop_duplicates(inplace=True)"
      ],
      "metadata": {
        "id": "sxKGjW9GKpmE"
      },
      "execution_count": null,
      "outputs": []
    },
    {
      "cell_type": "code",
      "source": [
        "ronaldo.shape"
      ],
      "metadata": {
        "colab": {
          "base_uri": "https://localhost:8080/"
        },
        "id": "aHBGbbjcKwoz",
        "outputId": "992f276d-44d9-49fc-e18e-7f2e6ebc72cf"
      },
      "execution_count": null,
      "outputs": [
        {
          "output_type": "execute_result",
          "data": {
            "text/plain": [
              "(700, 12)"
            ]
          },
          "metadata": {},
          "execution_count": 296
        }
      ]
    },
    {
      "cell_type": "code",
      "source": [
        "# creando columna Año, obteniendo los datos mediante la columna fecha\n",
        "ronaldo['Año'] = ronaldo['Fecha'].dt.year"
      ],
      "metadata": {
        "id": "jSabbQOvLKKk"
      },
      "execution_count": null,
      "outputs": []
    },
    {
      "cell_type": "code",
      "source": [
        "# cambio su tipo de dato\n",
        "ronaldo['Año'] = ronaldo['Año'].astype('string')"
      ],
      "metadata": {
        "id": "O5rgvv8YLNR6"
      },
      "execution_count": null,
      "outputs": []
    },
    {
      "cell_type": "code",
      "source": [
        "# eliminando filas que el 80% o más de sus datos sean nulos\n",
        "ronaldo.dropna(axis=0, inplace= True, thresh=int(ronaldo.shape[1]*0.8))"
      ],
      "metadata": {
        "id": "Ds7-Hy1cOx3x"
      },
      "execution_count": null,
      "outputs": []
    },
    {
      "cell_type": "code",
      "source": [
        "# cambiando nombre de las columnas para evitar los espacios en blanco\n",
        "columnas = list(ronaldo.columns)\n",
        "columnas = [nombre.strip().capitalize().replace(' ', '_').replace('.', '_') for nombre in columnas]\n",
        "ronaldo.columns= columnas\n",
        "ronaldo.columns"
      ],
      "metadata": {
        "colab": {
          "base_uri": "https://localhost:8080/"
        },
        "id": "FibcsVVlhv1l",
        "outputId": "fafd65ca-e087-4c28-d759-2925430efdb2"
      },
      "execution_count": null,
      "outputs": [
        {
          "output_type": "execute_result",
          "data": {
            "text/plain": [
              "Index(['Torneo', 'Jornada', 'Fecha', 'Evento', 'Club', 'Oponente', 'Resultado',\n",
              "       'Posición', 'Minuto', 'Momento_de_anotación', 'Tipo_de_gol',\n",
              "       'Asistente', 'Año'],\n",
              "      dtype='object')"
            ]
          },
          "metadata": {},
          "execution_count": 300
        }
      ]
    },
    {
      "cell_type": "markdown",
      "source": [
        "## Análisis"
      ],
      "metadata": {
        "id": "NU_3DdP3P5EI"
      }
    },
    {
      "cell_type": "code",
      "source": [
        "# 1 Cantidad de goles hasta la fecha\n",
        "cantidad_goles = ronaldo.Minuto.count()\n",
        "print(f'Hasta la fecha Ronaldo ha registrado un total de {cantidad_goles} goles')"
      ],
      "metadata": {
        "colab": {
          "base_uri": "https://localhost:8080/"
        },
        "id": "B0bmvStgO7SS",
        "outputId": "7379c938-1f7b-44c5-cf21-a2047dcb9154"
      },
      "execution_count": null,
      "outputs": [
        {
          "output_type": "stream",
          "name": "stdout",
          "text": [
            "Hasta la fecha Ronaldo ha registrado un total de 699 goles\n"
          ]
        }
      ]
    },
    {
      "cell_type": "code",
      "source": [
        "# 2. Calcular el promedio de goles por Torneo\n",
        "goles = ronaldo.groupby(\"Torneo\").count()\n",
        "torneo = pd.DataFrame(goles.Minuto).reset_index()\n",
        "torneo.rename(columns={'Minuto':'Goles'}, inplace=True)\n",
        "torneo[\"Promedio\"] = round(torneo[\"Goles\"] * 100 / torneo[\"Goles\"].sum(),2)\n",
        "torneo"
      ],
      "metadata": {
        "id": "3OYCUYfOSNBf",
        "colab": {
          "base_uri": "https://localhost:8080/",
          "height": 551
        },
        "outputId": "89040bad-5086-4a65-d95a-6f4e89fc8821"
      },
      "execution_count": null,
      "outputs": [
        {
          "output_type": "execute_result",
          "data": {
            "text/plain": [
              "                   Torneo  Goles  Promedio\n",
              "0       Champions League     140     20.03\n",
              "1   Champions League Qu.       1      0.14\n",
              "2         Club World Cup       7      1.00\n",
              "3           Copa del Rey      22      3.15\n",
              "4                EFL Cup       4      0.57\n",
              "5          Europa League       1      0.14\n",
              "6                 FA Cup      13      1.86\n",
              "7              Italy Cup       4      0.57\n",
              "8                 LaLiga     311     44.49\n",
              "9          Liga Portugal       3      0.43\n",
              "10        Premier League     102     14.59\n",
              "11               Serie A      81     11.59\n",
              "12             Supercopa       4      0.57\n",
              "13   Supercoppa Italiana       2      0.29\n",
              "14      Taça de Portugal       2      0.29\n",
              "15        UEFA Super Cup       2      0.29"
            ],
            "text/html": [
              "\n",
              "  <div id=\"df-969d3738-7499-48d5-b0c0-559d122ee908\">\n",
              "    <div class=\"colab-df-container\">\n",
              "      <div>\n",
              "<style scoped>\n",
              "    .dataframe tbody tr th:only-of-type {\n",
              "        vertical-align: middle;\n",
              "    }\n",
              "\n",
              "    .dataframe tbody tr th {\n",
              "        vertical-align: top;\n",
              "    }\n",
              "\n",
              "    .dataframe thead th {\n",
              "        text-align: right;\n",
              "    }\n",
              "</style>\n",
              "<table border=\"1\" class=\"dataframe\">\n",
              "  <thead>\n",
              "    <tr style=\"text-align: right;\">\n",
              "      <th></th>\n",
              "      <th>Torneo</th>\n",
              "      <th>Goles</th>\n",
              "      <th>Promedio</th>\n",
              "    </tr>\n",
              "  </thead>\n",
              "  <tbody>\n",
              "    <tr>\n",
              "      <th>0</th>\n",
              "      <td>Champions League</td>\n",
              "      <td>140</td>\n",
              "      <td>20.03</td>\n",
              "    </tr>\n",
              "    <tr>\n",
              "      <th>1</th>\n",
              "      <td>Champions League Qu.</td>\n",
              "      <td>1</td>\n",
              "      <td>0.14</td>\n",
              "    </tr>\n",
              "    <tr>\n",
              "      <th>2</th>\n",
              "      <td>Club World Cup</td>\n",
              "      <td>7</td>\n",
              "      <td>1.00</td>\n",
              "    </tr>\n",
              "    <tr>\n",
              "      <th>3</th>\n",
              "      <td>Copa del Rey</td>\n",
              "      <td>22</td>\n",
              "      <td>3.15</td>\n",
              "    </tr>\n",
              "    <tr>\n",
              "      <th>4</th>\n",
              "      <td>EFL Cup</td>\n",
              "      <td>4</td>\n",
              "      <td>0.57</td>\n",
              "    </tr>\n",
              "    <tr>\n",
              "      <th>5</th>\n",
              "      <td>Europa League</td>\n",
              "      <td>1</td>\n",
              "      <td>0.14</td>\n",
              "    </tr>\n",
              "    <tr>\n",
              "      <th>6</th>\n",
              "      <td>FA Cup</td>\n",
              "      <td>13</td>\n",
              "      <td>1.86</td>\n",
              "    </tr>\n",
              "    <tr>\n",
              "      <th>7</th>\n",
              "      <td>Italy Cup</td>\n",
              "      <td>4</td>\n",
              "      <td>0.57</td>\n",
              "    </tr>\n",
              "    <tr>\n",
              "      <th>8</th>\n",
              "      <td>LaLiga</td>\n",
              "      <td>311</td>\n",
              "      <td>44.49</td>\n",
              "    </tr>\n",
              "    <tr>\n",
              "      <th>9</th>\n",
              "      <td>Liga Portugal</td>\n",
              "      <td>3</td>\n",
              "      <td>0.43</td>\n",
              "    </tr>\n",
              "    <tr>\n",
              "      <th>10</th>\n",
              "      <td>Premier League</td>\n",
              "      <td>102</td>\n",
              "      <td>14.59</td>\n",
              "    </tr>\n",
              "    <tr>\n",
              "      <th>11</th>\n",
              "      <td>Serie A</td>\n",
              "      <td>81</td>\n",
              "      <td>11.59</td>\n",
              "    </tr>\n",
              "    <tr>\n",
              "      <th>12</th>\n",
              "      <td>Supercopa</td>\n",
              "      <td>4</td>\n",
              "      <td>0.57</td>\n",
              "    </tr>\n",
              "    <tr>\n",
              "      <th>13</th>\n",
              "      <td>Supercoppa Italiana</td>\n",
              "      <td>2</td>\n",
              "      <td>0.29</td>\n",
              "    </tr>\n",
              "    <tr>\n",
              "      <th>14</th>\n",
              "      <td>Taça de Portugal</td>\n",
              "      <td>2</td>\n",
              "      <td>0.29</td>\n",
              "    </tr>\n",
              "    <tr>\n",
              "      <th>15</th>\n",
              "      <td>UEFA Super Cup</td>\n",
              "      <td>2</td>\n",
              "      <td>0.29</td>\n",
              "    </tr>\n",
              "  </tbody>\n",
              "</table>\n",
              "</div>\n",
              "      <button class=\"colab-df-convert\" onclick=\"convertToInteractive('df-969d3738-7499-48d5-b0c0-559d122ee908')\"\n",
              "              title=\"Convert this dataframe to an interactive table.\"\n",
              "              style=\"display:none;\">\n",
              "        \n",
              "  <svg xmlns=\"http://www.w3.org/2000/svg\" height=\"24px\"viewBox=\"0 0 24 24\"\n",
              "       width=\"24px\">\n",
              "    <path d=\"M0 0h24v24H0V0z\" fill=\"none\"/>\n",
              "    <path d=\"M18.56 5.44l.94 2.06.94-2.06 2.06-.94-2.06-.94-.94-2.06-.94 2.06-2.06.94zm-11 1L8.5 8.5l.94-2.06 2.06-.94-2.06-.94L8.5 2.5l-.94 2.06-2.06.94zm10 10l.94 2.06.94-2.06 2.06-.94-2.06-.94-.94-2.06-.94 2.06-2.06.94z\"/><path d=\"M17.41 7.96l-1.37-1.37c-.4-.4-.92-.59-1.43-.59-.52 0-1.04.2-1.43.59L10.3 9.45l-7.72 7.72c-.78.78-.78 2.05 0 2.83L4 21.41c.39.39.9.59 1.41.59.51 0 1.02-.2 1.41-.59l7.78-7.78 2.81-2.81c.8-.78.8-2.07 0-2.86zM5.41 20L4 18.59l7.72-7.72 1.47 1.35L5.41 20z\"/>\n",
              "  </svg>\n",
              "      </button>\n",
              "      \n",
              "  <style>\n",
              "    .colab-df-container {\n",
              "      display:flex;\n",
              "      flex-wrap:wrap;\n",
              "      gap: 12px;\n",
              "    }\n",
              "\n",
              "    .colab-df-convert {\n",
              "      background-color: #E8F0FE;\n",
              "      border: none;\n",
              "      border-radius: 50%;\n",
              "      cursor: pointer;\n",
              "      display: none;\n",
              "      fill: #1967D2;\n",
              "      height: 32px;\n",
              "      padding: 0 0 0 0;\n",
              "      width: 32px;\n",
              "    }\n",
              "\n",
              "    .colab-df-convert:hover {\n",
              "      background-color: #E2EBFA;\n",
              "      box-shadow: 0px 1px 2px rgba(60, 64, 67, 0.3), 0px 1px 3px 1px rgba(60, 64, 67, 0.15);\n",
              "      fill: #174EA6;\n",
              "    }\n",
              "\n",
              "    [theme=dark] .colab-df-convert {\n",
              "      background-color: #3B4455;\n",
              "      fill: #D2E3FC;\n",
              "    }\n",
              "\n",
              "    [theme=dark] .colab-df-convert:hover {\n",
              "      background-color: #434B5C;\n",
              "      box-shadow: 0px 1px 3px 1px rgba(0, 0, 0, 0.15);\n",
              "      filter: drop-shadow(0px 1px 2px rgba(0, 0, 0, 0.3));\n",
              "      fill: #FFFFFF;\n",
              "    }\n",
              "  </style>\n",
              "\n",
              "      <script>\n",
              "        const buttonEl =\n",
              "          document.querySelector('#df-969d3738-7499-48d5-b0c0-559d122ee908 button.colab-df-convert');\n",
              "        buttonEl.style.display =\n",
              "          google.colab.kernel.accessAllowed ? 'block' : 'none';\n",
              "\n",
              "        async function convertToInteractive(key) {\n",
              "          const element = document.querySelector('#df-969d3738-7499-48d5-b0c0-559d122ee908');\n",
              "          const dataTable =\n",
              "            await google.colab.kernel.invokeFunction('convertToInteractive',\n",
              "                                                     [key], {});\n",
              "          if (!dataTable) return;\n",
              "\n",
              "          const docLinkHtml = 'Like what you see? Visit the ' +\n",
              "            '<a target=\"_blank\" href=https://colab.research.google.com/notebooks/data_table.ipynb>data table notebook</a>'\n",
              "            + ' to learn more about interactive tables.';\n",
              "          element.innerHTML = '';\n",
              "          dataTable['output_type'] = 'display_data';\n",
              "          await google.colab.output.renderOutput(dataTable, element);\n",
              "          const docLink = document.createElement('div');\n",
              "          docLink.innerHTML = docLinkHtml;\n",
              "          element.appendChild(docLink);\n",
              "        }\n",
              "      </script>\n",
              "    </div>\n",
              "  </div>\n",
              "  "
            ]
          },
          "metadata": {},
          "execution_count": 302
        }
      ]
    },
    {
      "cell_type": "code",
      "source": [
        "# 3. Calcular porcentaje de goles realizados como visitante(Away) y local(Home) con respecto al total de goles.\n",
        "ronaldo['gol_local']=0\n",
        "ronaldo['gol_visitante']=0"
      ],
      "metadata": {
        "id": "5kNUdWNhSM5a"
      },
      "execution_count": null,
      "outputs": []
    },
    {
      "cell_type": "code",
      "source": [
        "def result_equipo(evento, goles):\n",
        "  if goles is pd.NA or evento is pd.NA:\n",
        "    return None\n",
        "  else:\n",
        "    goles=str(goles)\n",
        "\n",
        "  if evento == 'Home':\n",
        "    return 1\n",
        "\n",
        "  elif evento =='Away': \n",
        "    return 0\n",
        "  else:\n",
        "    return None\n",
        "\n",
        "for i in range(ronaldo.shape[0]):\n",
        "  ronaldo['gol_local'][i]= result_equipo(ronaldo['Evento'][i], ronaldo['Minuto'][i])"
      ],
      "metadata": {
        "colab": {
          "base_uri": "https://localhost:8080/"
        },
        "id": "3n9ZJJwT0S_o",
        "outputId": "9076ec92-9fd7-42a0-e738-d53860b073ae"
      },
      "execution_count": null,
      "outputs": [
        {
          "output_type": "stream",
          "name": "stderr",
          "text": [
            "/usr/local/lib/python3.7/dist-packages/ipykernel_launcher.py:16: SettingWithCopyWarning:\n",
            "\n",
            "\n",
            "A value is trying to be set on a copy of a slice from a DataFrame\n",
            "\n",
            "See the caveats in the documentation: https://pandas.pydata.org/pandas-docs/stable/user_guide/indexing.html#returning-a-view-versus-a-copy\n",
            "\n"
          ]
        }
      ]
    },
    {
      "cell_type": "code",
      "source": [
        "def result_oponent(evento, resultado):\n",
        "\n",
        "  if evento == 'Home':\n",
        "    return 0\n",
        "\n",
        "  elif evento =='Away': \n",
        "    return 1\n",
        "\n",
        "for i in range(ronaldo.shape[0]):\n",
        "  ronaldo['gol_visitante'][i]= result_oponent(ronaldo['Evento'][i], ronaldo['Resultado'][i])"
      ],
      "metadata": {
        "colab": {
          "base_uri": "https://localhost:8080/"
        },
        "id": "DoMOVsCJMy9w",
        "outputId": "0689cfb2-63e7-4dba-9ca0-b073a010afb9"
      },
      "execution_count": null,
      "outputs": [
        {
          "output_type": "stream",
          "name": "stderr",
          "text": [
            "/usr/local/lib/python3.7/dist-packages/ipykernel_launcher.py:10: SettingWithCopyWarning:\n",
            "\n",
            "\n",
            "A value is trying to be set on a copy of a slice from a DataFrame\n",
            "\n",
            "See the caveats in the documentation: https://pandas.pydata.org/pandas-docs/stable/user_guide/indexing.html#returning-a-view-versus-a-copy\n",
            "\n"
          ]
        }
      ]
    },
    {
      "cell_type": "code",
      "source": [
        "promedio_gol_local = round(ronaldo['gol_local'].count() * 100 / ronaldo['gol_local'].sum(), 2)\n",
        "print(f'El promedio de gol de Ronaldo de Local es de {promedio_gol_local}%')"
      ],
      "metadata": {
        "colab": {
          "base_uri": "https://localhost:8080/"
        },
        "id": "zI0IWRs-NVeL",
        "outputId": "768b8d32-a730-434e-8577-4fb3d9572fb1"
      },
      "execution_count": null,
      "outputs": [
        {
          "output_type": "stream",
          "name": "stdout",
          "text": [
            "El promedio de gol de Ronaldo de Local es de 173.88%\n"
          ]
        }
      ]
    },
    {
      "cell_type": "code",
      "source": [
        "promedio_gol_visitante = round(ronaldo['gol_visitante'].count() * 100 / ronaldo['gol_visitante'].sum(), 2)\n",
        "print(f'El promedio de gol de Ronaldo de visitante es de {promedio_gol_visitante}%')"
      ],
      "metadata": {
        "colab": {
          "base_uri": "https://localhost:8080/"
        },
        "id": "XxIwGdeBdibk",
        "outputId": "d3495ef9-0b03-4837-de78-4bc98132c519"
      },
      "execution_count": null,
      "outputs": [
        {
          "output_type": "stream",
          "name": "stdout",
          "text": [
            "El promedio de gol de Ronaldo de visitante es de 235.35%\n"
          ]
        }
      ]
    },
    {
      "cell_type": "code",
      "source": [
        "# 4. oponente al que le metió más goles\n",
        "oponent = ronaldo.groupby('Oponente').count()\n",
        "goleados = pd.DataFrame(oponent.Minuto).reset_index()\n",
        "goleados.rename(columns={'Minuto':'Goles'}, inplace=True)\n",
        "equipo_mas_goleado = goleados.sort_values('Goles')\n",
        "print(f'El equipo más goleado por Ronaldo es {equipo_mas_goleado.Oponente.iloc[-1]}')"
      ],
      "metadata": {
        "colab": {
          "base_uri": "https://localhost:8080/"
        },
        "id": "SD1DZJt9i5qi",
        "outputId": "65298adf-1267-4247-caa4-7b0ef6e6feb8"
      },
      "execution_count": null,
      "outputs": [
        {
          "output_type": "stream",
          "name": "stdout",
          "text": [
            "El equipo más goleado por Ronaldo es Sevilla FC\n"
          ]
        }
      ]
    },
    {
      "cell_type": "code",
      "source": [
        "# 5. Contra que oponente jugó más fechas\n",
        "rivales = ronaldo.groupby(['Oponente', 'Fecha']).size()\n",
        "rivales_enfrentados = pd.DataFrame(rivales).reset_index()\n",
        "mayor_rival = rivales_enfrentados['Oponente'].value_counts().reset_index()\n",
        "mayor_rival.rename(columns={'Oponente':'Enfrentamientos'}, inplace=True)\n",
        "mayor_rival.rename(columns={'index':'Oponente'}, inplace=True)\n",
        "print (f'El club al que Ronaldo enfrentó más veces fue {mayor_rival.Oponente[0]}')"
      ],
      "metadata": {
        "id": "icf6TRCjl4z6",
        "colab": {
          "base_uri": "https://localhost:8080/"
        },
        "outputId": "e07d16f0-f647-4880-e435-dd0ea5c6ad9f"
      },
      "execution_count": null,
      "outputs": [
        {
          "output_type": "stream",
          "name": "stdout",
          "text": [
            "El club al que Ronaldo enfrentó más veces fue FC Barcelona\n"
          ]
        }
      ]
    },
    {
      "cell_type": "code",
      "source": [
        "# 6. Realiza un caso de uso a gusto , osea analiza lo que gustes. Es libre!\n",
        "# porcentaje de tipos de goles realizados\n",
        "agrupando_goles = ronaldo.groupby('Tipo_de_gol').size()\n",
        "tipos_de_goles = pd.DataFrame(agrupando_goles).reset_index()\n",
        "tipos_de_goles.rename(columns={0:'Cantidad'}, inplace=True)\n",
        "forma_gol = tipos_de_goles.sort_values('Cantidad')\n",
        "print(f'La mayor forma de anotar de Ronaldo es de {forma_gol.Tipo_de_gol.iloc[-1]} con un cantidad de {forma_gol.Cantidad.iloc[-1]} goles')\n",
        "print(f'La menor forma de anotar de Ronaldo es de {forma_gol.Tipo_de_gol.iloc[0]} con un cantidad de {forma_gol.Cantidad.iloc[0]} goles')"
      ],
      "metadata": {
        "id": "0HJzP7vYmL_A",
        "colab": {
          "base_uri": "https://localhost:8080/"
        },
        "outputId": "06d2fd62-865c-477f-bbd0-39924309353d"
      },
      "execution_count": null,
      "outputs": [
        {
          "output_type": "stream",
          "name": "stdout",
          "text": [
            "La mayor forma de anotar de Ronaldo es de Right-footed shot con un cantidad de 251 goles\n",
            "La menor forma de anotar de Ronaldo es de Deflected shot on goal con un cantidad de 2 goles\n"
          ]
        }
      ]
    },
    {
      "cell_type": "code",
      "source": [
        "# 7. Realizar al menos tres gráficos con plotly, a gusto!\n",
        "# aprovechando el ejercicio anterior realizo un gráfico mostrando sus goles\n",
        "px.histogram(forma_gol,\n",
        "             template = \"gridon\",\n",
        "             color = \"Tipo_de_gol\", \n",
        "             x = \"Tipo_de_gol\",\n",
        "             y = \"Cantidad\",\n",
        "             labels = {\"sum of Cantidad\":\"Cantidad\",\n",
        "                       \"Tipo_de_gol\":\"Tipo de gol\"},\n",
        "             title = \"Histograma por Tipos de Gol\")"
      ],
      "metadata": {
        "colab": {
          "base_uri": "https://localhost:8080/",
          "height": 542
        },
        "id": "ntzaSjJZ7rrB",
        "outputId": "59064538-7ae3-458c-bd14-1c8ca14e29ef"
      },
      "execution_count": null,
      "outputs": [
        {
          "output_type": "display_data",
          "data": {
            "text/html": [
              "<html>\n",
              "<head><meta charset=\"utf-8\" /></head>\n",
              "<body>\n",
              "    <div>            <script src=\"https://cdnjs.cloudflare.com/ajax/libs/mathjax/2.7.5/MathJax.js?config=TeX-AMS-MML_SVG\"></script><script type=\"text/javascript\">if (window.MathJax) {MathJax.Hub.Config({SVG: {font: \"STIX-Web\"}});}</script>                <script type=\"text/javascript\">window.PlotlyConfig = {MathJaxConfig: 'local'};</script>\n",
              "        <script src=\"https://cdn.plot.ly/plotly-2.8.3.min.js\"></script>                <div id=\"dda53834-0383-4b76-900d-5f467adc97a1\" class=\"plotly-graph-div\" style=\"height:525px; width:100%;\"></div>            <script type=\"text/javascript\">                                    window.PLOTLYENV=window.PLOTLYENV || {};                                    if (document.getElementById(\"dda53834-0383-4b76-900d-5f467adc97a1\")) {                    Plotly.newPlot(                        \"dda53834-0383-4b76-900d-5f467adc97a1\",                        [{\"alignmentgroup\":\"True\",\"bingroup\":\"x\",\"histfunc\":\"sum\",\"hovertemplate\":\"Tipo de gol=%{x}<br>sum of Cantidad=%{y}<extra></extra>\",\"legendgroup\":\"Deflected shot on goal\",\"marker\":{\"color\":\"#1F77B4\",\"pattern\":{\"shape\":\"\"}},\"name\":\"Deflected shot on goal\",\"offsetgroup\":\"Deflected shot on goal\",\"orientation\":\"v\",\"showlegend\":true,\"x\":[\"Deflected shot on goal\"],\"xaxis\":\"x\",\"y\":[2],\"yaxis\":\"y\",\"type\":\"histogram\"},{\"alignmentgroup\":\"True\",\"bingroup\":\"x\",\"histfunc\":\"sum\",\"hovertemplate\":\"Tipo de gol=%{x}<br>sum of Cantidad=%{y}<extra></extra>\",\"legendgroup\":\"Solo run\",\"marker\":{\"color\":\"#FF7F0E\",\"pattern\":{\"shape\":\"\"}},\"name\":\"Solo run\",\"offsetgroup\":\"Solo run\",\"orientation\":\"v\",\"showlegend\":true,\"x\":[\"Solo run\"],\"xaxis\":\"x\",\"y\":[2],\"yaxis\":\"y\",\"type\":\"histogram\"},{\"alignmentgroup\":\"True\",\"bingroup\":\"x\",\"histfunc\":\"sum\",\"hovertemplate\":\"Tipo de gol=%{x}<br>sum of Cantidad=%{y}<extra></extra>\",\"legendgroup\":\"Penalty rebound\",\"marker\":{\"color\":\"#2CA02C\",\"pattern\":{\"shape\":\"\"}},\"name\":\"Penalty rebound\",\"offsetgroup\":\"Penalty rebound\",\"orientation\":\"v\",\"showlegend\":true,\"x\":[\"Penalty rebound\"],\"xaxis\":\"x\",\"y\":[3],\"yaxis\":\"y\",\"type\":\"histogram\"},{\"alignmentgroup\":\"True\",\"bingroup\":\"x\",\"histfunc\":\"sum\",\"hovertemplate\":\"Tipo de gol=%{x}<br>sum of Cantidad=%{y}<extra></extra>\",\"legendgroup\":\"Counter attack goal\",\"marker\":{\"color\":\"#D62728\",\"pattern\":{\"shape\":\"\"}},\"name\":\"Counter attack goal\",\"offsetgroup\":\"Counter attack goal\",\"orientation\":\"v\",\"showlegend\":true,\"x\":[\"Counter attack goal\"],\"xaxis\":\"x\",\"y\":[4],\"yaxis\":\"y\",\"type\":\"histogram\"},{\"alignmentgroup\":\"True\",\"bingroup\":\"x\",\"histfunc\":\"sum\",\"hovertemplate\":\"Tipo de gol=%{x}<br>sum of Cantidad=%{y}<extra></extra>\",\"legendgroup\":\"Long distance kick\",\"marker\":{\"color\":\"#9467BD\",\"pattern\":{\"shape\":\"\"}},\"name\":\"Long distance kick\",\"offsetgroup\":\"Long distance kick\",\"orientation\":\"v\",\"showlegend\":true,\"x\":[\"Long distance kick\"],\"xaxis\":\"x\",\"y\":[9],\"yaxis\":\"y\",\"type\":\"histogram\"},{\"alignmentgroup\":\"True\",\"bingroup\":\"x\",\"histfunc\":\"sum\",\"hovertemplate\":\"Tipo de gol=%{x}<br>sum of Cantidad=%{y}<extra></extra>\",\"legendgroup\":\"Tap-in\",\"marker\":{\"color\":\"#8C564B\",\"pattern\":{\"shape\":\"\"}},\"name\":\"Tap-in\",\"offsetgroup\":\"Tap-in\",\"orientation\":\"v\",\"showlegend\":true,\"x\":[\"Tap-in\"],\"xaxis\":\"x\",\"y\":[14],\"yaxis\":\"y\",\"type\":\"histogram\"},{\"alignmentgroup\":\"True\",\"bingroup\":\"x\",\"histfunc\":\"sum\",\"hovertemplate\":\"Tipo de gol=%{x}<br>sum of Cantidad=%{y}<extra></extra>\",\"legendgroup\":\"Not Applicable\",\"marker\":{\"color\":\"#E377C2\",\"pattern\":{\"shape\":\"\"}},\"name\":\"Not Applicable\",\"offsetgroup\":\"Not Applicable\",\"orientation\":\"v\",\"showlegend\":true,\"x\":[\"Not Applicable\"],\"xaxis\":\"x\",\"y\":[15],\"yaxis\":\"y\",\"type\":\"histogram\"},{\"alignmentgroup\":\"True\",\"bingroup\":\"x\",\"histfunc\":\"sum\",\"hovertemplate\":\"Tipo de gol=%{x}<br>sum of Cantidad=%{y}<extra></extra>\",\"legendgroup\":\"Direct free kick\",\"marker\":{\"color\":\"#7F7F7F\",\"pattern\":{\"shape\":\"\"}},\"name\":\"Direct free kick\",\"offsetgroup\":\"Direct free kick\",\"orientation\":\"v\",\"showlegend\":true,\"x\":[\"Direct free kick\"],\"xaxis\":\"x\",\"y\":[48],\"yaxis\":\"y\",\"type\":\"histogram\"},{\"alignmentgroup\":\"True\",\"bingroup\":\"x\",\"histfunc\":\"sum\",\"hovertemplate\":\"Tipo de gol=%{x}<br>sum of Cantidad=%{y}<extra></extra>\",\"legendgroup\":\"Left-footed shot\",\"marker\":{\"color\":\"#BCBD22\",\"pattern\":{\"shape\":\"\"}},\"name\":\"Left-footed shot\",\"offsetgroup\":\"Left-footed shot\",\"orientation\":\"v\",\"showlegend\":true,\"x\":[\"Left-footed shot\"],\"xaxis\":\"x\",\"y\":[110],\"yaxis\":\"y\",\"type\":\"histogram\"},{\"alignmentgroup\":\"True\",\"bingroup\":\"x\",\"histfunc\":\"sum\",\"hovertemplate\":\"Tipo de gol=%{x}<br>sum of Cantidad=%{y}<extra></extra>\",\"legendgroup\":\"Header\",\"marker\":{\"color\":\"#17BECF\",\"pattern\":{\"shape\":\"\"}},\"name\":\"Header\",\"offsetgroup\":\"Header\",\"orientation\":\"v\",\"showlegend\":true,\"x\":[\"Header\"],\"xaxis\":\"x\",\"y\":[112],\"yaxis\":\"y\",\"type\":\"histogram\"},{\"alignmentgroup\":\"True\",\"bingroup\":\"x\",\"histfunc\":\"sum\",\"hovertemplate\":\"Tipo de gol=%{x}<br>sum of Cantidad=%{y}<extra></extra>\",\"legendgroup\":\"Penalty\",\"marker\":{\"color\":\"#1F77B4\",\"pattern\":{\"shape\":\"\"}},\"name\":\"Penalty\",\"offsetgroup\":\"Penalty\",\"orientation\":\"v\",\"showlegend\":true,\"x\":[\"Penalty\"],\"xaxis\":\"x\",\"y\":[129],\"yaxis\":\"y\",\"type\":\"histogram\"},{\"alignmentgroup\":\"True\",\"bingroup\":\"x\",\"histfunc\":\"sum\",\"hovertemplate\":\"Tipo de gol=%{x}<br>sum of Cantidad=%{y}<extra></extra>\",\"legendgroup\":\"Right-footed shot\",\"marker\":{\"color\":\"#FF7F0E\",\"pattern\":{\"shape\":\"\"}},\"name\":\"Right-footed shot\",\"offsetgroup\":\"Right-footed shot\",\"orientation\":\"v\",\"showlegend\":true,\"x\":[\"Right-footed shot\"],\"xaxis\":\"x\",\"y\":[251],\"yaxis\":\"y\",\"type\":\"histogram\"}],                        {\"template\":{\"data\":{\"pie\":[{\"automargin\":true,\"type\":\"pie\"}]},\"layout\":{\"xaxis\":{\"showgrid\":true,\"title\":{\"standoff\":15}},\"yaxis\":{\"showgrid\":true,\"title\":{\"standoff\":15}}}},\"xaxis\":{\"anchor\":\"y\",\"domain\":[0.0,1.0],\"title\":{\"text\":\"Tipo de gol\"},\"categoryorder\":\"array\",\"categoryarray\":[\"Deflected shot on goal\",\"Solo run\",\"Penalty rebound\",\"Counter attack goal\",\"Long distance kick\",\"Tap-in\",\"Not Applicable\",\"Direct free kick\",\"Left-footed shot\",\"Header\",\"Penalty\",\"Right-footed shot\"]},\"yaxis\":{\"anchor\":\"x\",\"domain\":[0.0,1.0],\"title\":{\"text\":\"sum of Cantidad\"}},\"legend\":{\"title\":{\"text\":\"Tipo de gol\"},\"tracegroupgap\":0},\"title\":{\"text\":\"Histograma por Tipos de Gol\"},\"barmode\":\"relative\"},                        {\"responsive\": true}                    ).then(function(){\n",
              "                            \n",
              "var gd = document.getElementById('dda53834-0383-4b76-900d-5f467adc97a1');\n",
              "var x = new MutationObserver(function (mutations, observer) {{\n",
              "        var display = window.getComputedStyle(gd).display;\n",
              "        if (!display || display === 'none') {{\n",
              "            console.log([gd, 'removed!']);\n",
              "            Plotly.purge(gd);\n",
              "            observer.disconnect();\n",
              "        }}\n",
              "}});\n",
              "\n",
              "// Listen for the removal of the full notebook cells\n",
              "var notebookContainer = gd.closest('#notebook-container');\n",
              "if (notebookContainer) {{\n",
              "    x.observe(notebookContainer, {childList: true});\n",
              "}}\n",
              "\n",
              "// Listen for the clearing of the current output cell\n",
              "var outputEl = gd.closest('.output');\n",
              "if (outputEl) {{\n",
              "    x.observe(outputEl, {childList: true});\n",
              "}}\n",
              "\n",
              "                        })                };                            </script>        </div>\n",
              "</body>\n",
              "</html>"
            ]
          },
          "metadata": {}
        }
      ]
    },
    {
      "cell_type": "code",
      "source": [
        "# Equipos a los cuales Ronaldo les realizó gol basandome en el torneo disputado.\n",
        "px.treemap(ronaldo,\n",
        "           path = [\"Torneo\", \"Oponente\"],\n",
        "           hover_name = \"Torneo\",\n",
        "           title = \"Equipos por Torneo\"\n",
        "           )"
      ],
      "metadata": {
        "colab": {
          "base_uri": "https://localhost:8080/",
          "height": 542
        },
        "id": "M4FjFCyO-M1e",
        "outputId": "d1c01ae5-07e5-4fb8-c2c5-7121066d0c44"
      },
      "execution_count": null,
      "outputs": [
        {
          "output_type": "display_data",
          "data": {
            "text/html": [
              "<html>\n",
              "<head><meta charset=\"utf-8\" /></head>\n",
              "<body>\n",
              "    <div>            <script src=\"https://cdnjs.cloudflare.com/ajax/libs/mathjax/2.7.5/MathJax.js?config=TeX-AMS-MML_SVG\"></script><script type=\"text/javascript\">if (window.MathJax) {MathJax.Hub.Config({SVG: {font: \"STIX-Web\"}});}</script>                <script type=\"text/javascript\">window.PlotlyConfig = {MathJaxConfig: 'local'};</script>\n",
              "        <script src=\"https://cdn.plot.ly/plotly-2.8.3.min.js\"></script>                <div id=\"ca2895c8-cb63-4355-a672-3ef2d9229b46\" class=\"plotly-graph-div\" style=\"height:525px; width:100%;\"></div>            <script type=\"text/javascript\">                                    window.PLOTLYENV=window.PLOTLYENV || {};                                    if (document.getElementById(\"ca2895c8-cb63-4355-a672-3ef2d9229b46\")) {                    Plotly.newPlot(                        \"ca2895c8-cb63-4355-a672-3ef2d9229b46\",                        [{\"branchvalues\":\"total\",\"domain\":{\"x\":[0.0,1.0],\"y\":[0.0,1.0]},\"hovertemplate\":\"<b>%{hovertext}</b><br><br>labels=%{label}<br>count=%{value}<br>parent=%{parent}<br>id=%{id}<extra></extra>\",\"hovertext\":[\"Champions League \",\"Italy Cup \",\"Serie A \",\"Supercoppa Italiana \",\"Serie A \",\"Champions League \",\"Champions League \",\"Champions League \",\"Italy Cup \",\"Serie A \",\"Champions League \",\"Club World Cup \",\"Champions League \",\"Premier League \",\"FA Cup \",\"Premier League \",\"Champions League \",\"Serie A \",\"LaLiga \",\"Champions League \",\"Copa del Rey \",\"LaLiga \",\"Champions League \",\"Champions League \",\"Champions League \",\"Premier League \",\"Premier League \",\"Liga Portugal \",\"Serie A \",\"Premier League \",\"Champions League \",\"Premier League \",\"Premier League \",\"Premier League \",\"Copa del Rey \",\"LaLiga \",\"Ta\\u00e7a de Portugal \",\"LaLiga \",\"Club World Cup \",\"Champions League \",\"Serie A \",\"Copa del Rey \",\"LaLiga \",\"Premier League \",\"Champions League \",\"Premier League \",\"LaLiga \",\"Champions League Qu. \",\"LaLiga \",\"LaLiga \",\"EFL Cup \",\"FA Cup \",\"Premier League \",\"Champions League \",\"LaLiga \",\"Serie A \",\"FA Cup \",\"Premier League \",\"FA Cup \",\"Champions League \",\"Copa del Rey \",\"LaLiga \",\"Supercopa \",\"Champions League \",\"Champions League \",\"Serie A \",\"Champions League \",\"Ta\\u00e7a de Portugal \",\"Champions League \",\"Champions League \",\"Europa League \",\"Champions League \",\"Champions League \",\"Serie A \",\"Premier League \",\"Champions League \",\"Club World Cup \",\"Serie A \",\"LaLiga \",\"LaLiga \",\"LaLiga \",\"Club World Cup \",\"Serie A \",\"Premier League \",\"LaLiga \",\"Italy Cup \",\"Serie A \",\"Champions League \",\"Club World Cup \",\"Copa del Rey \",\"LaLiga \",\"Champions League \",\"Premier League \",\"Champions League \",\"Champions League \",\"Champions League \",\"FA Cup \",\"Premier League \",\"Champions League \",\"EFL Cup \",\"FA Cup \",\"Premier League \",\"FA Cup \",\"Liga Portugal \",\"LaLiga \",\"FA Cup \",\"Premier League \",\"Premier League \",\"Champions League \",\"Champions League \",\"Champions League \",\"Serie A \",\"Premier League \",\"LaLiga \",\"LaLiga \",\"LaLiga \",\"LaLiga \",\"Premier League \",\"LaLiga \",\"Copa del Rey \",\"LaLiga \",\"LaLiga \",\"LaLiga \",\"LaLiga \",\"Copa del Rey \",\"Serie A \",\"Serie A \",\"Serie A \",\"Supercoppa Italiana \",\"LaLiga \",\"UEFA Super Cup \",\"Champions League \",\"FA Cup \",\"Premier League \",\"Serie A \",\"Champions League \",\"LaLiga \",\"Premier League \",\"Premier League \",\"Serie A \",\"Champions League \",\"FA Cup \",\"Premier League \",\"Serie A \",\"LaLiga \",\"LaLiga \",\"Serie A \",\"Serie A \",\"Serie A \",\"LaLiga \",\"Champions League \",\"Champions League \",\"LaLiga \",\"FA Cup \",\"Premier League \",\"EFL Cup \",\"Premier League \",\"Premier League \",\"EFL Cup \",\"Premier League \",\"LaLiga \",\"Champions League \",\"Champions League Qu. \",\"Club World Cup \",\"Copa del Rey \",\"EFL Cup \",\"Europa League \",\"FA Cup \",\"Italy Cup \",\"LaLiga \",\"Liga Portugal \",\"Premier League \",\"Serie A \",\"Supercopa \",\"Supercoppa Italiana \",\"Ta\\u00e7a de Portugal \",\"UEFA Super Cup \"],\"ids\":[\"Champions League /AC Milan\",\"Italy Cup /AC Milan\",\"Serie A /AC Milan\",\"Supercoppa Italiana /AC Milan\",\"Serie A /ACF Fiorentina\",\"Champions League /AJ Auxerre\",\"Champions League /APOEL Nicosia\",\"Champions League /AS Roma\",\"Italy Cup /AS Roma\",\"Serie A /AS Roma\",\"Champions League /Ajax Amsterdam\",\"Club World Cup /Al-Jazira (Abu Dhabi)\",\"Champions League /Arsenal FC\",\"Premier League /Arsenal FC\",\"FA Cup /Aston Villa\",\"Premier League /Aston Villa\",\"Champions League /Atalanta BC\",\"Serie A /Atalanta BC\",\"LaLiga /Athletic Bilbao\",\"Champions League /Atl\\u00e9tico de Madrid\",\"Copa del Rey /Atl\\u00e9tico de Madrid\",\"LaLiga /Atl\\u00e9tico de Madrid\",\"Champions League /BSC Young Boys\",\"Champions League /Bayer 04 Leverkusen\",\"Champions League /Bayern Munich\",\"Premier League /Birmingham City\",\"Premier League /Blackburn Rovers\",\"Liga Portugal /Boavista FC\",\"Serie A /Bologna FC 1909\",\"Premier League /Bolton Wanderers\",\"Champions League /Borussia Dortmund\",\"Premier League /Brentford FC\",\"Premier League /Brighton &amp; Hove Albion\",\"Premier League /Burnley FC\",\"Copa del Rey /CA Osasuna\",\"LaLiga /CA Osasuna\",\"Ta\\u00e7a de Portugal /CD Estarreja\",\"LaLiga /CD Tenerife\",\"Club World Cup /CF Am\\u00e9rica\",\"Champions League /CSKA Moscow\",\"Serie A /Cagliari Calcio\",\"Copa del Rey /Celta de Vigo\",\"LaLiga /Celta de Vigo\",\"Premier League /Charlton Athletic\",\"Champions League /Chelsea FC\",\"Premier League /Chelsea FC\",\"LaLiga /C\\u00f3rdoba CF\",\"Champions League Qu. /Debreceni VSC\",\"LaLiga /Deportivo Alav\\u00e9s\",\"LaLiga /Deportivo de La Coru\\u00f1a\",\"EFL Cup /Derby County\",\"FA Cup /Derby County\",\"Premier League /Derby County\",\"Champions League /Dynamo Kyiv\",\"LaLiga /Elche CF\",\"Serie A /Empoli FC \",\"FA Cup /Everton FC\",\"Premier League /Everton FC\",\"FA Cup /Exeter City\",\"Champions League /FC Barcelona\",\"Copa del Rey /FC Barcelona\",\"LaLiga /FC Barcelona\",\"Supercopa /FC Barcelona\",\"Champions League /FC Basel 1893\",\"Champions League /FC Copenhagen\",\"Serie A /FC Crotone\",\"Champions League /FC Internazionale\",\"Ta\\u00e7a de Portugal /FC Oliveira do Hospital\",\"Champions League /FC Porto\",\"Champions League /FC Schalke 04\",\"Europa League /FC Sheriff Tiraspol\",\"Champions League /FC Z\\u00fcrich\",\"Champions League /Ferencv\\u00e1rosi TC\",\"Serie A /Frosinone Calcio\",\"Premier League /Fulham FC\",\"Champions League /Galatasaray\",\"Club World Cup /Gamba Osaka\",\"Serie A /Genoa CFC\",\"LaLiga /Getafe CF\",\"LaLiga /Girona FC\",\"LaLiga /Granada CF\",\"Club World Cup /Gr\\u00eamio Foot-Ball Porto Alegrense\",\"Serie A /Hellas Verona\",\"Premier League /Hull City\",\"LaLiga /H\\u00e9rcules CF\",\"Italy Cup /Inter Milan\",\"Serie A /Inter Milan\",\"Champions League /Juventus FC\",\"Club World Cup /Kashima Antlers\",\"Copa del Rey /Levante UD\",\"LaLiga /Levante UD\",\"Champions League /Liverpool FC\",\"Premier League /Liverpool FC\",\"Champions League /Ludogorets Razgrad\",\"Champions League /Malm\\u00f6 FF\",\"Champions League /Manchester City\",\"FA Cup /Manchester City\",\"Premier League /Manchester City\",\"Champions League /Manchester United\",\"EFL Cup /Middlesbrough FC\",\"FA Cup /Middlesbrough FC\",\"Premier League /Middlesbrough FC\",\"FA Cup /Millwall FC\",\"Liga Portugal /Moreirense FC\",\"LaLiga /M\\u00e1laga CF\",\"FA Cup /Newcastle United\",\"Premier League /Newcastle United\",\"Premier League /Norwich City\",\"Champions League /Olympique Lyon\",\"Champions League /Olympique Marseille\",\"Champions League /Paris Saint-Germain\",\"Serie A /Parma Calcio 1913\",\"Premier League /Portsmouth FC\",\"LaLiga /RCD Espanyol Barcelona\",\"LaLiga /RCD Mallorca\",\"LaLiga /Racing Santander\",\"LaLiga /Rayo Vallecano\",\"Premier League /Reading FC\",\"LaLiga /Real Betis Balompi\\u00e9\",\"Copa del Rey /Real Murcia CF\",\"LaLiga /Real Sociedad\",\"LaLiga /Real Valladolid CF\",\"LaLiga /Real Zaragoza\",\"LaLiga /SD Eibar\",\"Copa del Rey /SD Ponferradina\",\"Serie A /SPAL\",\"Serie A /SS Lazio\",\"Serie A /SSC Napoli\",\"Supercoppa Italiana /SSC Napoli\",\"LaLiga /Sevilla FC\",\"UEFA Super Cup /Sevilla FC\",\"Champions League /Shakhtar Donetsk\",\"FA Cup /Southampton FC\",\"Premier League /Southampton FC\",\"Serie A /Spezia Calcio\",\"Champions League /Sporting CP\",\"LaLiga /Sporting Gij\\u00f3n\",\"Premier League /Stoke City\",\"Premier League /Sunderland AFC\",\"Serie A /Torino FC\",\"Champions League /Tottenham Hotspur\",\"FA Cup /Tottenham Hotspur\",\"Premier League /Tottenham Hotspur\",\"Serie A /UC Sampdoria\",\"LaLiga /UD Almer\\u00eda\",\"LaLiga /UD Las Palmas\",\"Serie A /US Lecce\",\"Serie A /US Sassuolo\",\"Serie A /Udinese Calcio\",\"LaLiga /Valencia CF\",\"Champions League /VfL Wolfsburg\",\"Champions League /Villarreal CF\",\"LaLiga /Villarreal CF\",\"FA Cup /Watford FC\",\"Premier League /Watford FC\",\"EFL Cup /West Bromwich Albion\",\"Premier League /West Bromwich Albion\",\"Premier League /West Ham United\",\"EFL Cup /Wigan Athletic\",\"Premier League /Wigan Athletic\",\"LaLiga /Xerez CD\",\"Champions League \",\"Champions League Qu. \",\"Club World Cup \",\"Copa del Rey \",\"EFL Cup \",\"Europa League \",\"FA Cup \",\"Italy Cup \",\"LaLiga \",\"Liga Portugal \",\"Premier League \",\"Serie A \",\"Supercopa \",\"Supercoppa Italiana \",\"Ta\\u00e7a de Portugal \",\"UEFA Super Cup \"],\"labels\":[\"AC Milan\",\"AC Milan\",\"AC Milan\",\"AC Milan\",\"ACF Fiorentina\",\"AJ Auxerre\",\"APOEL Nicosia\",\"AS Roma\",\"AS Roma\",\"AS Roma\",\"Ajax Amsterdam\",\"Al-Jazira (Abu Dhabi)\",\"Arsenal FC\",\"Arsenal FC\",\"Aston Villa\",\"Aston Villa\",\"Atalanta BC\",\"Atalanta BC\",\"Athletic Bilbao\",\"Atl\\u00e9tico de Madrid\",\"Atl\\u00e9tico de Madrid\",\"Atl\\u00e9tico de Madrid\",\"BSC Young Boys\",\"Bayer 04 Leverkusen\",\"Bayern Munich\",\"Birmingham City\",\"Blackburn Rovers\",\"Boavista FC\",\"Bologna FC 1909\",\"Bolton Wanderers\",\"Borussia Dortmund\",\"Brentford FC\",\"Brighton &amp; Hove Albion\",\"Burnley FC\",\"CA Osasuna\",\"CA Osasuna\",\"CD Estarreja\",\"CD Tenerife\",\"CF Am\\u00e9rica\",\"CSKA Moscow\",\"Cagliari Calcio\",\"Celta de Vigo\",\"Celta de Vigo\",\"Charlton Athletic\",\"Chelsea FC\",\"Chelsea FC\",\"C\\u00f3rdoba CF\",\"Debreceni VSC\",\"Deportivo Alav\\u00e9s\",\"Deportivo de La Coru\\u00f1a\",\"Derby County\",\"Derby County\",\"Derby County\",\"Dynamo Kyiv\",\"Elche CF\",\"Empoli FC \",\"Everton FC\",\"Everton FC\",\"Exeter City\",\"FC Barcelona\",\"FC Barcelona\",\"FC Barcelona\",\"FC Barcelona\",\"FC Basel 1893\",\"FC Copenhagen\",\"FC Crotone\",\"FC Internazionale\",\"FC Oliveira do Hospital\",\"FC Porto\",\"FC Schalke 04\",\"FC Sheriff Tiraspol\",\"FC Z\\u00fcrich\",\"Ferencv\\u00e1rosi TC\",\"Frosinone Calcio\",\"Fulham FC\",\"Galatasaray\",\"Gamba Osaka\",\"Genoa CFC\",\"Getafe CF\",\"Girona FC\",\"Granada CF\",\"Gr\\u00eamio Foot-Ball Porto Alegrense\",\"Hellas Verona\",\"Hull City\",\"H\\u00e9rcules CF\",\"Inter Milan\",\"Inter Milan\",\"Juventus FC\",\"Kashima Antlers\",\"Levante UD\",\"Levante UD\",\"Liverpool FC\",\"Liverpool FC\",\"Ludogorets Razgrad\",\"Malm\\u00f6 FF\",\"Manchester City\",\"Manchester City\",\"Manchester City\",\"Manchester United\",\"Middlesbrough FC\",\"Middlesbrough FC\",\"Middlesbrough FC\",\"Millwall FC\",\"Moreirense FC\",\"M\\u00e1laga CF\",\"Newcastle United\",\"Newcastle United\",\"Norwich City\",\"Olympique Lyon\",\"Olympique Marseille\",\"Paris Saint-Germain\",\"Parma Calcio 1913\",\"Portsmouth FC\",\"RCD Espanyol Barcelona\",\"RCD Mallorca\",\"Racing Santander\",\"Rayo Vallecano\",\"Reading FC\",\"Real Betis Balompi\\u00e9\",\"Real Murcia CF\",\"Real Sociedad\",\"Real Valladolid CF\",\"Real Zaragoza\",\"SD Eibar\",\"SD Ponferradina\",\"SPAL\",\"SS Lazio\",\"SSC Napoli\",\"SSC Napoli\",\"Sevilla FC\",\"Sevilla FC\",\"Shakhtar Donetsk\",\"Southampton FC\",\"Southampton FC\",\"Spezia Calcio\",\"Sporting CP\",\"Sporting Gij\\u00f3n\",\"Stoke City\",\"Sunderland AFC\",\"Torino FC\",\"Tottenham Hotspur\",\"Tottenham Hotspur\",\"Tottenham Hotspur\",\"UC Sampdoria\",\"UD Almer\\u00eda\",\"UD Las Palmas\",\"US Lecce\",\"US Sassuolo\",\"Udinese Calcio\",\"Valencia CF\",\"VfL Wolfsburg\",\"Villarreal CF\",\"Villarreal CF\",\"Watford FC\",\"Watford FC\",\"West Bromwich Albion\",\"West Bromwich Albion\",\"West Ham United\",\"Wigan Athletic\",\"Wigan Athletic\",\"Xerez CD\",\"Champions League \",\"Champions League Qu. \",\"Club World Cup \",\"Copa del Rey \",\"EFL Cup \",\"Europa League \",\"FA Cup \",\"Italy Cup \",\"LaLiga \",\"Liga Portugal \",\"Premier League \",\"Serie A \",\"Supercopa \",\"Supercoppa Italiana \",\"Ta\\u00e7a de Portugal \",\"UEFA Super Cup \"],\"name\":\"\",\"parents\":[\"Champions League \",\"Italy Cup \",\"Serie A \",\"Supercoppa Italiana \",\"Serie A \",\"Champions League \",\"Champions League \",\"Champions League \",\"Italy Cup \",\"Serie A \",\"Champions League \",\"Club World Cup \",\"Champions League \",\"Premier League \",\"FA Cup \",\"Premier League \",\"Champions League \",\"Serie A \",\"LaLiga \",\"Champions League \",\"Copa del Rey \",\"LaLiga \",\"Champions League \",\"Champions League \",\"Champions League \",\"Premier League \",\"Premier League \",\"Liga Portugal \",\"Serie A \",\"Premier League \",\"Champions League \",\"Premier League \",\"Premier League \",\"Premier League \",\"Copa del Rey \",\"LaLiga \",\"Ta\\u00e7a de Portugal \",\"LaLiga \",\"Club World Cup \",\"Champions League \",\"Serie A \",\"Copa del Rey \",\"LaLiga \",\"Premier League \",\"Champions League \",\"Premier League \",\"LaLiga \",\"Champions League Qu. \",\"LaLiga \",\"LaLiga \",\"EFL Cup \",\"FA Cup \",\"Premier League \",\"Champions League \",\"LaLiga \",\"Serie A \",\"FA Cup \",\"Premier League \",\"FA Cup \",\"Champions League \",\"Copa del Rey \",\"LaLiga \",\"Supercopa \",\"Champions League \",\"Champions League \",\"Serie A \",\"Champions League \",\"Ta\\u00e7a de Portugal \",\"Champions League \",\"Champions League \",\"Europa League \",\"Champions League \",\"Champions League \",\"Serie A \",\"Premier League \",\"Champions League \",\"Club World Cup \",\"Serie A \",\"LaLiga \",\"LaLiga \",\"LaLiga \",\"Club World Cup \",\"Serie A \",\"Premier League \",\"LaLiga \",\"Italy Cup \",\"Serie A \",\"Champions League \",\"Club World Cup \",\"Copa del Rey \",\"LaLiga \",\"Champions League \",\"Premier League \",\"Champions League \",\"Champions League \",\"Champions League \",\"FA Cup \",\"Premier League \",\"Champions League \",\"EFL Cup \",\"FA Cup \",\"Premier League \",\"FA Cup \",\"Liga Portugal \",\"LaLiga \",\"FA Cup \",\"Premier League \",\"Premier League \",\"Champions League \",\"Champions League \",\"Champions League \",\"Serie A \",\"Premier League \",\"LaLiga \",\"LaLiga \",\"LaLiga \",\"LaLiga \",\"Premier League \",\"LaLiga \",\"Copa del Rey \",\"LaLiga \",\"LaLiga \",\"LaLiga \",\"LaLiga \",\"Copa del Rey \",\"Serie A \",\"Serie A \",\"Serie A \",\"Supercoppa Italiana \",\"LaLiga \",\"UEFA Super Cup \",\"Champions League \",\"FA Cup \",\"Premier League \",\"Serie A \",\"Champions League \",\"LaLiga \",\"Premier League \",\"Premier League \",\"Serie A \",\"Champions League \",\"FA Cup \",\"Premier League \",\"Serie A \",\"LaLiga \",\"LaLiga \",\"Serie A \",\"Serie A \",\"Serie A \",\"LaLiga \",\"Champions League \",\"Champions League \",\"LaLiga \",\"FA Cup \",\"Premier League \",\"EFL Cup \",\"Premier League \",\"Premier League \",\"EFL Cup \",\"Premier League \",\"LaLiga \",\"\",\"\",\"\",\"\",\"\",\"\",\"\",\"\",\"\",\"\",\"\",\"\",\"\",\"\",\"\",\"\"],\"values\":[2,1,2,1,3,1,6,5,1,4,9,1,2,7,1,8,3,3,17,7,6,12,1,2,9,2,3,1,2,6,7,1,1,1,1,11,1,1,1,3,8,5,15,1,1,1,1,1,5,13,1,1,2,4,7,2,1,4,1,2,5,9,4,2,3,2,1,1,1,7,1,2,1,2,7,6,1,5,23,4,12,1,3,2,2,2,2,10,3,3,11,1,2,2,6,1,1,3,3,1,2,2,1,2,17,1,7,4,6,4,3,6,6,15,7,6,12,4,6,1,15,3,7,7,1,3,5,3,1,25,2,5,1,1,3,3,6,2,1,4,4,2,8,5,7,3,1,6,7,15,3,2,13,1,1,1,3,6,1,6,4,140,1,7,22,4,1,13,4,311,3,102,81,4,2,2,2],\"type\":\"treemap\"}],                        {\"template\":{\"data\":{\"bar\":[{\"error_x\":{\"color\":\"#2a3f5f\"},\"error_y\":{\"color\":\"#2a3f5f\"},\"marker\":{\"line\":{\"color\":\"#E5ECF6\",\"width\":0.5},\"pattern\":{\"fillmode\":\"overlay\",\"size\":10,\"solidity\":0.2}},\"type\":\"bar\"}],\"barpolar\":[{\"marker\":{\"line\":{\"color\":\"#E5ECF6\",\"width\":0.5},\"pattern\":{\"fillmode\":\"overlay\",\"size\":10,\"solidity\":0.2}},\"type\":\"barpolar\"}],\"carpet\":[{\"aaxis\":{\"endlinecolor\":\"#2a3f5f\",\"gridcolor\":\"white\",\"linecolor\":\"white\",\"minorgridcolor\":\"white\",\"startlinecolor\":\"#2a3f5f\"},\"baxis\":{\"endlinecolor\":\"#2a3f5f\",\"gridcolor\":\"white\",\"linecolor\":\"white\",\"minorgridcolor\":\"white\",\"startlinecolor\":\"#2a3f5f\"},\"type\":\"carpet\"}],\"choropleth\":[{\"colorbar\":{\"outlinewidth\":0,\"ticks\":\"\"},\"type\":\"choropleth\"}],\"contour\":[{\"colorbar\":{\"outlinewidth\":0,\"ticks\":\"\"},\"colorscale\":[[0.0,\"#0d0887\"],[0.1111111111111111,\"#46039f\"],[0.2222222222222222,\"#7201a8\"],[0.3333333333333333,\"#9c179e\"],[0.4444444444444444,\"#bd3786\"],[0.5555555555555556,\"#d8576b\"],[0.6666666666666666,\"#ed7953\"],[0.7777777777777778,\"#fb9f3a\"],[0.8888888888888888,\"#fdca26\"],[1.0,\"#f0f921\"]],\"type\":\"contour\"}],\"contourcarpet\":[{\"colorbar\":{\"outlinewidth\":0,\"ticks\":\"\"},\"type\":\"contourcarpet\"}],\"heatmap\":[{\"colorbar\":{\"outlinewidth\":0,\"ticks\":\"\"},\"colorscale\":[[0.0,\"#0d0887\"],[0.1111111111111111,\"#46039f\"],[0.2222222222222222,\"#7201a8\"],[0.3333333333333333,\"#9c179e\"],[0.4444444444444444,\"#bd3786\"],[0.5555555555555556,\"#d8576b\"],[0.6666666666666666,\"#ed7953\"],[0.7777777777777778,\"#fb9f3a\"],[0.8888888888888888,\"#fdca26\"],[1.0,\"#f0f921\"]],\"type\":\"heatmap\"}],\"heatmapgl\":[{\"colorbar\":{\"outlinewidth\":0,\"ticks\":\"\"},\"colorscale\":[[0.0,\"#0d0887\"],[0.1111111111111111,\"#46039f\"],[0.2222222222222222,\"#7201a8\"],[0.3333333333333333,\"#9c179e\"],[0.4444444444444444,\"#bd3786\"],[0.5555555555555556,\"#d8576b\"],[0.6666666666666666,\"#ed7953\"],[0.7777777777777778,\"#fb9f3a\"],[0.8888888888888888,\"#fdca26\"],[1.0,\"#f0f921\"]],\"type\":\"heatmapgl\"}],\"histogram\":[{\"marker\":{\"pattern\":{\"fillmode\":\"overlay\",\"size\":10,\"solidity\":0.2}},\"type\":\"histogram\"}],\"histogram2d\":[{\"colorbar\":{\"outlinewidth\":0,\"ticks\":\"\"},\"colorscale\":[[0.0,\"#0d0887\"],[0.1111111111111111,\"#46039f\"],[0.2222222222222222,\"#7201a8\"],[0.3333333333333333,\"#9c179e\"],[0.4444444444444444,\"#bd3786\"],[0.5555555555555556,\"#d8576b\"],[0.6666666666666666,\"#ed7953\"],[0.7777777777777778,\"#fb9f3a\"],[0.8888888888888888,\"#fdca26\"],[1.0,\"#f0f921\"]],\"type\":\"histogram2d\"}],\"histogram2dcontour\":[{\"colorbar\":{\"outlinewidth\":0,\"ticks\":\"\"},\"colorscale\":[[0.0,\"#0d0887\"],[0.1111111111111111,\"#46039f\"],[0.2222222222222222,\"#7201a8\"],[0.3333333333333333,\"#9c179e\"],[0.4444444444444444,\"#bd3786\"],[0.5555555555555556,\"#d8576b\"],[0.6666666666666666,\"#ed7953\"],[0.7777777777777778,\"#fb9f3a\"],[0.8888888888888888,\"#fdca26\"],[1.0,\"#f0f921\"]],\"type\":\"histogram2dcontour\"}],\"mesh3d\":[{\"colorbar\":{\"outlinewidth\":0,\"ticks\":\"\"},\"type\":\"mesh3d\"}],\"parcoords\":[{\"line\":{\"colorbar\":{\"outlinewidth\":0,\"ticks\":\"\"}},\"type\":\"parcoords\"}],\"pie\":[{\"automargin\":true,\"type\":\"pie\"}],\"scatter\":[{\"marker\":{\"colorbar\":{\"outlinewidth\":0,\"ticks\":\"\"}},\"type\":\"scatter\"}],\"scatter3d\":[{\"line\":{\"colorbar\":{\"outlinewidth\":0,\"ticks\":\"\"}},\"marker\":{\"colorbar\":{\"outlinewidth\":0,\"ticks\":\"\"}},\"type\":\"scatter3d\"}],\"scattercarpet\":[{\"marker\":{\"colorbar\":{\"outlinewidth\":0,\"ticks\":\"\"}},\"type\":\"scattercarpet\"}],\"scattergeo\":[{\"marker\":{\"colorbar\":{\"outlinewidth\":0,\"ticks\":\"\"}},\"type\":\"scattergeo\"}],\"scattergl\":[{\"marker\":{\"colorbar\":{\"outlinewidth\":0,\"ticks\":\"\"}},\"type\":\"scattergl\"}],\"scattermapbox\":[{\"marker\":{\"colorbar\":{\"outlinewidth\":0,\"ticks\":\"\"}},\"type\":\"scattermapbox\"}],\"scatterpolar\":[{\"marker\":{\"colorbar\":{\"outlinewidth\":0,\"ticks\":\"\"}},\"type\":\"scatterpolar\"}],\"scatterpolargl\":[{\"marker\":{\"colorbar\":{\"outlinewidth\":0,\"ticks\":\"\"}},\"type\":\"scatterpolargl\"}],\"scatterternary\":[{\"marker\":{\"colorbar\":{\"outlinewidth\":0,\"ticks\":\"\"}},\"type\":\"scatterternary\"}],\"surface\":[{\"colorbar\":{\"outlinewidth\":0,\"ticks\":\"\"},\"colorscale\":[[0.0,\"#0d0887\"],[0.1111111111111111,\"#46039f\"],[0.2222222222222222,\"#7201a8\"],[0.3333333333333333,\"#9c179e\"],[0.4444444444444444,\"#bd3786\"],[0.5555555555555556,\"#d8576b\"],[0.6666666666666666,\"#ed7953\"],[0.7777777777777778,\"#fb9f3a\"],[0.8888888888888888,\"#fdca26\"],[1.0,\"#f0f921\"]],\"type\":\"surface\"}],\"table\":[{\"cells\":{\"fill\":{\"color\":\"#EBF0F8\"},\"line\":{\"color\":\"white\"}},\"header\":{\"fill\":{\"color\":\"#C8D4E3\"},\"line\":{\"color\":\"white\"}},\"type\":\"table\"}]},\"layout\":{\"annotationdefaults\":{\"arrowcolor\":\"#2a3f5f\",\"arrowhead\":0,\"arrowwidth\":1},\"autotypenumbers\":\"strict\",\"coloraxis\":{\"colorbar\":{\"outlinewidth\":0,\"ticks\":\"\"}},\"colorscale\":{\"diverging\":[[0,\"#8e0152\"],[0.1,\"#c51b7d\"],[0.2,\"#de77ae\"],[0.3,\"#f1b6da\"],[0.4,\"#fde0ef\"],[0.5,\"#f7f7f7\"],[0.6,\"#e6f5d0\"],[0.7,\"#b8e186\"],[0.8,\"#7fbc41\"],[0.9,\"#4d9221\"],[1,\"#276419\"]],\"sequential\":[[0.0,\"#0d0887\"],[0.1111111111111111,\"#46039f\"],[0.2222222222222222,\"#7201a8\"],[0.3333333333333333,\"#9c179e\"],[0.4444444444444444,\"#bd3786\"],[0.5555555555555556,\"#d8576b\"],[0.6666666666666666,\"#ed7953\"],[0.7777777777777778,\"#fb9f3a\"],[0.8888888888888888,\"#fdca26\"],[1.0,\"#f0f921\"]],\"sequentialminus\":[[0.0,\"#0d0887\"],[0.1111111111111111,\"#46039f\"],[0.2222222222222222,\"#7201a8\"],[0.3333333333333333,\"#9c179e\"],[0.4444444444444444,\"#bd3786\"],[0.5555555555555556,\"#d8576b\"],[0.6666666666666666,\"#ed7953\"],[0.7777777777777778,\"#fb9f3a\"],[0.8888888888888888,\"#fdca26\"],[1.0,\"#f0f921\"]]},\"colorway\":[\"#636efa\",\"#EF553B\",\"#00cc96\",\"#ab63fa\",\"#FFA15A\",\"#19d3f3\",\"#FF6692\",\"#B6E880\",\"#FF97FF\",\"#FECB52\"],\"font\":{\"color\":\"#2a3f5f\"},\"geo\":{\"bgcolor\":\"white\",\"lakecolor\":\"white\",\"landcolor\":\"#E5ECF6\",\"showlakes\":true,\"showland\":true,\"subunitcolor\":\"white\"},\"hoverlabel\":{\"align\":\"left\"},\"hovermode\":\"closest\",\"mapbox\":{\"style\":\"light\"},\"paper_bgcolor\":\"white\",\"plot_bgcolor\":\"#E5ECF6\",\"polar\":{\"angularaxis\":{\"gridcolor\":\"white\",\"linecolor\":\"white\",\"ticks\":\"\"},\"bgcolor\":\"#E5ECF6\",\"radialaxis\":{\"gridcolor\":\"white\",\"linecolor\":\"white\",\"ticks\":\"\"}},\"scene\":{\"xaxis\":{\"backgroundcolor\":\"#E5ECF6\",\"gridcolor\":\"white\",\"gridwidth\":2,\"linecolor\":\"white\",\"showbackground\":true,\"ticks\":\"\",\"zerolinecolor\":\"white\"},\"yaxis\":{\"backgroundcolor\":\"#E5ECF6\",\"gridcolor\":\"white\",\"gridwidth\":2,\"linecolor\":\"white\",\"showbackground\":true,\"ticks\":\"\",\"zerolinecolor\":\"white\"},\"zaxis\":{\"backgroundcolor\":\"#E5ECF6\",\"gridcolor\":\"white\",\"gridwidth\":2,\"linecolor\":\"white\",\"showbackground\":true,\"ticks\":\"\",\"zerolinecolor\":\"white\"}},\"shapedefaults\":{\"line\":{\"color\":\"#2a3f5f\"}},\"ternary\":{\"aaxis\":{\"gridcolor\":\"white\",\"linecolor\":\"white\",\"ticks\":\"\"},\"baxis\":{\"gridcolor\":\"white\",\"linecolor\":\"white\",\"ticks\":\"\"},\"bgcolor\":\"#E5ECF6\",\"caxis\":{\"gridcolor\":\"white\",\"linecolor\":\"white\",\"ticks\":\"\"}},\"title\":{\"x\":0.05},\"xaxis\":{\"automargin\":true,\"gridcolor\":\"white\",\"linecolor\":\"white\",\"ticks\":\"\",\"title\":{\"standoff\":15},\"zerolinecolor\":\"white\",\"zerolinewidth\":2},\"yaxis\":{\"automargin\":true,\"gridcolor\":\"white\",\"linecolor\":\"white\",\"ticks\":\"\",\"title\":{\"standoff\":15},\"zerolinecolor\":\"white\",\"zerolinewidth\":2}}},\"legend\":{\"tracegroupgap\":0},\"title\":{\"text\":\"Equipos por Torneo\"}},                        {\"responsive\": true}                    ).then(function(){\n",
              "                            \n",
              "var gd = document.getElementById('ca2895c8-cb63-4355-a672-3ef2d9229b46');\n",
              "var x = new MutationObserver(function (mutations, observer) {{\n",
              "        var display = window.getComputedStyle(gd).display;\n",
              "        if (!display || display === 'none') {{\n",
              "            console.log([gd, 'removed!']);\n",
              "            Plotly.purge(gd);\n",
              "            observer.disconnect();\n",
              "        }}\n",
              "}});\n",
              "\n",
              "// Listen for the removal of the full notebook cells\n",
              "var notebookContainer = gd.closest('#notebook-container');\n",
              "if (notebookContainer) {{\n",
              "    x.observe(notebookContainer, {childList: true});\n",
              "}}\n",
              "\n",
              "// Listen for the clearing of the current output cell\n",
              "var outputEl = gd.closest('.output');\n",
              "if (outputEl) {{\n",
              "    x.observe(outputEl, {childList: true});\n",
              "}}\n",
              "\n",
              "                        })                };                            </script>        </div>\n",
              "</body>\n",
              "</html>"
            ]
          },
          "metadata": {}
        }
      ]
    },
    {
      "cell_type": "code",
      "source": [
        "# calculo el promedio de gol por torneo\n",
        "px.sunburst(torneo,\n",
        "            path = [\"Torneo\", \"Promedio\"],\n",
        "            hover_name = \"Goles\"\n",
        "            )"
      ],
      "metadata": {
        "colab": {
          "base_uri": "https://localhost:8080/",
          "height": 542
        },
        "id": "YUuRde3SGf2S",
        "outputId": "b7595032-8a99-4438-d87c-386d82272dca"
      },
      "execution_count": null,
      "outputs": [
        {
          "output_type": "display_data",
          "data": {
            "text/html": [
              "<html>\n",
              "<head><meta charset=\"utf-8\" /></head>\n",
              "<body>\n",
              "    <div>            <script src=\"https://cdnjs.cloudflare.com/ajax/libs/mathjax/2.7.5/MathJax.js?config=TeX-AMS-MML_SVG\"></script><script type=\"text/javascript\">if (window.MathJax) {MathJax.Hub.Config({SVG: {font: \"STIX-Web\"}});}</script>                <script type=\"text/javascript\">window.PlotlyConfig = {MathJaxConfig: 'local'};</script>\n",
              "        <script src=\"https://cdn.plot.ly/plotly-2.8.3.min.js\"></script>                <div id=\"261a476e-e460-4aa6-9165-be7df25eb9e1\" class=\"plotly-graph-div\" style=\"height:525px; width:100%;\"></div>            <script type=\"text/javascript\">                                    window.PLOTLYENV=window.PLOTLYENV || {};                                    if (document.getElementById(\"261a476e-e460-4aa6-9165-be7df25eb9e1\")) {                    Plotly.newPlot(                        \"261a476e-e460-4aa6-9165-be7df25eb9e1\",                        [{\"branchvalues\":\"total\",\"domain\":{\"x\":[0.0,1.0],\"y\":[0.0,1.0]},\"hovertemplate\":\"<b>%{hovertext}</b><br><br>labels=%{label}<br>count=%{value}<br>parent=%{parent}<br>id=%{id}<extra></extra>\",\"hovertext\":[1.0,1.0,2.0,2.0,2.0,3.0,4.0,4.0,4.0,7.0,13.0,22.0,81.0,102.0,140.0,311.0,140.0,1.0,7.0,22.0,4.0,1.0,13.0,4.0,311.0,3.0,102.0,81.0,4.0,2.0,2.0,2.0],\"ids\":[\"Champions League Qu. /0.14\",\"Europa League /0.14\",\"Supercoppa Italiana /0.29\",\"Ta\\u00e7a de Portugal /0.29\",\"UEFA Super Cup /0.29\",\"Liga Portugal /0.43\",\"EFL Cup /0.57\",\"Italy Cup /0.57\",\"Supercopa /0.57\",\"Club World Cup /1.0\",\"FA Cup /1.86\",\"Copa del Rey /3.15\",\"Serie A /11.59\",\"Premier League /14.59\",\"Champions League /20.03\",\"LaLiga /44.49\",\"Champions League \",\"Champions League Qu. \",\"Club World Cup \",\"Copa del Rey \",\"EFL Cup \",\"Europa League \",\"FA Cup \",\"Italy Cup \",\"LaLiga \",\"Liga Portugal \",\"Premier League \",\"Serie A \",\"Supercopa \",\"Supercoppa Italiana \",\"Ta\\u00e7a de Portugal \",\"UEFA Super Cup \"],\"labels\":[\"0.14\",\"0.14\",\"0.29\",\"0.29\",\"0.29\",\"0.43\",\"0.57\",\"0.57\",\"0.57\",\"1.0\",\"1.86\",\"3.15\",\"11.59\",\"14.59\",\"20.03\",\"44.49\",\"Champions League \",\"Champions League Qu. \",\"Club World Cup \",\"Copa del Rey \",\"EFL Cup \",\"Europa League \",\"FA Cup \",\"Italy Cup \",\"LaLiga \",\"Liga Portugal \",\"Premier League \",\"Serie A \",\"Supercopa \",\"Supercoppa Italiana \",\"Ta\\u00e7a de Portugal \",\"UEFA Super Cup \"],\"name\":\"\",\"parents\":[\"Champions League Qu. \",\"Europa League \",\"Supercoppa Italiana \",\"Ta\\u00e7a de Portugal \",\"UEFA Super Cup \",\"Liga Portugal \",\"EFL Cup \",\"Italy Cup \",\"Supercopa \",\"Club World Cup \",\"FA Cup \",\"Copa del Rey \",\"Serie A \",\"Premier League \",\"Champions League \",\"LaLiga \",\"\",\"\",\"\",\"\",\"\",\"\",\"\",\"\",\"\",\"\",\"\",\"\",\"\",\"\",\"\",\"\"],\"values\":[1,1,1,1,1,1,1,1,1,1,1,1,1,1,1,1,1,1,1,1,1,1,1,1,1,1,1,1,1,1,1,1],\"type\":\"sunburst\"}],                        {\"template\":{\"data\":{\"bar\":[{\"error_x\":{\"color\":\"#2a3f5f\"},\"error_y\":{\"color\":\"#2a3f5f\"},\"marker\":{\"line\":{\"color\":\"#E5ECF6\",\"width\":0.5},\"pattern\":{\"fillmode\":\"overlay\",\"size\":10,\"solidity\":0.2}},\"type\":\"bar\"}],\"barpolar\":[{\"marker\":{\"line\":{\"color\":\"#E5ECF6\",\"width\":0.5},\"pattern\":{\"fillmode\":\"overlay\",\"size\":10,\"solidity\":0.2}},\"type\":\"barpolar\"}],\"carpet\":[{\"aaxis\":{\"endlinecolor\":\"#2a3f5f\",\"gridcolor\":\"white\",\"linecolor\":\"white\",\"minorgridcolor\":\"white\",\"startlinecolor\":\"#2a3f5f\"},\"baxis\":{\"endlinecolor\":\"#2a3f5f\",\"gridcolor\":\"white\",\"linecolor\":\"white\",\"minorgridcolor\":\"white\",\"startlinecolor\":\"#2a3f5f\"},\"type\":\"carpet\"}],\"choropleth\":[{\"colorbar\":{\"outlinewidth\":0,\"ticks\":\"\"},\"type\":\"choropleth\"}],\"contour\":[{\"colorbar\":{\"outlinewidth\":0,\"ticks\":\"\"},\"colorscale\":[[0.0,\"#0d0887\"],[0.1111111111111111,\"#46039f\"],[0.2222222222222222,\"#7201a8\"],[0.3333333333333333,\"#9c179e\"],[0.4444444444444444,\"#bd3786\"],[0.5555555555555556,\"#d8576b\"],[0.6666666666666666,\"#ed7953\"],[0.7777777777777778,\"#fb9f3a\"],[0.8888888888888888,\"#fdca26\"],[1.0,\"#f0f921\"]],\"type\":\"contour\"}],\"contourcarpet\":[{\"colorbar\":{\"outlinewidth\":0,\"ticks\":\"\"},\"type\":\"contourcarpet\"}],\"heatmap\":[{\"colorbar\":{\"outlinewidth\":0,\"ticks\":\"\"},\"colorscale\":[[0.0,\"#0d0887\"],[0.1111111111111111,\"#46039f\"],[0.2222222222222222,\"#7201a8\"],[0.3333333333333333,\"#9c179e\"],[0.4444444444444444,\"#bd3786\"],[0.5555555555555556,\"#d8576b\"],[0.6666666666666666,\"#ed7953\"],[0.7777777777777778,\"#fb9f3a\"],[0.8888888888888888,\"#fdca26\"],[1.0,\"#f0f921\"]],\"type\":\"heatmap\"}],\"heatmapgl\":[{\"colorbar\":{\"outlinewidth\":0,\"ticks\":\"\"},\"colorscale\":[[0.0,\"#0d0887\"],[0.1111111111111111,\"#46039f\"],[0.2222222222222222,\"#7201a8\"],[0.3333333333333333,\"#9c179e\"],[0.4444444444444444,\"#bd3786\"],[0.5555555555555556,\"#d8576b\"],[0.6666666666666666,\"#ed7953\"],[0.7777777777777778,\"#fb9f3a\"],[0.8888888888888888,\"#fdca26\"],[1.0,\"#f0f921\"]],\"type\":\"heatmapgl\"}],\"histogram\":[{\"marker\":{\"pattern\":{\"fillmode\":\"overlay\",\"size\":10,\"solidity\":0.2}},\"type\":\"histogram\"}],\"histogram2d\":[{\"colorbar\":{\"outlinewidth\":0,\"ticks\":\"\"},\"colorscale\":[[0.0,\"#0d0887\"],[0.1111111111111111,\"#46039f\"],[0.2222222222222222,\"#7201a8\"],[0.3333333333333333,\"#9c179e\"],[0.4444444444444444,\"#bd3786\"],[0.5555555555555556,\"#d8576b\"],[0.6666666666666666,\"#ed7953\"],[0.7777777777777778,\"#fb9f3a\"],[0.8888888888888888,\"#fdca26\"],[1.0,\"#f0f921\"]],\"type\":\"histogram2d\"}],\"histogram2dcontour\":[{\"colorbar\":{\"outlinewidth\":0,\"ticks\":\"\"},\"colorscale\":[[0.0,\"#0d0887\"],[0.1111111111111111,\"#46039f\"],[0.2222222222222222,\"#7201a8\"],[0.3333333333333333,\"#9c179e\"],[0.4444444444444444,\"#bd3786\"],[0.5555555555555556,\"#d8576b\"],[0.6666666666666666,\"#ed7953\"],[0.7777777777777778,\"#fb9f3a\"],[0.8888888888888888,\"#fdca26\"],[1.0,\"#f0f921\"]],\"type\":\"histogram2dcontour\"}],\"mesh3d\":[{\"colorbar\":{\"outlinewidth\":0,\"ticks\":\"\"},\"type\":\"mesh3d\"}],\"parcoords\":[{\"line\":{\"colorbar\":{\"outlinewidth\":0,\"ticks\":\"\"}},\"type\":\"parcoords\"}],\"pie\":[{\"automargin\":true,\"type\":\"pie\"}],\"scatter\":[{\"marker\":{\"colorbar\":{\"outlinewidth\":0,\"ticks\":\"\"}},\"type\":\"scatter\"}],\"scatter3d\":[{\"line\":{\"colorbar\":{\"outlinewidth\":0,\"ticks\":\"\"}},\"marker\":{\"colorbar\":{\"outlinewidth\":0,\"ticks\":\"\"}},\"type\":\"scatter3d\"}],\"scattercarpet\":[{\"marker\":{\"colorbar\":{\"outlinewidth\":0,\"ticks\":\"\"}},\"type\":\"scattercarpet\"}],\"scattergeo\":[{\"marker\":{\"colorbar\":{\"outlinewidth\":0,\"ticks\":\"\"}},\"type\":\"scattergeo\"}],\"scattergl\":[{\"marker\":{\"colorbar\":{\"outlinewidth\":0,\"ticks\":\"\"}},\"type\":\"scattergl\"}],\"scattermapbox\":[{\"marker\":{\"colorbar\":{\"outlinewidth\":0,\"ticks\":\"\"}},\"type\":\"scattermapbox\"}],\"scatterpolar\":[{\"marker\":{\"colorbar\":{\"outlinewidth\":0,\"ticks\":\"\"}},\"type\":\"scatterpolar\"}],\"scatterpolargl\":[{\"marker\":{\"colorbar\":{\"outlinewidth\":0,\"ticks\":\"\"}},\"type\":\"scatterpolargl\"}],\"scatterternary\":[{\"marker\":{\"colorbar\":{\"outlinewidth\":0,\"ticks\":\"\"}},\"type\":\"scatterternary\"}],\"surface\":[{\"colorbar\":{\"outlinewidth\":0,\"ticks\":\"\"},\"colorscale\":[[0.0,\"#0d0887\"],[0.1111111111111111,\"#46039f\"],[0.2222222222222222,\"#7201a8\"],[0.3333333333333333,\"#9c179e\"],[0.4444444444444444,\"#bd3786\"],[0.5555555555555556,\"#d8576b\"],[0.6666666666666666,\"#ed7953\"],[0.7777777777777778,\"#fb9f3a\"],[0.8888888888888888,\"#fdca26\"],[1.0,\"#f0f921\"]],\"type\":\"surface\"}],\"table\":[{\"cells\":{\"fill\":{\"color\":\"#EBF0F8\"},\"line\":{\"color\":\"white\"}},\"header\":{\"fill\":{\"color\":\"#C8D4E3\"},\"line\":{\"color\":\"white\"}},\"type\":\"table\"}]},\"layout\":{\"annotationdefaults\":{\"arrowcolor\":\"#2a3f5f\",\"arrowhead\":0,\"arrowwidth\":1},\"autotypenumbers\":\"strict\",\"coloraxis\":{\"colorbar\":{\"outlinewidth\":0,\"ticks\":\"\"}},\"colorscale\":{\"diverging\":[[0,\"#8e0152\"],[0.1,\"#c51b7d\"],[0.2,\"#de77ae\"],[0.3,\"#f1b6da\"],[0.4,\"#fde0ef\"],[0.5,\"#f7f7f7\"],[0.6,\"#e6f5d0\"],[0.7,\"#b8e186\"],[0.8,\"#7fbc41\"],[0.9,\"#4d9221\"],[1,\"#276419\"]],\"sequential\":[[0.0,\"#0d0887\"],[0.1111111111111111,\"#46039f\"],[0.2222222222222222,\"#7201a8\"],[0.3333333333333333,\"#9c179e\"],[0.4444444444444444,\"#bd3786\"],[0.5555555555555556,\"#d8576b\"],[0.6666666666666666,\"#ed7953\"],[0.7777777777777778,\"#fb9f3a\"],[0.8888888888888888,\"#fdca26\"],[1.0,\"#f0f921\"]],\"sequentialminus\":[[0.0,\"#0d0887\"],[0.1111111111111111,\"#46039f\"],[0.2222222222222222,\"#7201a8\"],[0.3333333333333333,\"#9c179e\"],[0.4444444444444444,\"#bd3786\"],[0.5555555555555556,\"#d8576b\"],[0.6666666666666666,\"#ed7953\"],[0.7777777777777778,\"#fb9f3a\"],[0.8888888888888888,\"#fdca26\"],[1.0,\"#f0f921\"]]},\"colorway\":[\"#636efa\",\"#EF553B\",\"#00cc96\",\"#ab63fa\",\"#FFA15A\",\"#19d3f3\",\"#FF6692\",\"#B6E880\",\"#FF97FF\",\"#FECB52\"],\"font\":{\"color\":\"#2a3f5f\"},\"geo\":{\"bgcolor\":\"white\",\"lakecolor\":\"white\",\"landcolor\":\"#E5ECF6\",\"showlakes\":true,\"showland\":true,\"subunitcolor\":\"white\"},\"hoverlabel\":{\"align\":\"left\"},\"hovermode\":\"closest\",\"mapbox\":{\"style\":\"light\"},\"paper_bgcolor\":\"white\",\"plot_bgcolor\":\"#E5ECF6\",\"polar\":{\"angularaxis\":{\"gridcolor\":\"white\",\"linecolor\":\"white\",\"ticks\":\"\"},\"bgcolor\":\"#E5ECF6\",\"radialaxis\":{\"gridcolor\":\"white\",\"linecolor\":\"white\",\"ticks\":\"\"}},\"scene\":{\"xaxis\":{\"backgroundcolor\":\"#E5ECF6\",\"gridcolor\":\"white\",\"gridwidth\":2,\"linecolor\":\"white\",\"showbackground\":true,\"ticks\":\"\",\"zerolinecolor\":\"white\"},\"yaxis\":{\"backgroundcolor\":\"#E5ECF6\",\"gridcolor\":\"white\",\"gridwidth\":2,\"linecolor\":\"white\",\"showbackground\":true,\"ticks\":\"\",\"zerolinecolor\":\"white\"},\"zaxis\":{\"backgroundcolor\":\"#E5ECF6\",\"gridcolor\":\"white\",\"gridwidth\":2,\"linecolor\":\"white\",\"showbackground\":true,\"ticks\":\"\",\"zerolinecolor\":\"white\"}},\"shapedefaults\":{\"line\":{\"color\":\"#2a3f5f\"}},\"ternary\":{\"aaxis\":{\"gridcolor\":\"white\",\"linecolor\":\"white\",\"ticks\":\"\"},\"baxis\":{\"gridcolor\":\"white\",\"linecolor\":\"white\",\"ticks\":\"\"},\"bgcolor\":\"#E5ECF6\",\"caxis\":{\"gridcolor\":\"white\",\"linecolor\":\"white\",\"ticks\":\"\"}},\"title\":{\"x\":0.05},\"xaxis\":{\"automargin\":true,\"gridcolor\":\"white\",\"linecolor\":\"white\",\"ticks\":\"\",\"title\":{\"standoff\":15},\"zerolinecolor\":\"white\",\"zerolinewidth\":2},\"yaxis\":{\"automargin\":true,\"gridcolor\":\"white\",\"linecolor\":\"white\",\"ticks\":\"\",\"title\":{\"standoff\":15},\"zerolinecolor\":\"white\",\"zerolinewidth\":2}}},\"legend\":{\"tracegroupgap\":0},\"margin\":{\"t\":60}},                        {\"responsive\": true}                    ).then(function(){\n",
              "                            \n",
              "var gd = document.getElementById('261a476e-e460-4aa6-9165-be7df25eb9e1');\n",
              "var x = new MutationObserver(function (mutations, observer) {{\n",
              "        var display = window.getComputedStyle(gd).display;\n",
              "        if (!display || display === 'none') {{\n",
              "            console.log([gd, 'removed!']);\n",
              "            Plotly.purge(gd);\n",
              "            observer.disconnect();\n",
              "        }}\n",
              "}});\n",
              "\n",
              "// Listen for the removal of the full notebook cells\n",
              "var notebookContainer = gd.closest('#notebook-container');\n",
              "if (notebookContainer) {{\n",
              "    x.observe(notebookContainer, {childList: true});\n",
              "}}\n",
              "\n",
              "// Listen for the clearing of the current output cell\n",
              "var outputEl = gd.closest('.output');\n",
              "if (outputEl) {{\n",
              "    x.observe(outputEl, {childList: true});\n",
              "}}\n",
              "\n",
              "                        })                };                            </script>        </div>\n",
              "</body>\n",
              "</html>"
            ]
          },
          "metadata": {}
        }
      ]
    }
  ]
}