{
  "nbformat": 4,
  "nbformat_minor": 0,
  "metadata": {
    "colab": {
      "provenance": []
    },
    "kernelspec": {
      "name": "python3",
      "display_name": "Python 3"
    },
    "language_info": {
      "name": "python"
    }
  },
  "cells": [
    {
      "cell_type": "markdown",
      "source": [
        "#**Limpieza y estadísticas de Neymar.** "
      ],
      "metadata": {
        "id": "5Z6HPJcuulH0"
      }
    },
    {
      "cell_type": "markdown",
      "source": [
        "## Limpieza de datos.\n",
        "---\n",
        "\n",
        "\n"
      ],
      "metadata": {
        "id": "yrIDBM8vvKjk"
      }
    },
    {
      "cell_type": "markdown",
      "source": [
        "### 1.  Importar librerías."
      ],
      "metadata": {
        "id": "mG3DzM2wukqO"
      }
    },
    {
      "cell_type": "code",
      "source": [
        "#Actualización de libreria gráfica:\n",
        "!pip install plotly --upgrade"
      ],
      "metadata": {
        "colab": {
          "base_uri": "https://localhost:8080/"
        },
        "id": "ELD6a0BKv1s0",
        "outputId": "1cb0613a-834e-47b6-b9d6-f6b0174cd230"
      },
      "execution_count": 2,
      "outputs": [
        {
          "output_type": "stream",
          "name": "stdout",
          "text": [
            "Looking in indexes: https://pypi.org/simple, https://us-python.pkg.dev/colab-wheels/public/simple/\n",
            "Requirement already satisfied: plotly in /usr/local/lib/python3.7/dist-packages (5.5.0)\n",
            "Collecting plotly\n",
            "  Downloading plotly-5.10.0-py2.py3-none-any.whl (15.2 MB)\n",
            "\u001b[K     |████████████████████████████████| 15.2 MB 7.8 MB/s \n",
            "\u001b[?25hRequirement already satisfied: tenacity>=6.2.0 in /usr/local/lib/python3.7/dist-packages (from plotly) (8.1.0)\n",
            "Installing collected packages: plotly\n",
            "  Attempting uninstall: plotly\n",
            "    Found existing installation: plotly 5.5.0\n",
            "    Uninstalling plotly-5.5.0:\n",
            "      Successfully uninstalled plotly-5.5.0\n",
            "Successfully installed plotly-5.10.0\n"
          ]
        }
      ]
    },
    {
      "cell_type": "code",
      "source": [
        "import pandas as pd\n",
        "import numpy as np\n",
        "import plotly.express as px"
      ],
      "metadata": {
        "id": "_lKl2AMRv3x8"
      },
      "execution_count": 3,
      "outputs": []
    },
    {
      "cell_type": "markdown",
      "source": [
        "### 2.   Leer archivo CSV como dataframe.\n",
        "\n"
      ],
      "metadata": {
        "id": "QZu9T90hwpaN"
      }
    },
    {
      "cell_type": "code",
      "source": [
        "neymar=pd.read_csv('https://raw.githubusercontent.com/cristiandarioortegayubro/base/main/dataset/neymarSucio.csv')"
      ],
      "metadata": {
        "id": "q2o0On6Hw3gO"
      },
      "execution_count": 4,
      "outputs": []
    },
    {
      "cell_type": "markdown",
      "source": [
        "### 3. Ver dimensiones del Dataframe (cantidad de columnas y filas).\n",
        "\n"
      ],
      "metadata": {
        "id": "75ziYFlhxHXU"
      }
    },
    {
      "cell_type": "code",
      "source": [
        "neymar.shape"
      ],
      "metadata": {
        "colab": {
          "base_uri": "https://localhost:8080/"
        },
        "id": "_JXc97tWxGtT",
        "outputId": "ea51480d-a33b-45d1-f781-2889f01b1383"
      },
      "execution_count": 5,
      "outputs": [
        {
          "output_type": "execute_result",
          "data": {
            "text/plain": [
              "(423, 13)"
            ]
          },
          "metadata": {},
          "execution_count": 5
        }
      ]
    },
    {
      "cell_type": "markdown",
      "source": [
        "###4. Ver los primeros 11 registros (filas).\n"
      ],
      "metadata": {
        "id": "z-iS9YAtxVhz"
      }
    },
    {
      "cell_type": "code",
      "source": [
        "neymar.head(11)"
      ],
      "metadata": {
        "colab": {
          "base_uri": "https://localhost:8080/",
          "height": 438
        },
        "id": "FhjcDwD6xVHT",
        "outputId": "66fd47cd-d7a3-4bf6-f6e6-7dd80be16cc6"
      },
      "execution_count": 6,
      "outputs": [
        {
          "output_type": "execute_result",
          "data": {
            "text/plain": [
              "   Tournament Matchday      Date Venue       Club  \\\n",
              "0    Série A         7   6/21/09  Home  Santos FC   \n",
              "1    Série A        11   7/15/09  Home  Santos FC   \n",
              "2    Série A        13   7/22/09  Home  Santos FC   \n",
              "3    Série A        15   7/29/09  Away  Santos FC   \n",
              "4    Série A        34   11/7/09  Home  Santos FC   \n",
              "5    Série A        34   11/7/09  Home  Santos FC   \n",
              "6    Série A        35  11/15/09  Away  Santos FC   \n",
              "7    Série A        36  11/22/09  Home  Santos FC   \n",
              "8    Série A        36  11/22/09  Home  Santos FC   \n",
              "9    Série A        38   12/6/09  Home  Santos FC   \n",
              "10   Série A         1    5/8/10  Away  Santos FC   \n",
              "\n",
              "                         Opponent Result        Position Minute When Scored  \\\n",
              "0          Clube Atlético Mineiro    2:3  Not Applicable    45'         1:0   \n",
              "1    Grêmio Barueri Futebol Ltda.    3:3  Not Applicable    88'         3:3   \n",
              "2             Atlético Paranaense    1:0  Not Applicable    72'         1:0   \n",
              "3        Clube Náutico Capibaribe    1:2  Not Applicable    67'         0:1   \n",
              "4        Clube Náutico Capibaribe    3:1  Not Applicable    58'         2:0   \n",
              "5        Clube Náutico Capibaribe    3:1  Not Applicable    89'         3:1   \n",
              "6        Sport Club Internacional    3:1  Not Applicable    63'         2:1   \n",
              "7         Coritiba Foot Ball Club    4:0  Not Applicable    64'         3:0   \n",
              "8         Coritiba Foot Ball Club    4:0  Not Applicable    88'         4:0   \n",
              "9          Cruzeiro Esporte Clube    1:2  Not Applicable    70'         1:1   \n",
              "10  Botafogo de Futebol e Regatas    3:3  Not Applicable    29'         1:1   \n",
              "\n",
              "            Goal Type          Assist  Estatura  \n",
              "0    Left-footed shot  Not Applicable      1.75  \n",
              "1              Header        Luizinho      1.75  \n",
              "2    Left-footed shot            Roni      1.75  \n",
              "3              Header          Madson      1.75  \n",
              "4   Right-footed shot          Madson      1.75  \n",
              "5    Left-footed shot          Madson      1.75  \n",
              "6   Right-footed shot  Felipe Azevedo      1.75  \n",
              "7    Left-footed shot          Madson      1.75  \n",
              "8   Right-footed shot           Ganso      1.75  \n",
              "9   Right-footed shot  Not Applicable      1.75  \n",
              "10  Right-footed shot      Marquinhos      1.75  "
            ],
            "text/html": [
              "\n",
              "  <div id=\"df-84f99fa9-1c57-427e-8d49-f0a80ece38d9\">\n",
              "    <div class=\"colab-df-container\">\n",
              "      <div>\n",
              "<style scoped>\n",
              "    .dataframe tbody tr th:only-of-type {\n",
              "        vertical-align: middle;\n",
              "    }\n",
              "\n",
              "    .dataframe tbody tr th {\n",
              "        vertical-align: top;\n",
              "    }\n",
              "\n",
              "    .dataframe thead th {\n",
              "        text-align: right;\n",
              "    }\n",
              "</style>\n",
              "<table border=\"1\" class=\"dataframe\">\n",
              "  <thead>\n",
              "    <tr style=\"text-align: right;\">\n",
              "      <th></th>\n",
              "      <th>Tournament</th>\n",
              "      <th>Matchday</th>\n",
              "      <th>Date</th>\n",
              "      <th>Venue</th>\n",
              "      <th>Club</th>\n",
              "      <th>Opponent</th>\n",
              "      <th>Result</th>\n",
              "      <th>Position</th>\n",
              "      <th>Minute</th>\n",
              "      <th>When Scored</th>\n",
              "      <th>Goal Type</th>\n",
              "      <th>Assist</th>\n",
              "      <th>Estatura</th>\n",
              "    </tr>\n",
              "  </thead>\n",
              "  <tbody>\n",
              "    <tr>\n",
              "      <th>0</th>\n",
              "      <td>Série A</td>\n",
              "      <td>7</td>\n",
              "      <td>6/21/09</td>\n",
              "      <td>Home</td>\n",
              "      <td>Santos FC</td>\n",
              "      <td>Clube Atlético Mineiro</td>\n",
              "      <td>2:3</td>\n",
              "      <td>Not Applicable</td>\n",
              "      <td>45'</td>\n",
              "      <td>1:0</td>\n",
              "      <td>Left-footed shot</td>\n",
              "      <td>Not Applicable</td>\n",
              "      <td>1.75</td>\n",
              "    </tr>\n",
              "    <tr>\n",
              "      <th>1</th>\n",
              "      <td>Série A</td>\n",
              "      <td>11</td>\n",
              "      <td>7/15/09</td>\n",
              "      <td>Home</td>\n",
              "      <td>Santos FC</td>\n",
              "      <td>Grêmio Barueri Futebol Ltda.</td>\n",
              "      <td>3:3</td>\n",
              "      <td>Not Applicable</td>\n",
              "      <td>88'</td>\n",
              "      <td>3:3</td>\n",
              "      <td>Header</td>\n",
              "      <td>Luizinho</td>\n",
              "      <td>1.75</td>\n",
              "    </tr>\n",
              "    <tr>\n",
              "      <th>2</th>\n",
              "      <td>Série A</td>\n",
              "      <td>13</td>\n",
              "      <td>7/22/09</td>\n",
              "      <td>Home</td>\n",
              "      <td>Santos FC</td>\n",
              "      <td>Atlético Paranaense</td>\n",
              "      <td>1:0</td>\n",
              "      <td>Not Applicable</td>\n",
              "      <td>72'</td>\n",
              "      <td>1:0</td>\n",
              "      <td>Left-footed shot</td>\n",
              "      <td>Roni</td>\n",
              "      <td>1.75</td>\n",
              "    </tr>\n",
              "    <tr>\n",
              "      <th>3</th>\n",
              "      <td>Série A</td>\n",
              "      <td>15</td>\n",
              "      <td>7/29/09</td>\n",
              "      <td>Away</td>\n",
              "      <td>Santos FC</td>\n",
              "      <td>Clube Náutico Capibaribe</td>\n",
              "      <td>1:2</td>\n",
              "      <td>Not Applicable</td>\n",
              "      <td>67'</td>\n",
              "      <td>0:1</td>\n",
              "      <td>Header</td>\n",
              "      <td>Madson</td>\n",
              "      <td>1.75</td>\n",
              "    </tr>\n",
              "    <tr>\n",
              "      <th>4</th>\n",
              "      <td>Série A</td>\n",
              "      <td>34</td>\n",
              "      <td>11/7/09</td>\n",
              "      <td>Home</td>\n",
              "      <td>Santos FC</td>\n",
              "      <td>Clube Náutico Capibaribe</td>\n",
              "      <td>3:1</td>\n",
              "      <td>Not Applicable</td>\n",
              "      <td>58'</td>\n",
              "      <td>2:0</td>\n",
              "      <td>Right-footed shot</td>\n",
              "      <td>Madson</td>\n",
              "      <td>1.75</td>\n",
              "    </tr>\n",
              "    <tr>\n",
              "      <th>5</th>\n",
              "      <td>Série A</td>\n",
              "      <td>34</td>\n",
              "      <td>11/7/09</td>\n",
              "      <td>Home</td>\n",
              "      <td>Santos FC</td>\n",
              "      <td>Clube Náutico Capibaribe</td>\n",
              "      <td>3:1</td>\n",
              "      <td>Not Applicable</td>\n",
              "      <td>89'</td>\n",
              "      <td>3:1</td>\n",
              "      <td>Left-footed shot</td>\n",
              "      <td>Madson</td>\n",
              "      <td>1.75</td>\n",
              "    </tr>\n",
              "    <tr>\n",
              "      <th>6</th>\n",
              "      <td>Série A</td>\n",
              "      <td>35</td>\n",
              "      <td>11/15/09</td>\n",
              "      <td>Away</td>\n",
              "      <td>Santos FC</td>\n",
              "      <td>Sport Club Internacional</td>\n",
              "      <td>3:1</td>\n",
              "      <td>Not Applicable</td>\n",
              "      <td>63'</td>\n",
              "      <td>2:1</td>\n",
              "      <td>Right-footed shot</td>\n",
              "      <td>Felipe Azevedo</td>\n",
              "      <td>1.75</td>\n",
              "    </tr>\n",
              "    <tr>\n",
              "      <th>7</th>\n",
              "      <td>Série A</td>\n",
              "      <td>36</td>\n",
              "      <td>11/22/09</td>\n",
              "      <td>Home</td>\n",
              "      <td>Santos FC</td>\n",
              "      <td>Coritiba Foot Ball Club</td>\n",
              "      <td>4:0</td>\n",
              "      <td>Not Applicable</td>\n",
              "      <td>64'</td>\n",
              "      <td>3:0</td>\n",
              "      <td>Left-footed shot</td>\n",
              "      <td>Madson</td>\n",
              "      <td>1.75</td>\n",
              "    </tr>\n",
              "    <tr>\n",
              "      <th>8</th>\n",
              "      <td>Série A</td>\n",
              "      <td>36</td>\n",
              "      <td>11/22/09</td>\n",
              "      <td>Home</td>\n",
              "      <td>Santos FC</td>\n",
              "      <td>Coritiba Foot Ball Club</td>\n",
              "      <td>4:0</td>\n",
              "      <td>Not Applicable</td>\n",
              "      <td>88'</td>\n",
              "      <td>4:0</td>\n",
              "      <td>Right-footed shot</td>\n",
              "      <td>Ganso</td>\n",
              "      <td>1.75</td>\n",
              "    </tr>\n",
              "    <tr>\n",
              "      <th>9</th>\n",
              "      <td>Série A</td>\n",
              "      <td>38</td>\n",
              "      <td>12/6/09</td>\n",
              "      <td>Home</td>\n",
              "      <td>Santos FC</td>\n",
              "      <td>Cruzeiro Esporte Clube</td>\n",
              "      <td>1:2</td>\n",
              "      <td>Not Applicable</td>\n",
              "      <td>70'</td>\n",
              "      <td>1:1</td>\n",
              "      <td>Right-footed shot</td>\n",
              "      <td>Not Applicable</td>\n",
              "      <td>1.75</td>\n",
              "    </tr>\n",
              "    <tr>\n",
              "      <th>10</th>\n",
              "      <td>Série A</td>\n",
              "      <td>1</td>\n",
              "      <td>5/8/10</td>\n",
              "      <td>Away</td>\n",
              "      <td>Santos FC</td>\n",
              "      <td>Botafogo de Futebol e Regatas</td>\n",
              "      <td>3:3</td>\n",
              "      <td>Not Applicable</td>\n",
              "      <td>29'</td>\n",
              "      <td>1:1</td>\n",
              "      <td>Right-footed shot</td>\n",
              "      <td>Marquinhos</td>\n",
              "      <td>1.75</td>\n",
              "    </tr>\n",
              "  </tbody>\n",
              "</table>\n",
              "</div>\n",
              "      <button class=\"colab-df-convert\" onclick=\"convertToInteractive('df-84f99fa9-1c57-427e-8d49-f0a80ece38d9')\"\n",
              "              title=\"Convert this dataframe to an interactive table.\"\n",
              "              style=\"display:none;\">\n",
              "        \n",
              "  <svg xmlns=\"http://www.w3.org/2000/svg\" height=\"24px\"viewBox=\"0 0 24 24\"\n",
              "       width=\"24px\">\n",
              "    <path d=\"M0 0h24v24H0V0z\" fill=\"none\"/>\n",
              "    <path d=\"M18.56 5.44l.94 2.06.94-2.06 2.06-.94-2.06-.94-.94-2.06-.94 2.06-2.06.94zm-11 1L8.5 8.5l.94-2.06 2.06-.94-2.06-.94L8.5 2.5l-.94 2.06-2.06.94zm10 10l.94 2.06.94-2.06 2.06-.94-2.06-.94-.94-2.06-.94 2.06-2.06.94z\"/><path d=\"M17.41 7.96l-1.37-1.37c-.4-.4-.92-.59-1.43-.59-.52 0-1.04.2-1.43.59L10.3 9.45l-7.72 7.72c-.78.78-.78 2.05 0 2.83L4 21.41c.39.39.9.59 1.41.59.51 0 1.02-.2 1.41-.59l7.78-7.78 2.81-2.81c.8-.78.8-2.07 0-2.86zM5.41 20L4 18.59l7.72-7.72 1.47 1.35L5.41 20z\"/>\n",
              "  </svg>\n",
              "      </button>\n",
              "      \n",
              "  <style>\n",
              "    .colab-df-container {\n",
              "      display:flex;\n",
              "      flex-wrap:wrap;\n",
              "      gap: 12px;\n",
              "    }\n",
              "\n",
              "    .colab-df-convert {\n",
              "      background-color: #E8F0FE;\n",
              "      border: none;\n",
              "      border-radius: 50%;\n",
              "      cursor: pointer;\n",
              "      display: none;\n",
              "      fill: #1967D2;\n",
              "      height: 32px;\n",
              "      padding: 0 0 0 0;\n",
              "      width: 32px;\n",
              "    }\n",
              "\n",
              "    .colab-df-convert:hover {\n",
              "      background-color: #E2EBFA;\n",
              "      box-shadow: 0px 1px 2px rgba(60, 64, 67, 0.3), 0px 1px 3px 1px rgba(60, 64, 67, 0.15);\n",
              "      fill: #174EA6;\n",
              "    }\n",
              "\n",
              "    [theme=dark] .colab-df-convert {\n",
              "      background-color: #3B4455;\n",
              "      fill: #D2E3FC;\n",
              "    }\n",
              "\n",
              "    [theme=dark] .colab-df-convert:hover {\n",
              "      background-color: #434B5C;\n",
              "      box-shadow: 0px 1px 3px 1px rgba(0, 0, 0, 0.15);\n",
              "      filter: drop-shadow(0px 1px 2px rgba(0, 0, 0, 0.3));\n",
              "      fill: #FFFFFF;\n",
              "    }\n",
              "  </style>\n",
              "\n",
              "      <script>\n",
              "        const buttonEl =\n",
              "          document.querySelector('#df-84f99fa9-1c57-427e-8d49-f0a80ece38d9 button.colab-df-convert');\n",
              "        buttonEl.style.display =\n",
              "          google.colab.kernel.accessAllowed ? 'block' : 'none';\n",
              "\n",
              "        async function convertToInteractive(key) {\n",
              "          const element = document.querySelector('#df-84f99fa9-1c57-427e-8d49-f0a80ece38d9');\n",
              "          const dataTable =\n",
              "            await google.colab.kernel.invokeFunction('convertToInteractive',\n",
              "                                                     [key], {});\n",
              "          if (!dataTable) return;\n",
              "\n",
              "          const docLinkHtml = 'Like what you see? Visit the ' +\n",
              "            '<a target=\"_blank\" href=https://colab.research.google.com/notebooks/data_table.ipynb>data table notebook</a>'\n",
              "            + ' to learn more about interactive tables.';\n",
              "          element.innerHTML = '';\n",
              "          dataTable['output_type'] = 'display_data';\n",
              "          await google.colab.output.renderOutput(dataTable, element);\n",
              "          const docLink = document.createElement('div');\n",
              "          docLink.innerHTML = docLinkHtml;\n",
              "          element.appendChild(docLink);\n",
              "        }\n",
              "      </script>\n",
              "    </div>\n",
              "  </div>\n",
              "  "
            ]
          },
          "metadata": {},
          "execution_count": 6
        }
      ]
    },
    {
      "cell_type": "markdown",
      "source": [
        "###5. Cambiar tipos de datos según considere."
      ],
      "metadata": {
        "id": "nIquQr3gxie7"
      }
    },
    {
      "cell_type": "code",
      "source": [
        "neymar['Tournament'] = neymar['Tournament'].astype('string')\n",
        "neymar['Matchday'] = neymar['Matchday'].astype('string')\n",
        "neymar['Venue'] = neymar['Venue'].astype('string')\n",
        "neymar['Opponent'] = neymar['Opponent'].astype('string')\n",
        "neymar['Result'] = neymar['Result'].astype('string')\n",
        "neymar['Position'] = neymar['Position'].astype('string')\n",
        "neymar['Minute'] = neymar['Minute'].astype('string')\n",
        "neymar['When Scored'] = neymar['When Scored'].astype('string')\n",
        "neymar['Goal Type'] = neymar['Goal Type'].astype('string')\n",
        "neymar['Assist'] = neymar['Assist'].astype('string')\n",
        "neymar['Club'] = neymar['Club'].astype('string')\n",
        "neymar['Date'] = pd.to_datetime(neymar['Date'])"
      ],
      "metadata": {
        "id": "2J_2yXAxxiU0"
      },
      "execution_count": 11,
      "outputs": []
    },
    {
      "cell_type": "markdown",
      "source": [
        "###6.  Cambiar nombres de columnas a español."
      ],
      "metadata": {
        "id": "MuaWkcjayvhz"
      }
    },
    {
      "cell_type": "code",
      "source": [
        "neymar.rename(columns={'Tournament':'Torneo'}, inplace=True)\n",
        "neymar.rename(columns={'Matchday':'Jornada'}, inplace=True)\n",
        "neymar.rename(columns={'Date':'Fecha'}, inplace=True)\n",
        "neymar.rename(columns={'Venue':'Evento'}, inplace=True)\n",
        "neymar.rename(columns={'Club':'Club'}, inplace=True)\n",
        "neymar.rename(columns={'Opponent':'Oponente'}, inplace=True)\n",
        "neymar.rename(columns={'Result':'Resultado'}, inplace=True)\n",
        "neymar.rename(columns={'Position':'Posición'}, inplace=True)\n",
        "neymar.rename(columns={'Minute':'Minuto'}, inplace=True)\n",
        "neymar.rename(columns={'When Scored':'MomentoDeAnotación'}, inplace=True)\n",
        "neymar.rename(columns={'Goal Type':'TipoDeGol'}, inplace=True)\n",
        "neymar.rename(columns={'Assist':'Asistidor'}, inplace=True)"
      ],
      "metadata": {
        "id": "7IZtkirfy0Tb"
      },
      "execution_count": 12,
      "outputs": []
    },
    {
      "cell_type": "markdown",
      "source": [
        "###7.  Borrar columna según corresponda\n",
        "          Ronaldo: Madre\n",
        "          Neymar: Estatura\n",
        "          Lewandoski: Nacionalidad\n",
        "\n"
      ],
      "metadata": {
        "id": "ZELDuIPDy-uc"
      }
    },
    {
      "cell_type": "code",
      "source": [
        "neymar.drop(['Estatura'], axis=1, inplace=True)"
      ],
      "metadata": {
        "id": "3pzfKwrxy_pb"
      },
      "execution_count": 13,
      "outputs": []
    },
    {
      "cell_type": "markdown",
      "source": [
        "### 8.  Borrar registros duplicados."
      ],
      "metadata": {
        "id": "qIg11HpD0Bt7"
      }
    },
    {
      "cell_type": "code",
      "source": [
        "neymar.dropna(axis=0, inplace= True, how='all')"
      ],
      "metadata": {
        "id": "LjRKlUur0CFL"
      },
      "execution_count": 14,
      "outputs": []
    },
    {
      "cell_type": "markdown",
      "source": [
        "### 9.  Crear la columna de año"
      ],
      "metadata": {
        "id": "mOElTxtH0IoL"
      }
    },
    {
      "cell_type": "code",
      "source": [
        "neymar['Año'] = neymar['Fecha'].dt.year"
      ],
      "metadata": {
        "id": "S8mrQCGY0JAL"
      },
      "execution_count": 15,
      "outputs": []
    },
    {
      "cell_type": "markdown",
      "source": [
        "###10. Crear columnas que considere pertinente."
      ],
      "metadata": {
        "id": "sHUTUUXP0fpb"
      }
    },
    {
      "cell_type": "code",
      "source": [
        "# No se creyó necesario crear otra columna."
      ],
      "metadata": {
        "id": "NrV840B30fjM"
      },
      "execution_count": null,
      "outputs": []
    },
    {
      "cell_type": "markdown",
      "source": [
        "## Analisis y Estadísticas de datos.\n",
        "\n",
        "---\n",
        "\n"
      ],
      "metadata": {
        "id": "sdnEco-p03sL"
      }
    },
    {
      "cell_type": "markdown",
      "source": [
        "###1. Calcular el total de goles  registrados hasta la fecha"
      ],
      "metadata": {
        "id": "NLHfIViZ1Pe1"
      }
    },
    {
      "cell_type": "code",
      "source": [
        "TotalGoles = neymar.shape[0]\n",
        "print(f'La cantidad total de goles de neymar hasta el 14-09-2022 es de {TotalGoles}')"
      ],
      "metadata": {
        "colab": {
          "base_uri": "https://localhost:8080/"
        },
        "id": "ZdkL1jdx1OQ8",
        "outputId": "8a9f7213-31d0-45d1-8b95-6fce369757e1"
      },
      "execution_count": 16,
      "outputs": [
        {
          "output_type": "stream",
          "name": "stdout",
          "text": [
            "La cantidad total de goles de neymar hasta el 14-09-2022 es de 306\n"
          ]
        }
      ]
    },
    {
      "cell_type": "markdown",
      "source": [
        "### 2. Calcular el promedio de goles por Torneo."
      ],
      "metadata": {
        "id": "jMGW8r3v134D"
      }
    },
    {
      "cell_type": "code",
      "source": [
        "PromPorTorneo = neymar.groupby(by=['Torneo']).count()\n",
        "PromPorTorneo = PromPorTorneo.loc[:, 'Jornada']\n",
        "print(f'El total de goles por torneo es: {PromPorTorneo}')"
      ],
      "metadata": {
        "colab": {
          "base_uri": "https://localhost:8080/"
        },
        "id": "4nzxWxSp1t5K",
        "outputId": "1b29b60d-fdff-474b-dbbe-cf3c4b8a8fa8"
      },
      "execution_count": 17,
      "outputs": [
        {
          "output_type": "stream",
          "name": "stdout",
          "text": [
            "El total de goles por torneo es: Torneo\n",
            "Champions League          43\n",
            "Club World Cup             1\n",
            "Copa del Rey              15\n",
            "Coupe de France            7\n",
            "Coupe de la Ligue          3\n",
            "LaLiga                    68\n",
            "Libertadores              14\n",
            "Ligue 1                   94\n",
            "Recopa Sudamericana        1\n",
            "Supercopa                  1\n",
            "Série A                   54\n",
            "Trophée des Champions      5\n",
            "Name: Jornada, dtype: int64\n"
          ]
        }
      ]
    },
    {
      "cell_type": "markdown",
      "source": [
        "###3. Calcular porcentaje de goles realizados como visitante(Away) y local(Home) con respecto al total de goles."
      ],
      "metadata": {
        "id": "oK0VE3mr1_2z"
      }
    },
    {
      "cell_type": "code",
      "source": [
        "LocalVisitante = neymar.groupby(by=['Evento',]).count()\n",
        "LocalVisitante = LocalVisitante.loc[:, 'Jornada']\n",
        "PorcentajeDeGoles = (LocalVisitante*100)/TotalGoles\n",
        "print(f'El porcentaje de goles de visitante con respecto al total de goles es de {PorcentajeDeGoles[0].round(2)}%')\n",
        "print(f'El porcentaje de goles de local con respecto al total de los goles es de {PorcentajeDeGoles[1].round(2)}%')"
      ],
      "metadata": {
        "colab": {
          "base_uri": "https://localhost:8080/"
        },
        "id": "mniynGep2G8D",
        "outputId": "9ddadc81-b1d3-49b5-e31d-dbe77b073032"
      },
      "execution_count": 18,
      "outputs": [
        {
          "output_type": "stream",
          "name": "stdout",
          "text": [
            "El porcentaje de goles de visitante con respecto al total de goles es de 40.52%\n",
            "El porcentaje de goles de local con respecto al total de los goles es de 59.48%\n"
          ]
        }
      ]
    },
    {
      "cell_type": "markdown",
      "source": [
        "### 4. A que oponente le metió más goles."
      ],
      "metadata": {
        "id": "x1Gf8Fq32K3r"
      }
    },
    {
      "cell_type": "code",
      "source": [
        "GolesAOponentes = neymar.groupby(by=['Oponente']).count()\n",
        "GolesAOponentes = GolesAOponentes.sort_values(by= 'Club',ascending=False)\n",
        "MaximoOponente = GolesAOponentes.T.iloc[0,0:2]\n",
        "print(f'El rival al cual mas goles les anoto con la misma cantidad son \"{MaximoOponente}\"')"
      ],
      "metadata": {
        "colab": {
          "base_uri": "https://localhost:8080/"
        },
        "id": "-1n8hrwb2KvK",
        "outputId": "662bf2d5-6cdb-4f76-a348-58872e1178ef"
      },
      "execution_count": 41,
      "outputs": [
        {
          "output_type": "stream",
          "name": "stdout",
          "text": [
            "El rival al cual mas goles les anoto con la misma cantidad son \"Oponente\n",
            "Villarreal CF            9\n",
            "FC Girondins Bordeaux    9\n",
            "Name: Torneo, dtype: int64\"\n"
          ]
        }
      ]
    },
    {
      "cell_type": "markdown",
      "source": [
        "### 5. Contra que oponente jugó más fechas."
      ],
      "metadata": {
        "id": "NvTtr5R12Vba"
      }
    },
    {
      "cell_type": "code",
      "source": [
        "MaximoPartidos = neymar.groupby(by=['Oponente', 'Fecha']).count()\n",
        "MaximoPartidos = MaximoPartidos.groupby(by=['Oponente']).count()\n",
        "MaximoPartidos = MaximoPartidos.loc[:, 'Torneo']\n",
        "MaximoPartidos = MaximoPartidos.idxmax()\n",
        "print(f'El rival contra el que mas partidos disputó es \"{MaximoPartidos}\"')"
      ],
      "metadata": {
        "colab": {
          "base_uri": "https://localhost:8080/"
        },
        "id": "5IynOC9K2WCk",
        "outputId": "b21428b9-6029-483c-cde3-6886704e1c08"
      },
      "execution_count": 34,
      "outputs": [
        {
          "output_type": "stream",
          "name": "stdout",
          "text": [
            "El rival contra el que mas partidos disputó es \"Athletic Bilbao\"\n"
          ]
        }
      ]
    },
    {
      "cell_type": "markdown",
      "source": [
        "### 6. Realiza un caso de uso a gusto , osea analiza lo que gustes. Es libre!\n",
        "\n",
        "\n",
        "\n",
        "> En este caso buscamos que jugador fue el que mas asistencias le dio.\n",
        "\n"
      ],
      "metadata": {
        "id": "tCCRVEWu2dZq"
      }
    },
    {
      "cell_type": "code",
      "source": [
        "MaximoAsistidor = neymar.groupby(by='Asistidor').count()\n",
        "MaximoAsistidor = MaximoAsistidor.sort_values(by= 'Club',ascending=False)\n",
        "MaximoAsistidor = MaximoAsistidor.T.iloc[0,1:2].idxmax()\n",
        "print(f'El mayor jugador que asistio a Neymar es \"{MaximoAsistidor}\"')"
      ],
      "metadata": {
        "colab": {
          "base_uri": "https://localhost:8080/"
        },
        "id": "VIJziHpn2dpD",
        "outputId": "fc28f558-5c12-433e-899b-23d37b9714bd"
      },
      "execution_count": 21,
      "outputs": [
        {
          "output_type": "stream",
          "name": "stdout",
          "text": [
            "El mayor jugador que asistio a Neymar es \"Lionel Messi\"\n"
          ]
        }
      ]
    },
    {
      "cell_type": "markdown",
      "source": [
        "###7. Realizar al menos tres gráficos con plotly, a gusto!\n",
        "\n",
        "\n",
        "> 1. Gráfico \"treemap\" demostrando la cantidad de goles por año.\n",
        "\n",
        "\n",
        "> 2. Gráfico \"sunburst\" sobre la cantidad de goles que realizó por torneo.\n",
        "\n",
        "\n",
        "> 3. Gráfico \"strip\" indicando la cantidad de goles por cada movimiento.\n",
        "\n",
        "\n",
        "\n",
        "\n",
        "\n",
        "\n",
        "\n",
        "\n",
        "\n",
        "\n",
        "\n",
        "\n",
        "\n",
        "\n",
        "\n"
      ],
      "metadata": {
        "id": "1-ZK8os43Rcs"
      }
    },
    {
      "cell_type": "markdown",
      "source": [
        "###### Gráfico Nro. 1"
      ],
      "metadata": {
        "id": "yLPVh18s4K56"
      }
    },
    {
      "cell_type": "code",
      "source": [
        "# Creación de un DataFrame con la estadística buscada para realizar el gráfico:\n",
        "GolesPorAnio = neymar.groupby(by=['Año']).count()\n",
        "GolesPorAnio.reset_index(inplace = True)"
      ],
      "metadata": {
        "id": "wkaHt4BU4TkU"
      },
      "execution_count": 22,
      "outputs": []
    },
    {
      "cell_type": "code",
      "source": [
        "# Script de la creación del gráfico:\n",
        "px.treemap(GolesPorAnio,\n",
        "           values = 'Torneo',\n",
        "           path = ['Año', 'Torneo'],\n",
        "           title = 'Cantidad de Goles Por Año:',\n",
        "           color = 'Torneo',\n",
        "           labels = {'Torneo':'Cantidad de Goles'})"
      ],
      "metadata": {
        "colab": {
          "base_uri": "https://localhost:8080/",
          "height": 542
        },
        "id": "GOhGoujH4lv6",
        "outputId": "ae255c98-a1ac-4482-9821-33337265f6c9"
      },
      "execution_count": 30,
      "outputs": [
        {
          "output_type": "display_data",
          "data": {
            "text/html": [
              "<html>\n",
              "<head><meta charset=\"utf-8\" /></head>\n",
              "<body>\n",
              "    <div>            <script src=\"https://cdnjs.cloudflare.com/ajax/libs/mathjax/2.7.5/MathJax.js?config=TeX-AMS-MML_SVG\"></script><script type=\"text/javascript\">if (window.MathJax && window.MathJax.Hub && window.MathJax.Hub.Config) {window.MathJax.Hub.Config({SVG: {font: \"STIX-Web\"}});}</script>                <script type=\"text/javascript\">window.PlotlyConfig = {MathJaxConfig: 'local'};</script>\n",
              "        <script src=\"https://cdn.plot.ly/plotly-2.14.0.min.js\"></script>                <div id=\"4a72dfef-c721-4283-b449-2b96a43d926d\" class=\"plotly-graph-div\" style=\"height:525px; width:100%;\"></div>            <script type=\"text/javascript\">                                    window.PLOTLYENV=window.PLOTLYENV || {};                                    if (document.getElementById(\"4a72dfef-c721-4283-b449-2b96a43d926d\")) {                    Plotly.newPlot(                        \"4a72dfef-c721-4283-b449-2b96a43d926d\",                        [{\"branchvalues\":\"total\",\"customdata\":[[10.0],[11.0],[11.0],[16.0],[17.0],[18.0],[19.0],[20.0],[21.0],[23.0],[27.0],[31.0],[41.0],[41.0],[10.0],[17.0],[20.0],[23.0],[11.0],[18.0],[41.0],[21.0],[31.0],[27.0],[16.0],[19.0],[11.0],[41.0]],\"domain\":{\"x\":[0.0,1.0],\"y\":[0.0,1.0]},\"hovertemplate\":\"labels=%{label}<br>Torneo_sum=%{value}<br>parent=%{parent}<br>id=%{id}<br>Cantidad de Goles=%{color}<extra></extra>\",\"ids\":[\"2009/10\",\"2013/11\",\"2021/11\",\"2019/16\",\"2010/17\",\"2014/18\",\"2020/19\",\"2011/20\",\"2016/21\",\"2012/23\",\"2018/27\",\"2017/31\",\"2015/41\",\"2022/41\",\"2009\",\"2010\",\"2011\",\"2012\",\"2013\",\"2014\",\"2015\",\"2016\",\"2017\",\"2018\",\"2019\",\"2020\",\"2021\",\"2022\"],\"labels\":[\"10\",\"11\",\"11\",\"16\",\"17\",\"18\",\"19\",\"20\",\"21\",\"23\",\"27\",\"31\",\"41\",\"41\",\"2009\",\"2010\",\"2011\",\"2012\",\"2013\",\"2014\",\"2015\",\"2016\",\"2017\",\"2018\",\"2019\",\"2020\",\"2021\",\"2022\"],\"marker\":{\"coloraxis\":\"coloraxis\",\"colors\":[10.0,11.0,11.0,16.0,17.0,18.0,19.0,20.0,21.0,23.0,27.0,31.0,41.0,41.0,10.0,17.0,20.0,23.0,11.0,18.0,41.0,21.0,31.0,27.0,16.0,19.0,11.0,41.0]},\"name\":\"\",\"parents\":[\"2009\",\"2013\",\"2021\",\"2019\",\"2010\",\"2014\",\"2020\",\"2011\",\"2016\",\"2012\",\"2018\",\"2017\",\"2015\",\"2022\",\"\",\"\",\"\",\"\",\"\",\"\",\"\",\"\",\"\",\"\",\"\",\"\",\"\",\"\"],\"values\":[10,11,11,16,17,18,19,20,21,23,27,31,41,41,10,17,20,23,11,18,41,21,31,27,16,19,11,41],\"type\":\"treemap\"}],                        {\"template\":{\"data\":{\"histogram2dcontour\":[{\"type\":\"histogram2dcontour\",\"colorbar\":{\"outlinewidth\":0,\"ticks\":\"\"},\"colorscale\":[[0.0,\"#0d0887\"],[0.1111111111111111,\"#46039f\"],[0.2222222222222222,\"#7201a8\"],[0.3333333333333333,\"#9c179e\"],[0.4444444444444444,\"#bd3786\"],[0.5555555555555556,\"#d8576b\"],[0.6666666666666666,\"#ed7953\"],[0.7777777777777778,\"#fb9f3a\"],[0.8888888888888888,\"#fdca26\"],[1.0,\"#f0f921\"]]}],\"choropleth\":[{\"type\":\"choropleth\",\"colorbar\":{\"outlinewidth\":0,\"ticks\":\"\"}}],\"histogram2d\":[{\"type\":\"histogram2d\",\"colorbar\":{\"outlinewidth\":0,\"ticks\":\"\"},\"colorscale\":[[0.0,\"#0d0887\"],[0.1111111111111111,\"#46039f\"],[0.2222222222222222,\"#7201a8\"],[0.3333333333333333,\"#9c179e\"],[0.4444444444444444,\"#bd3786\"],[0.5555555555555556,\"#d8576b\"],[0.6666666666666666,\"#ed7953\"],[0.7777777777777778,\"#fb9f3a\"],[0.8888888888888888,\"#fdca26\"],[1.0,\"#f0f921\"]]}],\"heatmap\":[{\"type\":\"heatmap\",\"colorbar\":{\"outlinewidth\":0,\"ticks\":\"\"},\"colorscale\":[[0.0,\"#0d0887\"],[0.1111111111111111,\"#46039f\"],[0.2222222222222222,\"#7201a8\"],[0.3333333333333333,\"#9c179e\"],[0.4444444444444444,\"#bd3786\"],[0.5555555555555556,\"#d8576b\"],[0.6666666666666666,\"#ed7953\"],[0.7777777777777778,\"#fb9f3a\"],[0.8888888888888888,\"#fdca26\"],[1.0,\"#f0f921\"]]}],\"heatmapgl\":[{\"type\":\"heatmapgl\",\"colorbar\":{\"outlinewidth\":0,\"ticks\":\"\"},\"colorscale\":[[0.0,\"#0d0887\"],[0.1111111111111111,\"#46039f\"],[0.2222222222222222,\"#7201a8\"],[0.3333333333333333,\"#9c179e\"],[0.4444444444444444,\"#bd3786\"],[0.5555555555555556,\"#d8576b\"],[0.6666666666666666,\"#ed7953\"],[0.7777777777777778,\"#fb9f3a\"],[0.8888888888888888,\"#fdca26\"],[1.0,\"#f0f921\"]]}],\"contourcarpet\":[{\"type\":\"contourcarpet\",\"colorbar\":{\"outlinewidth\":0,\"ticks\":\"\"}}],\"contour\":[{\"type\":\"contour\",\"colorbar\":{\"outlinewidth\":0,\"ticks\":\"\"},\"colorscale\":[[0.0,\"#0d0887\"],[0.1111111111111111,\"#46039f\"],[0.2222222222222222,\"#7201a8\"],[0.3333333333333333,\"#9c179e\"],[0.4444444444444444,\"#bd3786\"],[0.5555555555555556,\"#d8576b\"],[0.6666666666666666,\"#ed7953\"],[0.7777777777777778,\"#fb9f3a\"],[0.8888888888888888,\"#fdca26\"],[1.0,\"#f0f921\"]]}],\"surface\":[{\"type\":\"surface\",\"colorbar\":{\"outlinewidth\":0,\"ticks\":\"\"},\"colorscale\":[[0.0,\"#0d0887\"],[0.1111111111111111,\"#46039f\"],[0.2222222222222222,\"#7201a8\"],[0.3333333333333333,\"#9c179e\"],[0.4444444444444444,\"#bd3786\"],[0.5555555555555556,\"#d8576b\"],[0.6666666666666666,\"#ed7953\"],[0.7777777777777778,\"#fb9f3a\"],[0.8888888888888888,\"#fdca26\"],[1.0,\"#f0f921\"]]}],\"mesh3d\":[{\"type\":\"mesh3d\",\"colorbar\":{\"outlinewidth\":0,\"ticks\":\"\"}}],\"scatter\":[{\"fillpattern\":{\"fillmode\":\"overlay\",\"size\":10,\"solidity\":0.2},\"type\":\"scatter\"}],\"parcoords\":[{\"type\":\"parcoords\",\"line\":{\"colorbar\":{\"outlinewidth\":0,\"ticks\":\"\"}}}],\"scatterpolargl\":[{\"type\":\"scatterpolargl\",\"marker\":{\"colorbar\":{\"outlinewidth\":0,\"ticks\":\"\"}}}],\"bar\":[{\"error_x\":{\"color\":\"#2a3f5f\"},\"error_y\":{\"color\":\"#2a3f5f\"},\"marker\":{\"line\":{\"color\":\"#E5ECF6\",\"width\":0.5},\"pattern\":{\"fillmode\":\"overlay\",\"size\":10,\"solidity\":0.2}},\"type\":\"bar\"}],\"scattergeo\":[{\"type\":\"scattergeo\",\"marker\":{\"colorbar\":{\"outlinewidth\":0,\"ticks\":\"\"}}}],\"scatterpolar\":[{\"type\":\"scatterpolar\",\"marker\":{\"colorbar\":{\"outlinewidth\":0,\"ticks\":\"\"}}}],\"histogram\":[{\"marker\":{\"pattern\":{\"fillmode\":\"overlay\",\"size\":10,\"solidity\":0.2}},\"type\":\"histogram\"}],\"scattergl\":[{\"type\":\"scattergl\",\"marker\":{\"colorbar\":{\"outlinewidth\":0,\"ticks\":\"\"}}}],\"scatter3d\":[{\"type\":\"scatter3d\",\"line\":{\"colorbar\":{\"outlinewidth\":0,\"ticks\":\"\"}},\"marker\":{\"colorbar\":{\"outlinewidth\":0,\"ticks\":\"\"}}}],\"scattermapbox\":[{\"type\":\"scattermapbox\",\"marker\":{\"colorbar\":{\"outlinewidth\":0,\"ticks\":\"\"}}}],\"scatterternary\":[{\"type\":\"scatterternary\",\"marker\":{\"colorbar\":{\"outlinewidth\":0,\"ticks\":\"\"}}}],\"scattercarpet\":[{\"type\":\"scattercarpet\",\"marker\":{\"colorbar\":{\"outlinewidth\":0,\"ticks\":\"\"}}}],\"carpet\":[{\"aaxis\":{\"endlinecolor\":\"#2a3f5f\",\"gridcolor\":\"white\",\"linecolor\":\"white\",\"minorgridcolor\":\"white\",\"startlinecolor\":\"#2a3f5f\"},\"baxis\":{\"endlinecolor\":\"#2a3f5f\",\"gridcolor\":\"white\",\"linecolor\":\"white\",\"minorgridcolor\":\"white\",\"startlinecolor\":\"#2a3f5f\"},\"type\":\"carpet\"}],\"table\":[{\"cells\":{\"fill\":{\"color\":\"#EBF0F8\"},\"line\":{\"color\":\"white\"}},\"header\":{\"fill\":{\"color\":\"#C8D4E3\"},\"line\":{\"color\":\"white\"}},\"type\":\"table\"}],\"barpolar\":[{\"marker\":{\"line\":{\"color\":\"#E5ECF6\",\"width\":0.5},\"pattern\":{\"fillmode\":\"overlay\",\"size\":10,\"solidity\":0.2}},\"type\":\"barpolar\"}],\"pie\":[{\"automargin\":true,\"type\":\"pie\"}]},\"layout\":{\"autotypenumbers\":\"strict\",\"colorway\":[\"#636efa\",\"#EF553B\",\"#00cc96\",\"#ab63fa\",\"#FFA15A\",\"#19d3f3\",\"#FF6692\",\"#B6E880\",\"#FF97FF\",\"#FECB52\"],\"font\":{\"color\":\"#2a3f5f\"},\"hovermode\":\"closest\",\"hoverlabel\":{\"align\":\"left\"},\"paper_bgcolor\":\"white\",\"plot_bgcolor\":\"#E5ECF6\",\"polar\":{\"bgcolor\":\"#E5ECF6\",\"angularaxis\":{\"gridcolor\":\"white\",\"linecolor\":\"white\",\"ticks\":\"\"},\"radialaxis\":{\"gridcolor\":\"white\",\"linecolor\":\"white\",\"ticks\":\"\"}},\"ternary\":{\"bgcolor\":\"#E5ECF6\",\"aaxis\":{\"gridcolor\":\"white\",\"linecolor\":\"white\",\"ticks\":\"\"},\"baxis\":{\"gridcolor\":\"white\",\"linecolor\":\"white\",\"ticks\":\"\"},\"caxis\":{\"gridcolor\":\"white\",\"linecolor\":\"white\",\"ticks\":\"\"}},\"coloraxis\":{\"colorbar\":{\"outlinewidth\":0,\"ticks\":\"\"}},\"colorscale\":{\"sequential\":[[0.0,\"#0d0887\"],[0.1111111111111111,\"#46039f\"],[0.2222222222222222,\"#7201a8\"],[0.3333333333333333,\"#9c179e\"],[0.4444444444444444,\"#bd3786\"],[0.5555555555555556,\"#d8576b\"],[0.6666666666666666,\"#ed7953\"],[0.7777777777777778,\"#fb9f3a\"],[0.8888888888888888,\"#fdca26\"],[1.0,\"#f0f921\"]],\"sequentialminus\":[[0.0,\"#0d0887\"],[0.1111111111111111,\"#46039f\"],[0.2222222222222222,\"#7201a8\"],[0.3333333333333333,\"#9c179e\"],[0.4444444444444444,\"#bd3786\"],[0.5555555555555556,\"#d8576b\"],[0.6666666666666666,\"#ed7953\"],[0.7777777777777778,\"#fb9f3a\"],[0.8888888888888888,\"#fdca26\"],[1.0,\"#f0f921\"]],\"diverging\":[[0,\"#8e0152\"],[0.1,\"#c51b7d\"],[0.2,\"#de77ae\"],[0.3,\"#f1b6da\"],[0.4,\"#fde0ef\"],[0.5,\"#f7f7f7\"],[0.6,\"#e6f5d0\"],[0.7,\"#b8e186\"],[0.8,\"#7fbc41\"],[0.9,\"#4d9221\"],[1,\"#276419\"]]},\"xaxis\":{\"gridcolor\":\"white\",\"linecolor\":\"white\",\"ticks\":\"\",\"title\":{\"standoff\":15},\"zerolinecolor\":\"white\",\"automargin\":true,\"zerolinewidth\":2},\"yaxis\":{\"gridcolor\":\"white\",\"linecolor\":\"white\",\"ticks\":\"\",\"title\":{\"standoff\":15},\"zerolinecolor\":\"white\",\"automargin\":true,\"zerolinewidth\":2},\"scene\":{\"xaxis\":{\"backgroundcolor\":\"#E5ECF6\",\"gridcolor\":\"white\",\"linecolor\":\"white\",\"showbackground\":true,\"ticks\":\"\",\"zerolinecolor\":\"white\",\"gridwidth\":2},\"yaxis\":{\"backgroundcolor\":\"#E5ECF6\",\"gridcolor\":\"white\",\"linecolor\":\"white\",\"showbackground\":true,\"ticks\":\"\",\"zerolinecolor\":\"white\",\"gridwidth\":2},\"zaxis\":{\"backgroundcolor\":\"#E5ECF6\",\"gridcolor\":\"white\",\"linecolor\":\"white\",\"showbackground\":true,\"ticks\":\"\",\"zerolinecolor\":\"white\",\"gridwidth\":2}},\"shapedefaults\":{\"line\":{\"color\":\"#2a3f5f\"}},\"annotationdefaults\":{\"arrowcolor\":\"#2a3f5f\",\"arrowhead\":0,\"arrowwidth\":1},\"geo\":{\"bgcolor\":\"white\",\"landcolor\":\"#E5ECF6\",\"subunitcolor\":\"white\",\"showland\":true,\"showlakes\":true,\"lakecolor\":\"white\"},\"title\":{\"x\":0.05},\"mapbox\":{\"style\":\"light\"}}},\"coloraxis\":{\"colorbar\":{\"title\":{\"text\":\"Cantidad de Goles\"}},\"colorscale\":[[0.0,\"#0d0887\"],[0.1111111111111111,\"#46039f\"],[0.2222222222222222,\"#7201a8\"],[0.3333333333333333,\"#9c179e\"],[0.4444444444444444,\"#bd3786\"],[0.5555555555555556,\"#d8576b\"],[0.6666666666666666,\"#ed7953\"],[0.7777777777777778,\"#fb9f3a\"],[0.8888888888888888,\"#fdca26\"],[1.0,\"#f0f921\"]]},\"legend\":{\"tracegroupgap\":0},\"title\":{\"text\":\"Cantidad de Goles Por A\\u00f1o:\"}},                        {\"responsive\": true}                    ).then(function(){\n",
              "                            \n",
              "var gd = document.getElementById('4a72dfef-c721-4283-b449-2b96a43d926d');\n",
              "var x = new MutationObserver(function (mutations, observer) {{\n",
              "        var display = window.getComputedStyle(gd).display;\n",
              "        if (!display || display === 'none') {{\n",
              "            console.log([gd, 'removed!']);\n",
              "            Plotly.purge(gd);\n",
              "            observer.disconnect();\n",
              "        }}\n",
              "}});\n",
              "\n",
              "// Listen for the removal of the full notebook cells\n",
              "var notebookContainer = gd.closest('#notebook-container');\n",
              "if (notebookContainer) {{\n",
              "    x.observe(notebookContainer, {childList: true});\n",
              "}}\n",
              "\n",
              "// Listen for the clearing of the current output cell\n",
              "var outputEl = gd.closest('.output');\n",
              "if (outputEl) {{\n",
              "    x.observe(outputEl, {childList: true});\n",
              "}}\n",
              "\n",
              "                        })                };                            </script>        </div>\n",
              "</body>\n",
              "</html>"
            ]
          },
          "metadata": {}
        }
      ]
    },
    {
      "cell_type": "markdown",
      "source": [
        "###### Gráfico Nro. 2"
      ],
      "metadata": {
        "id": "fzV2XQBP4tr6"
      }
    },
    {
      "cell_type": "code",
      "source": [
        "# Creación de un DataFrame con la estadística buscada para realizar el gráfico:\n",
        "GolesPorTorneo = neymar.groupby(by=['Oponente', 'Torneo']).count()\n",
        "GolesPorTorneo.reset_index(inplace = True)\n",
        "GolesPorTorneo = GolesPorTorneo.groupby(by=['Torneo']).count()\n",
        "GolesPorTorneo.reset_index(inplace = True)"
      ],
      "metadata": {
        "id": "eUIfUPpm41ui"
      },
      "execution_count": 42,
      "outputs": []
    },
    {
      "cell_type": "code",
      "source": [
        "# Script de la cración del gráfico:\n",
        "px.sunburst(GolesPorTorneo,\n",
        "            values = 'Oponente',\n",
        "            path = ['Torneo', 'Jornada'],\n",
        "            title = 'Cantidad de goles por Torneo.',\n",
        "            color = 'Torneo',\n",
        "            labels = {'Oponente':'Cantidad de goles'})"
      ],
      "metadata": {
        "colab": {
          "base_uri": "https://localhost:8080/",
          "height": 542
        },
        "id": "L2nq5wHL41Yz",
        "outputId": "8d92ca07-b1e2-4c67-c899-bbfba6c5d854"
      },
      "execution_count": 43,
      "outputs": [
        {
          "output_type": "display_data",
          "data": {
            "text/html": [
              "<html>\n",
              "<head><meta charset=\"utf-8\" /></head>\n",
              "<body>\n",
              "    <div>            <script src=\"https://cdnjs.cloudflare.com/ajax/libs/mathjax/2.7.5/MathJax.js?config=TeX-AMS-MML_SVG\"></script><script type=\"text/javascript\">if (window.MathJax && window.MathJax.Hub && window.MathJax.Hub.Config) {window.MathJax.Hub.Config({SVG: {font: \"STIX-Web\"}});}</script>                <script type=\"text/javascript\">window.PlotlyConfig = {MathJaxConfig: 'local'};</script>\n",
              "        <script src=\"https://cdn.plot.ly/plotly-2.14.0.min.js\"></script>                <div id=\"9f0a4c6c-9202-47ed-9797-b036aa5bc287\" class=\"plotly-graph-div\" style=\"height:525px; width:100%;\"></div>            <script type=\"text/javascript\">                                    window.PLOTLYENV=window.PLOTLYENV || {};                                    if (document.getElementById(\"9f0a4c6c-9202-47ed-9797-b036aa5bc287\")) {                    Plotly.newPlot(                        \"9f0a4c6c-9202-47ed-9797-b036aa5bc287\",                        [{\"branchvalues\":\"total\",\"customdata\":[[\"Club World Cup \"],[\"Recopa Sudamericana \"],[\"Supercopa \"],[\"Troph\\u00e9e des Champions \"],[\"Coupe de la Ligue \"],[\"Coupe de France \"],[\"Copa del Rey \"],[\"Libertadores \"],[\"Champions League \"],[\"S\\u00e9rie A \"],[\"LaLiga \"],[\"Ligue 1 \"],[\"Champions League \"],[\"Club World Cup \"],[\"Copa del Rey \"],[\"Coupe de France \"],[\"Coupe de la Ligue \"],[\"LaLiga \"],[\"Libertadores \"],[\"Ligue 1 \"],[\"Recopa Sudamericana \"],[\"Supercopa \"],[\"S\\u00e9rie A \"],[\"Troph\\u00e9e des Champions \"]],\"domain\":{\"x\":[0.0,1.0],\"y\":[0.0,1.0]},\"hovertemplate\":\"labels=%{label}<br>Cantidad de goles=%{value}<br>parent=%{parent}<br>id=%{id}<br>Torneo=%{customdata[0]}<extra></extra>\",\"ids\":[\"Club World Cup /1\",\"Recopa Sudamericana /1\",\"Supercopa /1\",\"Troph\\u00e9e des Champions /2\",\"Coupe de la Ligue /3\",\"Coupe de France /5\",\"Copa del Rey /9\",\"Libertadores /10\",\"Champions League /18\",\"S\\u00e9rie A /22\",\"LaLiga /23\",\"Ligue 1 /25\",\"Champions League \",\"Club World Cup \",\"Copa del Rey \",\"Coupe de France \",\"Coupe de la Ligue \",\"LaLiga \",\"Libertadores \",\"Ligue 1 \",\"Recopa Sudamericana \",\"Supercopa \",\"S\\u00e9rie A \",\"Troph\\u00e9e des Champions \"],\"labels\":[\"1\",\"1\",\"1\",\"2\",\"3\",\"5\",\"9\",\"10\",\"18\",\"22\",\"23\",\"25\",\"Champions League \",\"Club World Cup \",\"Copa del Rey \",\"Coupe de France \",\"Coupe de la Ligue \",\"LaLiga \",\"Libertadores \",\"Ligue 1 \",\"Recopa Sudamericana \",\"Supercopa \",\"S\\u00e9rie A \",\"Troph\\u00e9e des Champions \"],\"marker\":{\"colors\":[\"#636efa\",\"#EF553B\",\"#00cc96\",\"#ab63fa\",\"#FFA15A\",\"#19d3f3\",\"#FF6692\",\"#B6E880\",\"#FF97FF\",\"#FECB52\",\"#636efa\",\"#EF553B\",\"#FF97FF\",\"#636efa\",\"#FF6692\",\"#19d3f3\",\"#FFA15A\",\"#636efa\",\"#B6E880\",\"#EF553B\",\"#EF553B\",\"#00cc96\",\"#FECB52\",\"#ab63fa\"]},\"name\":\"\",\"parents\":[\"Club World Cup \",\"Recopa Sudamericana \",\"Supercopa \",\"Troph\\u00e9e des Champions \",\"Coupe de la Ligue \",\"Coupe de France \",\"Copa del Rey \",\"Libertadores \",\"Champions League \",\"S\\u00e9rie A \",\"LaLiga \",\"Ligue 1 \",\"\",\"\",\"\",\"\",\"\",\"\",\"\",\"\",\"\",\"\",\"\",\"\"],\"values\":[1,1,1,2,3,5,9,10,18,22,23,25,18,1,9,5,3,23,10,25,1,1,22,2],\"type\":\"sunburst\"}],                        {\"template\":{\"data\":{\"histogram2dcontour\":[{\"type\":\"histogram2dcontour\",\"colorbar\":{\"outlinewidth\":0,\"ticks\":\"\"},\"colorscale\":[[0.0,\"#0d0887\"],[0.1111111111111111,\"#46039f\"],[0.2222222222222222,\"#7201a8\"],[0.3333333333333333,\"#9c179e\"],[0.4444444444444444,\"#bd3786\"],[0.5555555555555556,\"#d8576b\"],[0.6666666666666666,\"#ed7953\"],[0.7777777777777778,\"#fb9f3a\"],[0.8888888888888888,\"#fdca26\"],[1.0,\"#f0f921\"]]}],\"choropleth\":[{\"type\":\"choropleth\",\"colorbar\":{\"outlinewidth\":0,\"ticks\":\"\"}}],\"histogram2d\":[{\"type\":\"histogram2d\",\"colorbar\":{\"outlinewidth\":0,\"ticks\":\"\"},\"colorscale\":[[0.0,\"#0d0887\"],[0.1111111111111111,\"#46039f\"],[0.2222222222222222,\"#7201a8\"],[0.3333333333333333,\"#9c179e\"],[0.4444444444444444,\"#bd3786\"],[0.5555555555555556,\"#d8576b\"],[0.6666666666666666,\"#ed7953\"],[0.7777777777777778,\"#fb9f3a\"],[0.8888888888888888,\"#fdca26\"],[1.0,\"#f0f921\"]]}],\"heatmap\":[{\"type\":\"heatmap\",\"colorbar\":{\"outlinewidth\":0,\"ticks\":\"\"},\"colorscale\":[[0.0,\"#0d0887\"],[0.1111111111111111,\"#46039f\"],[0.2222222222222222,\"#7201a8\"],[0.3333333333333333,\"#9c179e\"],[0.4444444444444444,\"#bd3786\"],[0.5555555555555556,\"#d8576b\"],[0.6666666666666666,\"#ed7953\"],[0.7777777777777778,\"#fb9f3a\"],[0.8888888888888888,\"#fdca26\"],[1.0,\"#f0f921\"]]}],\"heatmapgl\":[{\"type\":\"heatmapgl\",\"colorbar\":{\"outlinewidth\":0,\"ticks\":\"\"},\"colorscale\":[[0.0,\"#0d0887\"],[0.1111111111111111,\"#46039f\"],[0.2222222222222222,\"#7201a8\"],[0.3333333333333333,\"#9c179e\"],[0.4444444444444444,\"#bd3786\"],[0.5555555555555556,\"#d8576b\"],[0.6666666666666666,\"#ed7953\"],[0.7777777777777778,\"#fb9f3a\"],[0.8888888888888888,\"#fdca26\"],[1.0,\"#f0f921\"]]}],\"contourcarpet\":[{\"type\":\"contourcarpet\",\"colorbar\":{\"outlinewidth\":0,\"ticks\":\"\"}}],\"contour\":[{\"type\":\"contour\",\"colorbar\":{\"outlinewidth\":0,\"ticks\":\"\"},\"colorscale\":[[0.0,\"#0d0887\"],[0.1111111111111111,\"#46039f\"],[0.2222222222222222,\"#7201a8\"],[0.3333333333333333,\"#9c179e\"],[0.4444444444444444,\"#bd3786\"],[0.5555555555555556,\"#d8576b\"],[0.6666666666666666,\"#ed7953\"],[0.7777777777777778,\"#fb9f3a\"],[0.8888888888888888,\"#fdca26\"],[1.0,\"#f0f921\"]]}],\"surface\":[{\"type\":\"surface\",\"colorbar\":{\"outlinewidth\":0,\"ticks\":\"\"},\"colorscale\":[[0.0,\"#0d0887\"],[0.1111111111111111,\"#46039f\"],[0.2222222222222222,\"#7201a8\"],[0.3333333333333333,\"#9c179e\"],[0.4444444444444444,\"#bd3786\"],[0.5555555555555556,\"#d8576b\"],[0.6666666666666666,\"#ed7953\"],[0.7777777777777778,\"#fb9f3a\"],[0.8888888888888888,\"#fdca26\"],[1.0,\"#f0f921\"]]}],\"mesh3d\":[{\"type\":\"mesh3d\",\"colorbar\":{\"outlinewidth\":0,\"ticks\":\"\"}}],\"scatter\":[{\"fillpattern\":{\"fillmode\":\"overlay\",\"size\":10,\"solidity\":0.2},\"type\":\"scatter\"}],\"parcoords\":[{\"type\":\"parcoords\",\"line\":{\"colorbar\":{\"outlinewidth\":0,\"ticks\":\"\"}}}],\"scatterpolargl\":[{\"type\":\"scatterpolargl\",\"marker\":{\"colorbar\":{\"outlinewidth\":0,\"ticks\":\"\"}}}],\"bar\":[{\"error_x\":{\"color\":\"#2a3f5f\"},\"error_y\":{\"color\":\"#2a3f5f\"},\"marker\":{\"line\":{\"color\":\"#E5ECF6\",\"width\":0.5},\"pattern\":{\"fillmode\":\"overlay\",\"size\":10,\"solidity\":0.2}},\"type\":\"bar\"}],\"scattergeo\":[{\"type\":\"scattergeo\",\"marker\":{\"colorbar\":{\"outlinewidth\":0,\"ticks\":\"\"}}}],\"scatterpolar\":[{\"type\":\"scatterpolar\",\"marker\":{\"colorbar\":{\"outlinewidth\":0,\"ticks\":\"\"}}}],\"histogram\":[{\"marker\":{\"pattern\":{\"fillmode\":\"overlay\",\"size\":10,\"solidity\":0.2}},\"type\":\"histogram\"}],\"scattergl\":[{\"type\":\"scattergl\",\"marker\":{\"colorbar\":{\"outlinewidth\":0,\"ticks\":\"\"}}}],\"scatter3d\":[{\"type\":\"scatter3d\",\"line\":{\"colorbar\":{\"outlinewidth\":0,\"ticks\":\"\"}},\"marker\":{\"colorbar\":{\"outlinewidth\":0,\"ticks\":\"\"}}}],\"scattermapbox\":[{\"type\":\"scattermapbox\",\"marker\":{\"colorbar\":{\"outlinewidth\":0,\"ticks\":\"\"}}}],\"scatterternary\":[{\"type\":\"scatterternary\",\"marker\":{\"colorbar\":{\"outlinewidth\":0,\"ticks\":\"\"}}}],\"scattercarpet\":[{\"type\":\"scattercarpet\",\"marker\":{\"colorbar\":{\"outlinewidth\":0,\"ticks\":\"\"}}}],\"carpet\":[{\"aaxis\":{\"endlinecolor\":\"#2a3f5f\",\"gridcolor\":\"white\",\"linecolor\":\"white\",\"minorgridcolor\":\"white\",\"startlinecolor\":\"#2a3f5f\"},\"baxis\":{\"endlinecolor\":\"#2a3f5f\",\"gridcolor\":\"white\",\"linecolor\":\"white\",\"minorgridcolor\":\"white\",\"startlinecolor\":\"#2a3f5f\"},\"type\":\"carpet\"}],\"table\":[{\"cells\":{\"fill\":{\"color\":\"#EBF0F8\"},\"line\":{\"color\":\"white\"}},\"header\":{\"fill\":{\"color\":\"#C8D4E3\"},\"line\":{\"color\":\"white\"}},\"type\":\"table\"}],\"barpolar\":[{\"marker\":{\"line\":{\"color\":\"#E5ECF6\",\"width\":0.5},\"pattern\":{\"fillmode\":\"overlay\",\"size\":10,\"solidity\":0.2}},\"type\":\"barpolar\"}],\"pie\":[{\"automargin\":true,\"type\":\"pie\"}]},\"layout\":{\"autotypenumbers\":\"strict\",\"colorway\":[\"#636efa\",\"#EF553B\",\"#00cc96\",\"#ab63fa\",\"#FFA15A\",\"#19d3f3\",\"#FF6692\",\"#B6E880\",\"#FF97FF\",\"#FECB52\"],\"font\":{\"color\":\"#2a3f5f\"},\"hovermode\":\"closest\",\"hoverlabel\":{\"align\":\"left\"},\"paper_bgcolor\":\"white\",\"plot_bgcolor\":\"#E5ECF6\",\"polar\":{\"bgcolor\":\"#E5ECF6\",\"angularaxis\":{\"gridcolor\":\"white\",\"linecolor\":\"white\",\"ticks\":\"\"},\"radialaxis\":{\"gridcolor\":\"white\",\"linecolor\":\"white\",\"ticks\":\"\"}},\"ternary\":{\"bgcolor\":\"#E5ECF6\",\"aaxis\":{\"gridcolor\":\"white\",\"linecolor\":\"white\",\"ticks\":\"\"},\"baxis\":{\"gridcolor\":\"white\",\"linecolor\":\"white\",\"ticks\":\"\"},\"caxis\":{\"gridcolor\":\"white\",\"linecolor\":\"white\",\"ticks\":\"\"}},\"coloraxis\":{\"colorbar\":{\"outlinewidth\":0,\"ticks\":\"\"}},\"colorscale\":{\"sequential\":[[0.0,\"#0d0887\"],[0.1111111111111111,\"#46039f\"],[0.2222222222222222,\"#7201a8\"],[0.3333333333333333,\"#9c179e\"],[0.4444444444444444,\"#bd3786\"],[0.5555555555555556,\"#d8576b\"],[0.6666666666666666,\"#ed7953\"],[0.7777777777777778,\"#fb9f3a\"],[0.8888888888888888,\"#fdca26\"],[1.0,\"#f0f921\"]],\"sequentialminus\":[[0.0,\"#0d0887\"],[0.1111111111111111,\"#46039f\"],[0.2222222222222222,\"#7201a8\"],[0.3333333333333333,\"#9c179e\"],[0.4444444444444444,\"#bd3786\"],[0.5555555555555556,\"#d8576b\"],[0.6666666666666666,\"#ed7953\"],[0.7777777777777778,\"#fb9f3a\"],[0.8888888888888888,\"#fdca26\"],[1.0,\"#f0f921\"]],\"diverging\":[[0,\"#8e0152\"],[0.1,\"#c51b7d\"],[0.2,\"#de77ae\"],[0.3,\"#f1b6da\"],[0.4,\"#fde0ef\"],[0.5,\"#f7f7f7\"],[0.6,\"#e6f5d0\"],[0.7,\"#b8e186\"],[0.8,\"#7fbc41\"],[0.9,\"#4d9221\"],[1,\"#276419\"]]},\"xaxis\":{\"gridcolor\":\"white\",\"linecolor\":\"white\",\"ticks\":\"\",\"title\":{\"standoff\":15},\"zerolinecolor\":\"white\",\"automargin\":true,\"zerolinewidth\":2},\"yaxis\":{\"gridcolor\":\"white\",\"linecolor\":\"white\",\"ticks\":\"\",\"title\":{\"standoff\":15},\"zerolinecolor\":\"white\",\"automargin\":true,\"zerolinewidth\":2},\"scene\":{\"xaxis\":{\"backgroundcolor\":\"#E5ECF6\",\"gridcolor\":\"white\",\"linecolor\":\"white\",\"showbackground\":true,\"ticks\":\"\",\"zerolinecolor\":\"white\",\"gridwidth\":2},\"yaxis\":{\"backgroundcolor\":\"#E5ECF6\",\"gridcolor\":\"white\",\"linecolor\":\"white\",\"showbackground\":true,\"ticks\":\"\",\"zerolinecolor\":\"white\",\"gridwidth\":2},\"zaxis\":{\"backgroundcolor\":\"#E5ECF6\",\"gridcolor\":\"white\",\"linecolor\":\"white\",\"showbackground\":true,\"ticks\":\"\",\"zerolinecolor\":\"white\",\"gridwidth\":2}},\"shapedefaults\":{\"line\":{\"color\":\"#2a3f5f\"}},\"annotationdefaults\":{\"arrowcolor\":\"#2a3f5f\",\"arrowhead\":0,\"arrowwidth\":1},\"geo\":{\"bgcolor\":\"white\",\"landcolor\":\"#E5ECF6\",\"subunitcolor\":\"white\",\"showland\":true,\"showlakes\":true,\"lakecolor\":\"white\"},\"title\":{\"x\":0.05},\"mapbox\":{\"style\":\"light\"}}},\"legend\":{\"tracegroupgap\":0},\"title\":{\"text\":\"Cantidad de goles por Torneo.\"}},                        {\"responsive\": true}                    ).then(function(){\n",
              "                            \n",
              "var gd = document.getElementById('9f0a4c6c-9202-47ed-9797-b036aa5bc287');\n",
              "var x = new MutationObserver(function (mutations, observer) {{\n",
              "        var display = window.getComputedStyle(gd).display;\n",
              "        if (!display || display === 'none') {{\n",
              "            console.log([gd, 'removed!']);\n",
              "            Plotly.purge(gd);\n",
              "            observer.disconnect();\n",
              "        }}\n",
              "}});\n",
              "\n",
              "// Listen for the removal of the full notebook cells\n",
              "var notebookContainer = gd.closest('#notebook-container');\n",
              "if (notebookContainer) {{\n",
              "    x.observe(notebookContainer, {childList: true});\n",
              "}}\n",
              "\n",
              "// Listen for the clearing of the current output cell\n",
              "var outputEl = gd.closest('.output');\n",
              "if (outputEl) {{\n",
              "    x.observe(outputEl, {childList: true});\n",
              "}}\n",
              "\n",
              "                        })                };                            </script>        </div>\n",
              "</body>\n",
              "</html>"
            ]
          },
          "metadata": {}
        }
      ]
    },
    {
      "cell_type": "markdown",
      "source": [
        "###### Gráfico Nro. 3"
      ],
      "metadata": {
        "id": "mHapHOb05Kb0"
      }
    },
    {
      "cell_type": "code",
      "source": [
        "# Creación de un DataFrame con la estadística buscada para realizar el gráfico:\n",
        "GolesMovimiento = neymar.groupby(by=['TipoDeGol']).count()\n",
        "GolesMovimiento.reset_index(inplace = True)"
      ],
      "metadata": {
        "id": "hbx67SKj5Pj8"
      },
      "execution_count": 26,
      "outputs": []
    },
    {
      "cell_type": "code",
      "source": [
        "# Script de la cración del gráfico:\n",
        "px.strip(GolesMovimiento,\n",
        "         x = 'TipoDeGol',\n",
        "         y = 'Torneo',\n",
        "         template = 'gridon',\n",
        "         title = 'Cantidad de goles por tipo de movimiento',\n",
        "         color = 'Torneo',\n",
        "         labels = {'TipoDeGol':'Tipo de Movimiento', 'Torneo':'Cantidad De Goles'})"
      ],
      "metadata": {
        "colab": {
          "base_uri": "https://localhost:8080/",
          "height": 542
        },
        "id": "5puW01GE5PeM",
        "outputId": "7434a03d-c6c8-4f3d-b68a-53948b581d69"
      },
      "execution_count": 32,
      "outputs": [
        {
          "output_type": "display_data",
          "data": {
            "text/html": [
              "<html>\n",
              "<head><meta charset=\"utf-8\" /></head>\n",
              "<body>\n",
              "    <div>            <script src=\"https://cdnjs.cloudflare.com/ajax/libs/mathjax/2.7.5/MathJax.js?config=TeX-AMS-MML_SVG\"></script><script type=\"text/javascript\">if (window.MathJax && window.MathJax.Hub && window.MathJax.Hub.Config) {window.MathJax.Hub.Config({SVG: {font: \"STIX-Web\"}});}</script>                <script type=\"text/javascript\">window.PlotlyConfig = {MathJaxConfig: 'local'};</script>\n",
              "        <script src=\"https://cdn.plot.ly/plotly-2.14.0.min.js\"></script>                <div id=\"9fecb0d2-1aa5-4b3e-9c01-61df8617f08f\" class=\"plotly-graph-div\" style=\"height:525px; width:100%;\"></div>            <script type=\"text/javascript\">                                    window.PLOTLYENV=window.PLOTLYENV || {};                                    if (document.getElementById(\"9fecb0d2-1aa5-4b3e-9c01-61df8617f08f\")) {                    Plotly.newPlot(                        \"9fecb0d2-1aa5-4b3e-9c01-61df8617f08f\",                        [{\"alignmentgroup\":\"True\",\"boxpoints\":\"all\",\"fillcolor\":\"rgba(255,255,255,0)\",\"hoveron\":\"points\",\"hovertemplate\":\"Cantidad De Goles=%{y}<br>Tipo de Movimiento=%{x}<extra></extra>\",\"legendgroup\":\"1\",\"line\":{\"color\":\"rgba(255,255,255,0)\"},\"marker\":{\"color\":\"#1F77B4\"},\"name\":\"1\",\"offsetgroup\":\"1\",\"orientation\":\"v\",\"pointpos\":0,\"showlegend\":true,\"x\":[\"Counter attack goal\",\"Long distance kick\"],\"x0\":\" \",\"xaxis\":\"x\",\"y\":[1,1],\"y0\":\" \",\"yaxis\":\"y\",\"type\":\"box\"},{\"alignmentgroup\":\"True\",\"boxpoints\":\"all\",\"fillcolor\":\"rgba(255,255,255,0)\",\"hoveron\":\"points\",\"hovertemplate\":\"Cantidad De Goles=%{y}<br>Tipo de Movimiento=%{x}<extra></extra>\",\"legendgroup\":\"3\",\"line\":{\"color\":\"rgba(255,255,255,0)\"},\"marker\":{\"color\":\"#FF7F0E\"},\"name\":\"3\",\"offsetgroup\":\"3\",\"orientation\":\"v\",\"pointpos\":0,\"showlegend\":true,\"x\":[\"Deflected shot on goal\"],\"x0\":\" \",\"xaxis\":\"x\",\"y\":[3],\"y0\":\" \",\"yaxis\":\"y\",\"type\":\"box\"},{\"alignmentgroup\":\"True\",\"boxpoints\":\"all\",\"fillcolor\":\"rgba(255,255,255,0)\",\"hoveron\":\"points\",\"hovertemplate\":\"Cantidad De Goles=%{y}<br>Tipo de Movimiento=%{x}<extra></extra>\",\"legendgroup\":\"16\",\"line\":{\"color\":\"rgba(255,255,255,0)\"},\"marker\":{\"color\":\"#2CA02C\"},\"name\":\"16\",\"offsetgroup\":\"16\",\"orientation\":\"v\",\"pointpos\":0,\"showlegend\":true,\"x\":[\"Direct free kick\",\"Header\"],\"x0\":\" \",\"xaxis\":\"x\",\"y\":[16,16],\"y0\":\" \",\"yaxis\":\"y\",\"type\":\"box\"},{\"alignmentgroup\":\"True\",\"boxpoints\":\"all\",\"fillcolor\":\"rgba(255,255,255,0)\",\"hoveron\":\"points\",\"hovertemplate\":\"Cantidad De Goles=%{y}<br>Tipo de Movimiento=%{x}<extra></extra>\",\"legendgroup\":\"62\",\"line\":{\"color\":\"rgba(255,255,255,0)\"},\"marker\":{\"color\":\"#D62728\"},\"name\":\"62\",\"offsetgroup\":\"62\",\"orientation\":\"v\",\"pointpos\":0,\"showlegend\":true,\"x\":[\"Left-footed shot\"],\"x0\":\" \",\"xaxis\":\"x\",\"y\":[62],\"y0\":\" \",\"yaxis\":\"y\",\"type\":\"box\"},{\"alignmentgroup\":\"True\",\"boxpoints\":\"all\",\"fillcolor\":\"rgba(255,255,255,0)\",\"hoveron\":\"points\",\"hovertemplate\":\"Cantidad De Goles=%{y}<br>Tipo de Movimiento=%{x}<extra></extra>\",\"legendgroup\":\"4\",\"line\":{\"color\":\"rgba(255,255,255,0)\"},\"marker\":{\"color\":\"#9467BD\"},\"name\":\"4\",\"offsetgroup\":\"4\",\"orientation\":\"v\",\"pointpos\":0,\"showlegend\":true,\"x\":[\"Not Applicable\"],\"x0\":\" \",\"xaxis\":\"x\",\"y\":[4],\"y0\":\" \",\"yaxis\":\"y\",\"type\":\"box\"},{\"alignmentgroup\":\"True\",\"boxpoints\":\"all\",\"fillcolor\":\"rgba(255,255,255,0)\",\"hoveron\":\"points\",\"hovertemplate\":\"Cantidad De Goles=%{y}<br>Tipo de Movimiento=%{x}<extra></extra>\",\"legendgroup\":\"56\",\"line\":{\"color\":\"rgba(255,255,255,0)\"},\"marker\":{\"color\":\"#8C564B\"},\"name\":\"56\",\"offsetgroup\":\"56\",\"orientation\":\"v\",\"pointpos\":0,\"showlegend\":true,\"x\":[\"Penalty\"],\"x0\":\" \",\"xaxis\":\"x\",\"y\":[56],\"y0\":\" \",\"yaxis\":\"y\",\"type\":\"box\"},{\"alignmentgroup\":\"True\",\"boxpoints\":\"all\",\"fillcolor\":\"rgba(255,255,255,0)\",\"hoveron\":\"points\",\"hovertemplate\":\"Cantidad De Goles=%{y}<br>Tipo de Movimiento=%{x}<extra></extra>\",\"legendgroup\":\"130\",\"line\":{\"color\":\"rgba(255,255,255,0)\"},\"marker\":{\"color\":\"#E377C2\"},\"name\":\"130\",\"offsetgroup\":\"130\",\"orientation\":\"v\",\"pointpos\":0,\"showlegend\":true,\"x\":[\"Right-footed shot\"],\"x0\":\" \",\"xaxis\":\"x\",\"y\":[130],\"y0\":\" \",\"yaxis\":\"y\",\"type\":\"box\"},{\"alignmentgroup\":\"True\",\"boxpoints\":\"all\",\"fillcolor\":\"rgba(255,255,255,0)\",\"hoveron\":\"points\",\"hovertemplate\":\"Cantidad De Goles=%{y}<br>Tipo de Movimiento=%{x}<extra></extra>\",\"legendgroup\":\"8\",\"line\":{\"color\":\"rgba(255,255,255,0)\"},\"marker\":{\"color\":\"#7F7F7F\"},\"name\":\"8\",\"offsetgroup\":\"8\",\"orientation\":\"v\",\"pointpos\":0,\"showlegend\":true,\"x\":[\"Solo run\"],\"x0\":\" \",\"xaxis\":\"x\",\"y\":[8],\"y0\":\" \",\"yaxis\":\"y\",\"type\":\"box\"},{\"alignmentgroup\":\"True\",\"boxpoints\":\"all\",\"fillcolor\":\"rgba(255,255,255,0)\",\"hoveron\":\"points\",\"hovertemplate\":\"Cantidad De Goles=%{y}<br>Tipo de Movimiento=%{x}<extra></extra>\",\"legendgroup\":\"9\",\"line\":{\"color\":\"rgba(255,255,255,0)\"},\"marker\":{\"color\":\"#BCBD22\"},\"name\":\"9\",\"offsetgroup\":\"9\",\"orientation\":\"v\",\"pointpos\":0,\"showlegend\":true,\"x\":[\"Tap-in\"],\"x0\":\" \",\"xaxis\":\"x\",\"y\":[9],\"y0\":\" \",\"yaxis\":\"y\",\"type\":\"box\"}],                        {\"template\":{\"data\":{\"pie\":[{\"automargin\":true,\"type\":\"pie\"}]},\"layout\":{\"xaxis\":{\"showgrid\":true,\"title\":{\"standoff\":15}},\"yaxis\":{\"showgrid\":true,\"title\":{\"standoff\":15}}}},\"xaxis\":{\"anchor\":\"y\",\"domain\":[0.0,1.0],\"title\":{\"text\":\"Tipo de Movimiento\"}},\"yaxis\":{\"anchor\":\"x\",\"domain\":[0.0,1.0],\"title\":{\"text\":\"Cantidad De Goles\"},\"categoryorder\":\"array\",\"categoryarray\":[9,8,130,56,4,62,16,3,1]},\"legend\":{\"title\":{\"text\":\"Cantidad De Goles\"},\"tracegroupgap\":0},\"title\":{\"text\":\"Cantidad de goles por tipo de movimiento\"},\"boxmode\":\"group\"},                        {\"responsive\": true}                    ).then(function(){\n",
              "                            \n",
              "var gd = document.getElementById('9fecb0d2-1aa5-4b3e-9c01-61df8617f08f');\n",
              "var x = new MutationObserver(function (mutations, observer) {{\n",
              "        var display = window.getComputedStyle(gd).display;\n",
              "        if (!display || display === 'none') {{\n",
              "            console.log([gd, 'removed!']);\n",
              "            Plotly.purge(gd);\n",
              "            observer.disconnect();\n",
              "        }}\n",
              "}});\n",
              "\n",
              "// Listen for the removal of the full notebook cells\n",
              "var notebookContainer = gd.closest('#notebook-container');\n",
              "if (notebookContainer) {{\n",
              "    x.observe(notebookContainer, {childList: true});\n",
              "}}\n",
              "\n",
              "// Listen for the clearing of the current output cell\n",
              "var outputEl = gd.closest('.output');\n",
              "if (outputEl) {{\n",
              "    x.observe(outputEl, {childList: true});\n",
              "}}\n",
              "\n",
              "                        })                };                            </script>        </div>\n",
              "</body>\n",
              "</html>"
            ]
          },
          "metadata": {}
        }
      ]
    }
  ]
}